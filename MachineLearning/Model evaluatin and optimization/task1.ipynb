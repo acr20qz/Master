{
 "cells": [
  {
   "cell_type": "code",
   "execution_count": 2,
   "id": "8ca27c3d",
   "metadata": {},
   "outputs": [
    {
     "data": {
      "text/html": [
       "<div>\n",
       "<style scoped>\n",
       "    .dataframe tbody tr th:only-of-type {\n",
       "        vertical-align: middle;\n",
       "    }\n",
       "\n",
       "    .dataframe tbody tr th {\n",
       "        vertical-align: top;\n",
       "    }\n",
       "\n",
       "    .dataframe thead th {\n",
       "        text-align: right;\n",
       "    }\n",
       "</style>\n",
       "<table border=\"1\" class=\"dataframe\">\n",
       "  <thead>\n",
       "    <tr style=\"text-align: right;\">\n",
       "      <th></th>\n",
       "      <th>x_d</th>\n",
       "      <th>y_d</th>\n",
       "    </tr>\n",
       "  </thead>\n",
       "  <tbody>\n",
       "    <tr>\n",
       "      <th>0</th>\n",
       "      <td>33.8465</td>\n",
       "      <td>59.3003</td>\n",
       "    </tr>\n",
       "    <tr>\n",
       "      <th>1</th>\n",
       "      <td>58.5384</td>\n",
       "      <td>119.9220</td>\n",
       "    </tr>\n",
       "    <tr>\n",
       "      <th>2</th>\n",
       "      <td>87.8723</td>\n",
       "      <td>194.7350</td>\n",
       "    </tr>\n",
       "    <tr>\n",
       "      <th>3</th>\n",
       "      <td>124.8290</td>\n",
       "      <td>266.9400</td>\n",
       "    </tr>\n",
       "    <tr>\n",
       "      <th>4</th>\n",
       "      <td>184.6340</td>\n",
       "      <td>327.4480</td>\n",
       "    </tr>\n",
       "  </tbody>\n",
       "</table>\n",
       "</div>"
      ],
      "text/plain": [
       "        x_d       y_d\n",
       "0   33.8465   59.3003\n",
       "1   58.5384  119.9220\n",
       "2   87.8723  194.7350\n",
       "3  124.8290  266.9400\n",
       "4  184.6340  327.4480"
      ]
     },
     "execution_count": 2,
     "metadata": {},
     "output_type": "execute_result"
    }
   ],
   "source": [
    "import pandas as pd\n",
    "import numpy as np\n",
    "\n",
    "data_train=pd.read_csv('task1_train_data.csv')\n",
    "data_test=pd.read_csv('task1_test_data.csv')\n",
    "\n",
    "data_train.head()\n",
    "data_test.head()"
   ]
  },
  {
   "cell_type": "code",
   "execution_count": 3,
   "id": "91803fcb",
   "metadata": {
    "scrolled": true
   },
   "outputs": [
    {
     "name": "stdout",
     "output_type": "stream",
     "text": [
      "0     232.2740\n",
      "1      64.8744\n",
      "2      88.8854\n",
      "3     116.5170\n",
      "4     151.4440\n",
      "5     186.4150\n",
      "6     221.4130\n",
      "7     243.1490\n",
      "8     255.2350\n",
      "9     268.5380\n",
      "10    290.3210\n",
      "11    309.6980\n",
      "Name: x_d, dtype: float64 0     338.592\n",
      "1     141.990\n",
      "2     201.456\n",
      "3     262.136\n",
      "4     302.184\n",
      "5     324.029\n",
      "6     334.951\n",
      "7     336.165\n",
      "8     332.524\n",
      "9     325.243\n",
      "10    307.039\n",
      "11    285.194\n",
      "Name: y_d, dtype: float64\n"
     ]
    }
   ],
   "source": [
    "#训练数据与测试数据的赋值\n",
    "\n",
    "X_train= data_train.loc[:,'x_d']\n",
    "y_train= data_train.loc[:,'y_d']\n",
    "\n",
    "X_test= data_test.loc[:,'x_d']\n",
    "y_test= data_test.loc[:,'y_d']\n",
    "\n",
    "print(X_train,y_train)"
   ]
  },
  {
   "cell_type": "code",
   "execution_count": 8,
   "id": "8b32a2ca",
   "metadata": {},
   "outputs": [
    {
     "data": {
      "image/png": "[encoded data removed]",
      "text/plain": [
       "<Figure size 432x288 with 1 Axes>"
      ]
     },
     "metadata": {
      "needs_background": "light"
     },
     "output_type": "display_data"
    }
   ],
   "source": [
    "#数据可视化\n",
    "from matplotlib import pyplot as plt\n",
    "fig1=plt.figure()\n",
    "data_train = plt.scatter(X_train,y_train,label='training data')\n",
    "data_test=plt.scatter(X_test,y_test,label='test data')\n",
    "plt.title('training - test data')\n",
    "plt.xlabel('x_d')\n",
    "plt.ylabel('y_d')\n",
    "plt.legend()\n",
    "plt.show()"
   ]
  },
  {
   "cell_type": "code",
   "execution_count": 57,
   "id": "53f86fc3",
   "metadata": {},
   "outputs": [
    {
     "data": {
      "text/plain": [
       "LinearRegression()"
      ]
     },
     "execution_count": 57,
     "metadata": {},
     "output_type": "execute_result"
    }
   ],
   "source": [
    "#格式转换\n",
    "X_train=np.array(X_train)\n",
    "\n",
    "X_test=np.array(X_test)\n",
    "\n",
    "X_train=X_train.reshape(-1,1)\n",
    "\n",
    "X_test=X_test.reshape(-1,1)\n",
    "\n",
    "#线性回归模型的建立与训练\n",
    "from sklearn.linear_model import LinearRegression\n",
    "model1=LinearRegression()\n",
    "model1.fit(X_train,y_train)"
   ]
  },
  {
   "cell_type": "code",
   "execution_count": 58,
   "id": "2104e86b",
   "metadata": {},
   "outputs": [],
   "source": [
    "#模型预测\n",
    "y_train_predict=model1.predict(X_train)\n",
    "y_test_predict=model1.predict(X_test)"
   ]
  },
  {
   "cell_type": "code",
   "execution_count": 59,
   "id": "cb3d7274",
   "metadata": {},
   "outputs": [
    {
     "name": "stdout",
     "output_type": "stream",
     "text": [
      "0.5756251457400434 -1.6553718247964802\n"
     ]
    }
   ],
   "source": [
    "#模型评估\n",
    "from sklearn.metrics import r2_score\n",
    "r2_train=r2_score(y_train,y_train_predict)\n",
    "r2_test=r2_score(y_test,y_test_predict)\n",
    "print(r2_train,r2_test)"
   ]
  },
  {
   "cell_type": "code",
   "execution_count": 56,
   "id": "151a6043",
   "metadata": {},
   "outputs": [
    {
     "data": {
      "image/png": "[encoded data removed]",
      "text/plain": [
       "<Figure size 432x288 with 1 Axes>"
      ]
     },
     "metadata": {
      "needs_background": "light"
     },
     "output_type": "display_data"
    }
   ],
   "source": [
    "#结果可视化\n",
    "X_range=np.linspace(40,400,300).reshape(-1,1)\n",
    "y_range_predict=model1.predict(X_range)\n",
    "\n",
    "fig2=plt.figure()\n",
    "data_train = plt.scatter(X_train,y_train,label='training data')\n",
    "data_test=plt.scatter(X_test,y_test,label='test data')\n",
    "plt.plot(X_range,y_range_predict,'r',label='predicted curve')\n",
    "plt.title('training - test data')\n",
    "plt.xlabel('x_d')\n",
    "plt.ylabel('y_d')\n",
    "plt.legend()\n",
    "plt.show()"
   ]
  },
  {
   "cell_type": "code",
   "execution_count": 60,
   "id": "10a348d3",
   "metadata": {},
   "outputs": [
    {
     "name": "stdout",
     "output_type": "stream",
     "text": [
      "(12, 1) (12, 3)\n",
      "[[232.274 ]\n",
      " [ 64.8744]\n",
      " [ 88.8854]\n",
      " [116.517 ]\n",
      " [151.444 ]] [[1.00000000e+00 2.32274000e+02 5.39512111e+04]\n",
      " [1.00000000e+00 6.48744000e+01 4.20868778e+03]\n",
      " [1.00000000e+00 8.88854000e+01 7.90061433e+03]\n",
      " [1.00000000e+00 1.16517000e+02 1.35762113e+04]\n",
      " [1.00000000e+00 1.51444000e+02 2.29352851e+04]]\n"
     ]
    }
   ],
   "source": [
    "#生成二阶属性数据\n",
    "from sklearn.preprocessing import PolynomialFeatures\n",
    "\n",
    "poly2=PolynomialFeatures(degree=2)\n",
    "\n",
    "X_2_train = poly2.fit_transform(X_train)\n",
    "X_2_test = poly2.transform(X_test)\n",
    "\n",
    "print(X_train.shape,X_2_train.shape)\n",
    "print(X_train[0:5],X_2_train[0:5])\n"
   ]
  },
  {
   "cell_type": "code",
   "execution_count": 63,
   "id": "95c7ccc4",
   "metadata": {},
   "outputs": [],
   "source": [
    "#建立新的回归模型\n",
    "model2=LinearRegression()\n",
    "model2.fit(X_2_train,y_train)\n",
    "\n",
    "y_2_train_predict=model2.predict(X_2_train)\n",
    "y_2_test_predict=model2.predict(X_2_test)"
   ]
  },
  {
   "cell_type": "code",
   "execution_count": 64,
   "id": "3e32d3ae",
   "metadata": {},
   "outputs": [
    {
     "name": "stdout",
     "output_type": "stream",
     "text": [
      "0.9954725354913146 0.973853219157535\n"
     ]
    }
   ],
   "source": [
    "r2_2_train=r2_score(y_train,y_2_train_predict)\n",
    "r2_2_test=r2_score(y_test,y_2_test_predict)\n",
    "print(r2_2_train,r2_2_test)"
   ]
  },
  {
   "cell_type": "code",
   "execution_count": 65,
   "id": "2f88b338",
   "metadata": {},
   "outputs": [
    {
     "data": {
      "image/png": "[encoded data removed]",
      "text/plain": [
       "<Figure size 432x288 with 1 Axes>"
      ]
     },
     "metadata": {
      "needs_background": "light"
     },
     "output_type": "display_data"
    }
   ],
   "source": [
    "#结果可视化\n",
    "X_range=np.linspace(40,400,300).reshape(-1,1)\n",
    "X_2_range=poly2.transform(X_range)\n",
    "y_2_range_predict=model2.predict(X_2_range)\n",
    "\n",
    "fig3=plt.figure()\n",
    "data_train = plt.scatter(X_train,y_train,label='training data')\n",
    "data_test=plt.scatter(X_test,y_test,label='test data')\n",
    "plt.plot(X_range,y_2_range_predict,'r',label='predicted curve')\n",
    "plt.title('training - test data')\n",
    "plt.xlabel('x_d')\n",
    "plt.ylabel('y_d')\n",
    "plt.legend()\n",
    "plt.show()"
   ]
  },
  {
   "cell_type": "code",
   "execution_count": 43,
   "id": "378fe609",
   "metadata": {},
   "outputs": [],
   "source": [
    "#生成6阶属性数据\n",
    "poly6=PolynomialFeatures(degree=6)\n",
    "\n",
    "X_6_train = poly6.fit_transform(X_train)\n",
    "X_6_test = poly6.transform(X_test)"
   ]
  },
  {
   "cell_type": "code",
   "execution_count": 66,
   "id": "0360c9a6",
   "metadata": {},
   "outputs": [],
   "source": [
    "model3=LinearRegression()\n",
    "model3.fit(X_6_train,y_train)\n",
    "\n",
    "y_6_train_predict=model3.predict(X_6_train)\n",
    "y_6_test_predict=model3.predict(X_6_test)"
   ]
  },
  {
   "cell_type": "code",
   "execution_count": 67,
   "id": "b20a3b84",
   "metadata": {},
   "outputs": [
    {
     "name": "stdout",
     "output_type": "stream",
     "text": [
      "0.9996724711143301 -3.570947057565447\n"
     ]
    }
   ],
   "source": [
    "r2_6_train=r2_score(y_train,y_6_train_predict)\n",
    "r2_6_test=r2_score(y_test,y_6_test_predict)\n",
    "print(r2_6_train,r2_6_test)"
   ]
  },
  {
   "cell_type": "code",
   "execution_count": 68,
   "id": "ac68fac4",
   "metadata": {},
   "outputs": [
    {
     "data": {
      "image/png": "[encoded data removed]",
      "text/plain": [
       "<Figure size 432x288 with 1 Axes>"
      ]
     },
     "metadata": {
      "needs_background": "light"
     },
     "output_type": "display_data"
    }
   ],
   "source": [
    "#结果可视化\n",
    "X_range=np.linspace(40,400,300).reshape(-1,1)\n",
    "X_6_range=poly6.transform(X_range)\n",
    "y_6_range_predict=model3.predict(X_6_range)\n",
    "\n",
    "fig3=plt.figure()\n",
    "data_train = plt.scatter(X_train,y_train,label='training data')\n",
    "data_test=plt.scatter(X_test,y_test,label='test data')\n",
    "plt.plot(X_range,y_6_range_predict,'r',label='predicted curve')\n",
    "plt.title('training - test data')\n",
    "plt.xlabel('x_d')\n",
    "plt.ylabel('y_d')\n",
    "plt.legend()\n",
    "plt.show()"
   ]
  },
  {
   "cell_type": "code",
   "execution_count": null,
   "id": "4d172b0c",
   "metadata": {},
   "outputs": [],
   "source": []
  },
  {
   "cell_type": "code",
   "execution_count": null,
   "id": "db603c95",
   "metadata": {},
   "outputs": [],
   "source": []
  },
  {
   "cell_type": "code",
   "execution_count": null,
   "id": "674bf687",
   "metadata": {},
   "outputs": [],
   "source": []
  },
  {
   "cell_type": "code",
   "execution_count": null,
   "id": "8ed1e005",
   "metadata": {},
   "outputs": [],
   "source": []
  },
  {
   "cell_type": "code",
   "execution_count": null,
   "id": "ff9cb549",
   "metadata": {},
   "outputs": [],
   "source": []
  },
  {
   "cell_type": "code",
   "execution_count": null,
   "id": "cb0782d0",
   "metadata": {},
   "outputs": [],
   "source": []
  },
  {
   "cell_type": "code",
   "execution_count": null,
   "id": "7236672a",
   "metadata": {},
   "outputs": [],
   "source": []
  }
 ],
 "metadata": {
  "kernelspec": {
   "display_name": "Python 3",
   "language": "python",
   "name": "python3"
  },
  "language_info": {
   "codemirror_mode": {
    "name": "ipython",
    "version": 3
   },
   "file_extension": ".py",
   "mimetype": "text/x-python",
   "name": "python",
   "nbconvert_exporter": "python",
   "pygments_lexer": "ipython3",
   "version": "3.8.10"
  }
 },
 "nbformat": 4,
 "nbformat_minor": 5
}
