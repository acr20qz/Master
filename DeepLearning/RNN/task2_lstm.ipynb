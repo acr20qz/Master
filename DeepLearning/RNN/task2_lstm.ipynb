{
 "cells": [
  {
   "cell_type": "code",
   "execution_count": 1,
   "id": "c0699c6e",
   "metadata": {
    "scrolled": true
   },
   "outputs": [
    {
     "name": "stdout",
     "output_type": "stream",
     "text": [
      "Artificial intelligence (AI), sometimes called machine intelligence, is intelligence demonstrated by machines, unlike the natural intelligence displayed by humans and animals. Leading AI textbooks define the field as the study of \"intelligent agents\": any device that perceives its environment and takes actions that maximize its chance of successfully achieving its goals.Artificial intelligence (AI), sometimes called machine intelligence, is intelligence demonstrated by machines, unlike the natural intelligence displayed by humans and animals. Leading AI textbooks define the field as the study of \"intelligent agents\": any device that perceives its environment and takes actions that maximize its chance of successfully achieving its goals.Artificial intelligence (AI), sometimes called machine intelligence, is intelligence demonstrated by machines, unlike the natural intelligence displayed by humans and animals. Leading AI textbooks define the field as the study of \"intelligent agents\": any device that perceives its environment and takes actions that maximize its chance of successfully achieving its goals.Artificial intelligence (AI), sometimes called machine intelligence, is intelligence demonstrated by machines, unlike the natural intelligence displayed by humans and animals. Leading AI textbooks define the field as the study of \"intelligent agents\": any device that perceives its environment and takes actions that maximize its chance of successfully achieving its goals.Artificial intelligence (AI), sometimes called machine intelligence, is intelligence demonstrated by machines, unlike the natural intelligence displayed by humans and animals. Leading AI textbooks define the field as the study of \"intelligent agents\": any device that perceives its environment and takes actions that maximize its chance of successfully achieving its goals.Artificial intelligence (AI), sometimes called machine intelligence, is intelligence demonstrated by machines, unlike the natural intelligence displayed by humans and animals. Leading AI textbooks define the field as the study of \"intelligent agents\": any device that perceives its environment and takes actions that maximize its chance of successfully achieving its goals.Artificial intelligence (AI), sometimes called machine intelligence, is intelligence demonstrated by machines, unlike the natural intelligence displayed by humans and animals. Leading AI textbooks define the field as the study of \"intelligent agents\": any device that perceives its environment and takes actions that maximize its chance of successfully achieving its goals.Artificial intelligence (AI), sometimes called machine intelligence, is intelligence demonstrated by machines, unlike the natural intelligence displayed by humans and animals. Leading AI textbooks define the field as the study of \"intelligent agents\": any device that perceives its environment and takes actions that maximize its chance of successfully achieving its goals.Artificial intelligence (AI), sometimes called machine intelligence, is intelligence demonstrated by machines, unlike the natural intelligence displayed by humans and animals. Leading AI textbooks define the field as the study of \"intelligent agents\": any device that perceives its environment and takes actions that maximize its chance of successfully achieving its goals.Artificial intelligence (AI), sometimes called machine intelligence, is intelligence demonstrated by machines, unlike the natural intelligence displayed by humans and animals. Leading AI textbooks define the field as the study of \"intelligent agents\": any device that perceives its environment and takes actions that maximize its chance of successfully achieving its goals.Artificial intelligence (AI), sometimes called machine intelligence, is intelligence demonstrated by machines, unlike the natural intelligence displayed by humans and animals. Leading AI textbooks define the field as the study of \"intelligent agents\": any device that perceives its environment and takes actions that maximize its chance of successfully achieving its goals.Artificial intelligence (AI), sometimes called machine intelligence, is intelligence demonstrated by machines, unlike the natural intelligence displayed by humans and animals. Leading AI textbooks define the field as the study of \"intelligent agents\": any device that perceives its environment and takes actions that maximize its chance of successfully achieving its goals.Artificial intelligence (AI), sometimes called machine intelligence, is intelligence demonstrated by machines, unlike the natural intelligence displayed by humans and animals. Leading AI textbooks define the field as the study of \"intelligent agents\": any device that perceives its environment and takes actions that maximize its chance of successfully achieving its goals.Artificial intelligence (AI), sometimes called machine intelligence, is intelligence demonstrated by machines, unlike the natural intelligence displayed by humans and animals. Leading AI textbooks define the field as the study of \"intelligent agents\": any device that perceives its environment and takes actions that maximize its chance of successfully achieving its goals.Artificial intelligence (AI), sometimes called machine intelligence, is intelligence demonstrated by machines, unlike the natural intelligence displayed by humans and animals. Leading AI textbooks define the field as the study of \"intelligent agents\": any device that perceives its environment and takes actions that maximize its chance of successfully achieving its goals.Artificial intelligence (AI), sometimes called machine intelligence, is intelligence demonstrated by machines, unlike the natural intelligence displayed by humans and animals. Leading AI textbooks define the field as the study of \"intelligent agents\": any device that perceives its environment and takes actions that maximize its chance of successfully achieving its goals.Artificial intelligence (AI), sometimes called machine intelligence, is intelligence demonstrated by machines, unlike the natural intelligence displayed by humans and animals. Leading AI textbooks define the field as the study of \"intelligent agents\": any device that perceives its environment and takes actions that maximize its chance of successfully achieving its goals.Artificial intelligence (AI), sometimes called machine intelligence, is intelligence demonstrated by machines, unlike the natural intelligence displayed by humans and animals. Leading AI textbooks define the field as the study of \"intelligent agents\": any device that perceives its environment and takes actions that maximize its chance of successfully achieving its goals.Artificial intelligence (AI), sometimes called machine intelligence, is intelligence demonstrated by machines, unlike the natural intelligence displayed by humans and animals. Leading AI textbooks define the field as the study of \"intelligent agents\": any device that perceives its environment and takes actions that maximize its chance of successfully achieving its goals.Artificial intelligence (AI), sometimes called machine intelligence, is intelligence demonstrated by machines, unlike the natural intelligence displayed by humans and animals. Leading AI textbooks define the field as the study of \"intelligent agents\": any device that perceives its environment and takes actions that maximize its chance of successfully achieving its goals.Artificial intelligence (AI), sometimes called machine intelligence, is intelligence demonstrated by machines, unlike the natural intelligence displayed by humans and animals. Leading AI textbooks define the field as the study of \"intelligent agents\": any device that perceives its environment and takes actions that maximize its chance of successfully achieving its goals.Artificial intelligence (AI), sometimes called machine intelligence, is intelligence demonstrated by machines, unlike the natural intelligence displayed by humans and animals. Leading AI textbooks define the field as the study of \"intelligent agents\": any device that perceives its environment and takes actions that maximize its chance of successfully achieving its goals.Artificial intelligence (AI), sometimes called machine intelligence, is intelligence demonstrated by machines, unlike the natural intelligence displayed by humans and animals. Leading AI textbooks define the field as the study of \"intelligent agents\": any device that perceives its environment and takes actions that maximize its chance of successfully achieving its goals.Artificial intelligence (AI), sometimes called machine intelligence, is intelligence demonstrated by machines, unlike the natural intelligence displayed by humans and animals. Leading AI textbooks define the field as the study of \"intelligent agents\": any device that perceives its environment and takes actions that maximize its chance of successfully achieving its goals.Artificial intelligence (AI), sometimes called machine intelligence, is intelligence demonstrated by machines, unlike the natural intelligence displayed by humans and animals. Leading AI textbooks define the field as the study of \"intelligent agents\": any device that perceives its environment and takes actions that maximize its chance of successfully achieving its goals.Artificial intelligence (AI), sometimes called machine intelligence, is intelligence demonstrated by machines, unlike the natural intelligence displayed by humans and animals. Leading AI textbooks define the field as the study of \"intelligent agents\": any device that perceives its environment and takes actions that maximize its chance of successfully achieving its goals.Artificial intelligence (AI), sometimes called machine intelligence, is intelligence demonstrated by machines, unlike the natural intelligence displayed by humans and animals. Leading AI textbooks define the field as the study of \"intelligent agents\": any device that perceives its environment and takes actions that maximize its chance of successfully achieving its goals.Artificial intelligence (AI), sometimes called machine intelligence, is intelligence demonstrated by machines, unlike the natural intelligence displayed by humans and animals. Leading AI textbooks define the field as the study of \"intelligent agents\": any device that perceives its environment and takes actions that maximize its chance of successfully achieving its goals.Artificial intelligence (AI), sometimes called machine intelligence, is intelligence demonstrated by machines, unlike the natural intelligence displayed by humans and animals. Leading AI textbooks define the field as the study of \"intelligent agents\": any device that perceives its environment and takes actions that maximize its chance of successfully achieving its goals.Artificial intelligence (AI), sometimes called machine intelligence, is intelligence demonstrated by machines, unlike the natural intelligence displayed by humans and animals. Leading AI textbooks define the field as the study of \"intelligent agents\": any device that perceives its environment and takes actions that maximize its chance of successfully achieving its goals.\n"
     ]
    }
   ],
   "source": [
    "#文本数据加载\n",
    "data = open('task2_data').read()\n",
    "#移除换行符\n",
    "data = data.replace('\\n','').replace('\\r','')\n",
    "print(data)"
   ]
  },
  {
   "cell_type": "code",
   "execution_count": 2,
   "id": "51d74a0c",
   "metadata": {},
   "outputs": [
    {
     "name": "stdout",
     "output_type": "stream",
     "text": [
      "['i', 'd', 'v', '\"', 'p', 'r', 'a', 's', ':', '(', '.', 'k', 'o', 'n', 'g', 'u', 'z', ' ', ')', 't', 'L', 'e', 'c', 'A', ',', 'f', 'l', 'm', 'x', 'h', 'y', 'b', 'I']\n",
      "33\n"
     ]
    }
   ],
   "source": [
    "#字符字母的去重处理\n",
    "letters = list(set(data))\n",
    "print(letters)\n",
    "features = len(letters)\n",
    "print(features)"
   ]
  },
  {
   "cell_type": "code",
   "execution_count": 3,
   "id": "a460732f",
   "metadata": {},
   "outputs": [
    {
     "name": "stdout",
     "output_type": "stream",
     "text": [
      "{0: 'i', 1: 'd', 2: 'v', 3: '\"', 4: 'p', 5: 'r', 6: 'a', 7: 's', 8: ':', 9: '(', 10: '.', 11: 'k', 12: 'o', 13: 'n', 14: 'g', 15: 'u', 16: 'z', 17: ' ', 18: ')', 19: 't', 20: 'L', 21: 'e', 22: 'c', 23: 'A', 24: ',', 25: 'f', 26: 'l', 27: 'm', 28: 'x', 29: 'h', 30: 'y', 31: 'b', 32: 'I'}\n",
      "{'i': 0, 'd': 1, 'v': 2, '\"': 3, 'p': 4, 'r': 5, 'a': 6, 's': 7, ':': 8, '(': 9, '.': 10, 'k': 11, 'o': 12, 'n': 13, 'g': 14, 'u': 15, 'z': 16, ' ': 17, ')': 18, 't': 19, 'L': 20, 'e': 21, 'c': 22, 'A': 23, ',': 24, 'f': 25, 'l': 26, 'm': 27, 'x': 28, 'h': 29, 'y': 30, 'b': 31, 'I': 32}\n"
     ]
    }
   ],
   "source": [
    "#建立字典\n",
    "#数字：字符字典\n",
    "int_to_char = {a:b for a,b in enumerate(letters)}\n",
    "print(int_to_char)\n",
    "#字符：数字字典\n",
    "char_to_int = {b:a for a,b in enumerate(letters)}\n",
    "print(char_to_int)"
   ]
  },
  {
   "cell_type": "code",
   "execution_count": 4,
   "id": "fe4a7787",
   "metadata": {},
   "outputs": [],
   "source": [
    "#time_step\n",
    "time_step = 30"
   ]
  },
  {
   "cell_type": "code",
   "execution_count": 6,
   "id": "b5f29ddc",
   "metadata": {},
   "outputs": [],
   "source": [
    "import numpy as np\n",
    "from tensorflow.python.keras.utils.np_utils import to_categorical\n",
    "#滑动窗口提取数据\n",
    "def extract_data(data, slide):    \n",
    "    x = []\n",
    "    y = []    \n",
    "    for i in range(len(data) - slide):\n",
    "        x.append([a for a in data[i:i+slide]])\n",
    "        y.append(data[i+slide])        \n",
    "    return x,y\n",
    "#字符到数字的批量转化\n",
    "def char_to_int_Data(x,y, char_to_int):    \n",
    "    x_to_int = []\n",
    "    y_to_int = []\n",
    "    for i in range(len(x)):\n",
    "        x_to_int.append([char_to_int[char] for char in x[i]])\n",
    "        y_to_int.append([char_to_int[char] for char in y[i]])    \n",
    "    return x_to_int, y_to_int\n",
    "#实现输入字符文章的批量处理，输入整个字符、滑动窗口大小、转化字典\n",
    "def data_preprocessing(data, slide, num_letters, char_to_int):    \n",
    "    char_Data = extract_data(data, slide)\n",
    "    int_Data = char_to_int_Data(char_Data[0], char_Data[1], char_to_int)\n",
    "    Input = int_Data[0]\n",
    "    Output = list(np.array(int_Data[1]).flatten())\n",
    "    Input_RESHAPED = np.array(Input).reshape(len(Input), slide)\n",
    "    new = np.random.randint(0,10,size=[Input_RESHAPED.shape[0],Input_RESHAPED.shape[1],num_letters])\n",
    "    for i in range(Input_RESHAPED.shape[0]):\n",
    "        for j in range(Input_RESHAPED.shape[1]):\n",
    "            new[i,j,:] = to_categorical(Input_RESHAPED[i,j],num_classes=num_letters)\n",
    "    return new, Output"
   ]
  },
  {
   "cell_type": "code",
   "execution_count": 7,
   "id": "2d2ff761",
   "metadata": {
    "scrolled": true
   },
   "outputs": [
    {
     "name": "stdout",
     "output_type": "stream",
     "text": [
      "[[0 0 0 0 0 0 0 0 0 0 0 0 0 0 0 0 0 0 0 0 0 0 0 1 0 0 0 0 0 0 0 0 0]\n",
      " [0 0 0 0 0 1 0 0 0 0 0 0 0 0 0 0 0 0 0 0 0 0 0 0 0 0 0 0 0 0 0 0 0]\n",
      " [0 0 0 0 0 0 0 0 0 0 0 0 0 0 0 0 0 0 0 1 0 0 0 0 0 0 0 0 0 0 0 0 0]\n",
      " [1 0 0 0 0 0 0 0 0 0 0 0 0 0 0 0 0 0 0 0 0 0 0 0 0 0 0 0 0 0 0 0 0]\n",
      " [0 0 0 0 0 0 0 0 0 0 0 0 0 0 0 0 0 0 0 0 0 0 0 0 0 1 0 0 0 0 0 0 0]\n",
      " [1 0 0 0 0 0 0 0 0 0 0 0 0 0 0 0 0 0 0 0 0 0 0 0 0 0 0 0 0 0 0 0 0]\n",
      " [0 0 0 0 0 0 0 0 0 0 0 0 0 0 0 0 0 0 0 0 0 0 1 0 0 0 0 0 0 0 0 0 0]\n",
      " [1 0 0 0 0 0 0 0 0 0 0 0 0 0 0 0 0 0 0 0 0 0 0 0 0 0 0 0 0 0 0 0 0]\n",
      " [0 0 0 0 0 0 1 0 0 0 0 0 0 0 0 0 0 0 0 0 0 0 0 0 0 0 0 0 0 0 0 0 0]\n",
      " [0 0 0 0 0 0 0 0 0 0 0 0 0 0 0 0 0 0 0 0 0 0 0 0 0 0 1 0 0 0 0 0 0]\n",
      " [0 0 0 0 0 0 0 0 0 0 0 0 0 0 0 0 0 1 0 0 0 0 0 0 0 0 0 0 0 0 0 0 0]\n",
      " [1 0 0 0 0 0 0 0 0 0 0 0 0 0 0 0 0 0 0 0 0 0 0 0 0 0 0 0 0 0 0 0 0]\n",
      " [0 0 0 0 0 0 0 0 0 0 0 0 0 1 0 0 0 0 0 0 0 0 0 0 0 0 0 0 0 0 0 0 0]\n",
      " [0 0 0 0 0 0 0 0 0 0 0 0 0 0 0 0 0 0 0 1 0 0 0 0 0 0 0 0 0 0 0 0 0]\n",
      " [0 0 0 0 0 0 0 0 0 0 0 0 0 0 0 0 0 0 0 0 0 1 0 0 0 0 0 0 0 0 0 0 0]\n",
      " [0 0 0 0 0 0 0 0 0 0 0 0 0 0 0 0 0 0 0 0 0 0 0 0 0 0 1 0 0 0 0 0 0]\n",
      " [0 0 0 0 0 0 0 0 0 0 0 0 0 0 0 0 0 0 0 0 0 0 0 0 0 0 1 0 0 0 0 0 0]\n",
      " [1 0 0 0 0 0 0 0 0 0 0 0 0 0 0 0 0 0 0 0 0 0 0 0 0 0 0 0 0 0 0 0 0]\n",
      " [0 0 0 0 0 0 0 0 0 0 0 0 0 0 1 0 0 0 0 0 0 0 0 0 0 0 0 0 0 0 0 0 0]\n",
      " [0 0 0 0 0 0 0 0 0 0 0 0 0 0 0 0 0 0 0 0 0 1 0 0 0 0 0 0 0 0 0 0 0]\n",
      " [0 0 0 0 0 0 0 0 0 0 0 0 0 1 0 0 0 0 0 0 0 0 0 0 0 0 0 0 0 0 0 0 0]\n",
      " [0 0 0 0 0 0 0 0 0 0 0 0 0 0 0 0 0 0 0 0 0 0 1 0 0 0 0 0 0 0 0 0 0]\n",
      " [0 0 0 0 0 0 0 0 0 0 0 0 0 0 0 0 0 0 0 0 0 1 0 0 0 0 0 0 0 0 0 0 0]\n",
      " [0 0 0 0 0 0 0 0 0 0 0 0 0 0 0 0 0 1 0 0 0 0 0 0 0 0 0 0 0 0 0 0 0]\n",
      " [0 0 0 0 0 0 0 0 0 1 0 0 0 0 0 0 0 0 0 0 0 0 0 0 0 0 0 0 0 0 0 0 0]\n",
      " [0 0 0 0 0 0 0 0 0 0 0 0 0 0 0 0 0 0 0 0 0 0 0 1 0 0 0 0 0 0 0 0 0]\n",
      " [0 0 0 0 0 0 0 0 0 0 0 0 0 0 0 0 0 0 0 0 0 0 0 0 0 0 0 0 0 0 0 0 1]\n",
      " [0 0 0 0 0 0 0 0 0 0 0 0 0 0 0 0 0 0 1 0 0 0 0 0 0 0 0 0 0 0 0 0 0]\n",
      " [0 0 0 0 0 0 0 0 0 0 0 0 0 0 0 0 0 0 0 0 0 0 0 0 1 0 0 0 0 0 0 0 0]\n",
      " [0 0 0 0 0 0 0 0 0 0 0 0 0 0 0 0 0 1 0 0 0 0 0 0 0 0 0 0 0 0 0 0 0]]\n"
     ]
    }
   ],
   "source": [
    "#字符串处理\n",
    "# print(data)\n",
    "X, y = data_preprocessing(data,time_step,features,char_to_int)\n",
    "print(X[0,:,:])"
   ]
  },
  {
   "cell_type": "code",
   "execution_count": 8,
   "id": "c96a1931",
   "metadata": {},
   "outputs": [
    {
     "name": "stdout",
     "output_type": "stream",
     "text": [
      "(30, 33)\n"
     ]
    }
   ],
   "source": [
    "print(X[0,:,:].shape)"
   ]
  },
  {
   "cell_type": "code",
   "execution_count": 9,
   "id": "bef7d287",
   "metadata": {},
   "outputs": [
    {
     "name": "stdout",
     "output_type": "stream",
     "text": [
      "(11160, 30, 33) 11160\n"
     ]
    }
   ],
   "source": [
    "print(X.shape,len(y))"
   ]
  },
  {
   "cell_type": "code",
   "execution_count": 10,
   "id": "6ac012b8",
   "metadata": {},
   "outputs": [
    {
     "name": "stdout",
     "output_type": "stream",
     "text": [
      "(11160, 30, 33) (10044, 30, 33) (1116, 30, 33)\n",
      "11160 10044 1116\n"
     ]
    }
   ],
   "source": [
    "#数据分离\n",
    "from sklearn.model_selection import train_test_split\n",
    "X_train,X_test,y_train,y_test = train_test_split(X,y,test_size=0.1,random_state=0)\n",
    "print(X.shape,X_train.shape,X_test.shape)\n",
    "print(len(y),len(y_train),len(y_test))"
   ]
  },
  {
   "cell_type": "code",
   "execution_count": 11,
   "id": "b5c11b97",
   "metadata": {
    "scrolled": true
   },
   "outputs": [
    {
     "name": "stdout",
     "output_type": "stream",
     "text": [
      "[21, 21, 17, 17, 0, 17, 0, 14, 22, 7, 6, 21, 6, 17, 21, 17, 21, 21, 12, 11, 14, 26, 26, 19, 13, 23, 17, 13, 7, 0, 6, 17, 26, 14, 31, 7, 21, 21, 22, 12, 19, 0, 0, 17, 6, 13, 21, 5, 21, 17, 7, 17, 0, 6, 24, 17, 13, 26, 21, 27, 0, 0, 25, 26, 25, 7, 4, 20, 12, 17, 17, 21, 7, 13, 25, 31, 17, 14, 17, 0, 0, 12, 21, 21, 17, 0, 15, 14, 29, 13, 19, 21, 0, 1, 8, 17, 17, 21, 17, 0, 0, 0, 32, 26, 22, 26, 1, 7, 13, 0, 28, 2, 28, 2, 17, 27, 22, 7, 6, 2, 17, 22, 7, 6, 13, 17, 6, 29, 15, 23, 7, 17, 21, 6, 13, 17, 12, 17, 21, 1, 21, 22, 13, 9, 11, 19, 15, 1, 11, 0, 19, 15, 17, 13, 19, 19, 17, 17, 7, 1, 0, 19, 13, 26, 1, 32, 21, 21, 21, 27, 13, 17, 0, 13, 13, 17, 5, 27, 14, 7, 28, 17, 6, 6, 27, 22, 17, 7, 0, 27, 26, 19, 0, 17, 17, 17, 1, 17, 1, 17, 21, 7, 21, 19, 13, 19, 21, 13, 25, 21, 27, 17, 13, 13, 4, 21, 17, 19, 7, 13, 12, 0, 7, 4, 28, 0, 19, 27, 17, 16, 3, 30, 17, 27, 5, 13, 31, 17, 3, 17, 13, 21, 30, 17, 19, 12, 17, 12, 6, 17, 17, 11, 13, 21, 7, 29, 17, 2, 0, 19, 17, 15, 7, 10, 7, 13, 19, 21, 17, 27, 10, 19, 26, 29, 24, 7, 0, 27, 13, 13, 14, 17, 17, 21, 7, 13, 1, 19, 21, 17, 29, 13, 1, 0, 13, 7, 29, 19, 26, 6, 21, 26, 13, 0, 0, 19, 7, 22, 21, 4, 7, 17, 19, 13, 21, 30, 5, 19, 6, 12, 2, 24, 26, 13, 21, 0, 15, 1, 4, 22, 25, 0, 21, 17, 5, 5, 12, 7, 17, 17, 23, 14, 24, 7, 14, 21, 7, 0, 17, 0, 17, 14, 29, 12, 6, 21, 21, 10, 0, 5, 22, 17, 27, 17, 17, 21, 6, 19, 13, 1, 26, 21, 12, 19, 6, 11, 19, 22, 21, 17, 14, 13, 0, 6, 21, 13, 26, 21, 19, 13, 19, 30, 1, 17, 21, 21, 1, 13, 22, 13, 11, 17, 27, 26, 12, 17, 19, 8, 26, 32, 7, 13, 21, 27, 17, 32, 13, 11, 29, 17, 7, 0, 13, 29, 17, 19, 12, 17, 11, 6, 19, 17, 21, 7, 32, 0, 26, 6, 17, 22, 17, 12, 6, 1, 17, 21, 12, 0, 7, 0, 1, 8, 13, 6, 0, 13, 15, 21, 1, 6, 15, 7, 15, 21, 0, 17, 17, 10, 22, 7, 19, 12, 13, 7, 26, 21, 26, 0, 29, 14, 17, 31, 1, 1, 17, 14, 21, 19, 32, 0, 11, 21, 0, 7, 30, 6, 9, 0, 12, 7, 5, 21, 17, 0, 27, 17, 19, 14, 14, 21, 19, 7, 26, 6, 0, 21, 19, 21, 0, 7, 19, 6, 26, 23, 32, 21, 17, 6, 21, 0, 19, 21, 27, 21, 15, 21, 29, 31, 19, 25, 17, 13, 17, 12, 7, 22, 0, 29, 29, 27, 27, 6, 17, 26, 2, 21, 27, 12, 12, 15, 21, 17, 13, 21, 30, 14, 21, 17, 12, 27, 2, 26, 30, 24, 13, 26, 17, 4, 0, 26, 26, 2, 0, 21, 13, 23, 17, 21, 19, 21, 7, 6, 13, 26, 26, 22, 15, 0, 29, 0, 0, 29, 19, 13, 17, 13, 22, 5, 7, 29, 19, 13, 7, 6, 6, 6, 29, 15, 13, 30, 13, 26, 0, 17, 29, 17, 1, 12, 5, 0, 17, 0, 6, 19, 26, 13, 17, 19, 21, 11, 13, 17, 22, 25, 21, 22, 7, 29, 19, 15, 26, 22, 21, 26, 29, 30, 21, 5, 13, 1, 17, 21, 17, 26, 13, 6, 13, 21, 6, 26, 6, 13, 13, 0, 3, 15, 22, 19, 13, 14, 13, 13, 26, 17, 26, 9, 19, 17, 29, 32, 27, 19, 1, 21, 30, 17, 11, 17, 19, 30, 6, 0, 19, 6, 7, 12, 13, 13, 23, 1, 21, 14, 7, 5, 22, 19, 1, 7, 27, 2, 21, 0, 22, 15, 27, 19, 6, 6, 5, 29, 3, 11, 26, 6, 1, 21, 13, 26, 14, 6, 7, 7, 22, 17, 32, 29, 25, 21, 0, 6, 6, 13, 17, 28, 11, 27, 0, 6, 26, 26, 26, 19, 24, 19, 13, 21, 7, 0, 27, 29, 14, 17, 26, 17, 25, 17, 5, 17, 17, 6, 7, 6, 6, 26, 6, 26, 19, 21, 19, 17, 26, 6, 3, 21, 31, 13, 4, 6, 13, 0, 13, 12, 13, 0, 7, 0, 0, 15, 0, 13, 19, 22, 13, 30, 27, 12, 13, 17, 24, 19, 21, 17, 26, 6, 13, 7, 0, 22, 7, 17, 8, 29, 17, 30, 21, 19, 1, 21, 12, 25, 19, 7, 26, 6, 12, 17, 5, 17, 29, 19, 26, 21, 21, 6, 23, 0, 0, 12, 6, 17, 19, 25, 6, 25, 15, 21, 7, 28, 0, 14, 13, 12, 1, 13, 21, 6, 0, 28, 7, 19, 5, 12, 16, 13, 13, 1, 13, 17, 30, 0, 7, 5, 14, 13, 21, 17, 15, 21, 0, 7, 27, 12, 26, 26, 6, 7, 17, 21, 13, 27, 6, 0, 12, 0, 32, 29, 1, 6, 7, 17, 30, 27, 21, 1, 26, 32, 19, 7, 19, 21, 17, 21, 7, 17, 17, 14, 0, 29, 25, 12, 21, 17, 15, 0, 0, 30, 17, 22, 14, 29, 17, 2, 14, 0, 21, 21, 19, 12, 3, 0, 21, 19, 7, 13, 23, 17, 6, 6, 21, 21, 12, 17, 31, 17, 19, 21, 21, 25, 5, 13, 17, 21, 13, 19, 21, 21, 0, 30, 30, 17, 0, 13, 0, 27, 17, 19, 28, 6, 7, 21, 12, 13, 30, 21, 0, 21, 17, 17, 0, 27, 0, 29, 19, 0, 6, 30, 17, 0, 0, 21, 19, 29, 21, 11, 29, 6, 19, 17, 23, 0, 0, 21, 22, 13, 1, 21, 13, 14, 17, 19, 7, 26, 11, 22, 21, 6, 17, 11, 21, 22, 21, 21, 24, 0, 13, 7, 13, 26, 17, 17, 6, 31, 27, 5, 32, 11, 6, 22, 13, 17, 2, 6, 1, 6, 12, 28, 22, 17, 21, 6, 21, 21, 15, 14, 3, 26, 12, 29, 0, 21, 19, 19, 26, 19, 7, 27, 15, 1, 19, 2, 10, 6, 21, 0, 6, 21, 21, 27, 21, 17, 17, 6, 6, 17, 22, 23, 19, 26, 0, 3, 17, 32, 0, 13, 6, 19, 26, 1, 21, 13, 1, 30, 17, 8, 14, 17, 7, 0, 26, 17, 17, 0, 26, 19, 6, 27, 13, 26, 13, 19, 27, 26, 12, 17, 19, 13, 21, 21, 6, 21, 13, 30, 17, 17, 6, 27, 15, 6, 1, 21, 1, 29, 17, 7, 14, 28, 6, 17, 21, 26, 7, 22, 1, 13, 17, 6, 0, 28, 17, 7, 0, 25, 6, 29, 21, 5, 1, 19, 25, 7, 11, 17, 1, 27, 9, 25, 7, 26, 27, 13, 17, 7, 1, 0, 26, 6, 0, 7, 0, 21, 0, 17, 17, 6, 21, 21, 29, 21, 17, 17, 17, 17, 17, 21, 17, 17, 2, 21, 21, 0, 19, 17, 7, 6, 13, 17, 13, 5, 13, 17, 17, 27, 11, 21, 14, 26, 10, 25, 19, 5, 31, 26, 15, 7, 21, 6, 21, 6, 21, 2, 0, 19, 11, 22, 22, 17, 23, 29, 17, 17, 19, 6, 21, 10, 26, 21, 17, 13, 17, 6, 27, 26, 19, 30, 10, 28, 29, 7, 19, 17, 12, 21, 12, 21, 17, 19, 32, 15, 19, 17, 21, 1, 17, 17, 29, 22, 19, 17, 14, 22, 13, 22, 17, 17, 29, 21, 22, 21, 5, 17, 21, 21, 19, 12, 17, 22, 5, 5, 19, 14, 7, 27, 13, 26, 21, 20, 13, 30, 4, 27, 16, 21, 19, 17, 4, 21, 14, 1, 0, 6, 3, 6, 19, 21, 13, 19, 14, 27, 17, 22, 17, 13, 2, 17, 26, 26, 17, 21, 22, 12, 25, 21, 22, 13, 26, 21, 1, 0, 1, 6, 17, 27, 17, 25, 29, 13, 6, 26, 22, 19, 0, 29, 0, 29, 13, 7, 7, 27, 14, 26, 17, 25, 13, 21, 29, 22, 19, 29, 17, 26, 5, 27, 7, 14, 6, 6, 6, 21, 22, 26, 19, 7, 13, 23, 14, 17, 6, 27, 1, 22, 13, 14, 29, 22, 7, 18, 12, 21, 0, 7, 26, 26, 17, 1, 17, 0, 14, 17, 17, 13, 6, 21, 22, 21, 26, 17, 19, 0, 22, 19, 17, 25, 7, 21, 26, 19, 18, 3, 0, 7, 32, 29, 19, 17, 7, 25, 17, 26, 14, 21, 32, 7, 21, 4, 21, 21, 11, 12, 22, 6, 15, 4, 17, 0, 6, 23, 7, 14, 29, 21, 1, 13, 19, 22, 6, 14, 17, 17, 32, 19, 21, 10, 29, 1, 29, 17, 21, 0, 26, 13, 17, 17, 26, 1, 13, 7, 22, 6, 0, 8, 4, 6, 21, 17, 21, 19, 0, 19, 13, 21, 13, 30, 0, 13, 24, 17, 26, 7, 21, 21, 21, 7, 21, 12, 13, 13, 13, 21, 17, 7, 0, 0, 21, 17, 21, 13, 21, 0, 0, 21, 3, 17, 22, 17, 30, 12, 21, 19, 13, 26, 19, 22, 6, 13, 13, 17, 7, 17, 12, 26, 24, 26, 2, 29, 14, 17, 22, 2, 17, 12, 6, 27, 21, 7, 12, 25, 21, 19, 1, 26, 22, 17, 21, 6, 17, 15, 13, 21, 0, 15, 17, 17, 0, 14, 17, 15, 17, 20, 17, 19, 21, 0, 21, 26, 13, 7, 19, 17, 2, 17, 1, 22, 22, 14, 6, 7, 9, 29, 2, 22, 14, 21, 17, 25, 11, 22, 19, 22, 29, 22, 17, 6, 26, 17, 7, 7, 7, 15, 19, 21, 17, 19, 0, 6, 17, 13, 1, 13, 14, 16, 0, 2, 19, 26, 13, 25, 21, 6, 31, 13, 21, 25, 22, 19, 17, 26, 5, 17, 6, 17, 25, 7, 7, 17, 26, 1, 31, 18, 0, 0, 6, 22, 20, 0, 1, 5, 7, 21, 17, 22, 19, 21, 29, 22, 7, 25, 21, 0, 19, 21, 21, 15, 21, 6, 19, 13, 6, 26, 25, 6, 6, 0, 17, 1, 21, 0, 15, 17, 22, 21, 21, 13, 29, 12, 1, 15, 27, 19, 21, 17, 0, 21, 13, 21, 26, 6, 0, 19, 0, 1, 21, 18, 18, 17, 21, 6, 0, 21, 21, 13, 21, 17, 7, 21, 19, 0, 28, 19, 17, 17, 0, 21, 26, 30, 21, 13, 27, 6, 0, 27, 29, 25, 19, 2, 19, 17, 7, 6, 21, 19, 21, 22, 0, 7, 10, 6, 6, 26, 7, 5, 17, 15, 22, 24, 26, 26, 13, 17, 20, 21, 32, 0, 17, 17, 17, 17, 15, 20, 17, 17, 21, 1, 19, 17, 19, 13, 0, 6, 21, 30, 13, 21, 26, 7, 28, 19, 15, 0, 6, 25, 22, 17, 0, 17, 24, 0, 7, 14, 14, 0, 22, 17, 6, 17, 10, 1, 6, 22, 21, 1, 6, 12, 19, 17, 21, 19, 1, 21, 6, 26, 22, 17, 1, 17, 6, 6, 17, 21, 18, 19, 21, 0, 19, 17, 29, 17, 17, 0, 6, 19, 21, 13, 26, 6, 1, 7, 30, 15, 0, 17, 6, 21, 8, 7, 21, 19, 13, 17, 17, 3, 30, 17, 13, 21, 17, 0, 5, 13, 21, 26, 26, 13, 6, 3, 11, 7, 6, 5, 17, 13, 25, 17, 21, 5, 7, 30, 24, 26, 13, 11, 25, 6, 25, 17, 7, 21, 22, 5, 7, 17, 17, 17, 6, 25, 0, 25, 17, 28, 0, 0, 7, 17, 19, 17, 22, 0, 0, 0, 26, 17, 19, 0, 21, 17, 17, 13, 13, 27, 17, 7, 1, 14, 17, 22, 27, 19, 22, 30, 31, 17, 0, 17, 12, 7, 21, 13, 13, 19, 21, 19, 27, 7, 22, 0, 0, 13, 26, 17, 17, 19, 21, 31, 17, 13, 0, 23, 25, 0, 21, 6, 17, 12, 21, 21, 17, 6, 7, 27, 7, 17, 14, 0, 6, 7, 14, 1, 27, 19, 17, 17, 0, 12, 21, 25, 15, 17, 7, 21, 13, 17, 17, 22, 0, 25, 21, 7, 6, 17, 22, 17, 27, 7, 25, 24, 29, 18, 19, 6, 6, 30, 21, 14, 7, 21, 1, 15, 21, 23, 21, 17, 25, 24, 21, 17, 6, 19, 17, 26, 21, 27, 0, 17, 17, 19, 21, 1, 1, 25, 17, 21, 17, 19, 26, 17, 0, 28, 22, 7, 13, 0, 19, 21, 21, 19, 17, 0, 13, 21, 13, 30, 19, 21, 30, 12, 25, 26, 21, 17, 6, 0, 13, 17, 0, 17, 19, 22, 14, 19, 18, 7, 0, 7, 21, 1, 28, 17, 26, 13, 17, 14, 21, 21, 6, 7, 17, 14, 2, 6, 21, 17, 13, 13, 17, 6, 7, 26, 21, 19, 7, 29, 17, 0, 6, 6, 19, 13, 0, 21, 27, 17, 6, 12, 0, 1, 17, 30, 22, 13, 19, 26, 17, 17, 6, 27, 21, 12, 21, 17, 6, 0, 12, 19, 21, 19, 22, 17, 17, 19, 13, 6, 26, 0, 21, 17, 17, 19, 26, 21, 12, 6, 7, 17, 13, 0, 7, 21, 17, 19, 15, 22, 13, 6, 19, 31, 29, 22, 17, 19, 19, 19, 21, 30, 19, 6, 0, 22, 0, 6, 21, 14, 1, 7, 21, 0, 22, 6, 21, 13, 22, 13, 6, 15, 12, 19, 2, 11, 7, 21, 26, 13, 7, 13, 17, 21, 0, 17, 0, 21, 6, 13, 19, 13, 17, 6, 7, 25, 6, 6, 17, 0, 6, 17, 0, 5, 26, 26, 6, 0, 17, 27, 26, 0, 19, 0, 5, 23, 8, 0, 29, 23, 0, 23, 17, 29, 0, 22, 26, 19, 22, 0, 0, 17, 21, 30, 27, 21, 0, 14, 17, 6, 0, 0, 14, 6, 19, 0, 0, 21, 21, 21, 7, 21, 0, 13, 24, 13, 13, 15, 7, 24, 7, 0, 17, 5, 6, 29, 17, 26, 21, 16, 21, 6, 17, 0, 7, 21, 22, 21, 21, 7, 29, 21, 1, 6, 17, 27, 25, 21, 17, 0, 22, 13, 17, 17, 3, 26, 21, 13, 29, 22, 21, 22, 19, 12, 19, 21, 31, 17, 29, 6, 13, 6, 5, 17, 29, 17, 3, 25, 17, 21, 26, 17, 17, 1, 1, 0, 6, 17, 21, 21, 26, 7, 17, 21, 27, 2, 32, 4, 7, 24, 13, 0, 21, 3, 0, 7, 22, 26, 21, 14, 7, 17, 14, 4, 29, 6, 19, 13, 0, 14, 17, 0, 21, 17, 29, 0, 23, 11, 21, 19, 0, 22, 13, 26, 6, 6, 6, 13, 26, 6, 26, 17, 17, 10, 17, 13, 0, 12, 15, 3, 19, 13, 2, 0, 12, 25, 17, 17, 7, 17, 6, 21, 14, 21, 21, 22, 14, 31, 14, 12, 13, 21, 19, 6, 14, 19, 17, 22, 29, 7, 3, 13, 21, 19, 26, 21, 7, 6, 1, 19, 17, 30, 21, 0, 21, 13, 0, 12, 15, 6, 19, 14, 19, 17, 22, 15, 29, 17, 3, 19, 22, 13, 7, 29, 21, 21, 13, 22, 7, 0, 1, 7, 6, 17, 21, 19, 0, 0, 22, 19, 0, 22, 22, 6, 0, 17, 17, 30, 7, 27, 19, 19, 15, 17, 17, 21, 1, 22, 6, 13, 0, 21, 13, 17, 29, 26, 0, 17, 7, 17, 27, 21, 19, 27, 21, 17, 19, 19, 0, 21, 6, 29, 17, 21, 12, 0, 0, 27, 12, 5, 21, 13, 1, 22, 21, 13, 1, 4, 17, 1, 13, 17, 13, 17, 21, 17, 17, 32, 21, 6, 19, 7, 19, 18, 6, 10, 7, 26, 15, 13, 17, 22, 21, 1, 30, 26, 27, 25, 17, 21, 15, 6, 6, 13, 21, 21, 26, 19, 0, 29, 29, 0, 21, 14, 21, 13, 0, 6, 18, 13, 6, 17, 14, 25, 21, 4, 19, 17, 22, 7, 26, 17, 17, 30, 17, 21, 0, 13, 29, 6, 21, 1, 14, 17, 6, 17, 32, 22, 21, 12, 0, 13, 13, 0, 0, 0, 14, 31, 12, 13, 0, 6, 21, 7, 12, 17, 4, 24, 17, 0, 17, 13, 0, 17, 12, 12, 13, 17, 7, 5, 17, 21, 1, 29, 27, 6, 7, 22, 10, 17, 6, 22, 17, 16, 0, 6, 6, 13, 9, 17, 26, 0, 21, 17, 21, 21, 6, 26, 21, 22, 6, 0, 17, 26, 29, 25, 26, 6, 19, 17, 5, 17, 6, 13, 0, 17, 21, 30, 26, 21, 13, 17, 17, 10, 21, 21, 17, 0, 21, 17, 10, 19, 21, 6, 29, 32, 31, 13, 4, 0, 30, 13, 17, 0, 17, 8, 21, 21, 13, 19, 13, 8, 17, 17, 15, 27, 12, 25, 0, 23, 6, 13, 26, 17, 21, 22, 13, 21, 13, 21, 19, 1, 26, 21, 13, 7, 30, 13, 32, 17, 0, 25, 22, 17, 6, 22, 17, 23, 7, 1, 0, 19, 17, 17, 7, 14, 21, 17, 6, 7, 24, 17, 25, 2, 32, 2, 24, 3, 16, 21, 7, 15, 0, 13, 13, 27, 27, 21, 7, 17, 26, 7, 17, 7, 7, 3, 25, 6, 27, 27, 17, 17, 25, 0, 7, 21, 29, 0, 4, 17, 13, 26, 6, 26, 27, 21, 21, 17, 17, 15, 5, 1, 13, 7, 26, 21, 2, 15, 7, 13, 17, 29, 21, 7, 17, 9, 21, 21, 26, 6, 26, 17, 19, 29, 13, 29, 16, 19, 22, 6, 17, 22, 17, 17, 0, 17, 7, 5, 26, 26, 13, 0, 27, 0, 12, 21, 13, 21, 19, 22, 17, 7, 1, 0, 1, 22, 1, 19, 0, 3, 6, 13, 22, 7, 21, 13, 22, 19, 31, 0, 0, 27, 7, 20, 29, 13, 19, 7, 19, 19, 6, 6, 26, 21, 0, 26, 26, 0, 16, 0, 19, 6, 17, 7, 25, 7, 7, 27, 22, 19, 27, 26, 26, 13, 26, 17, 13, 13, 14, 3, 0, 19, 5, 1, 25, 26, 17, 17, 0, 19, 22, 15, 13, 32, 17, 22, 21, 31, 0, 28, 13, 15, 21, 27, 6, 19, 0, 17, 30, 21, 17, 21, 13, 21, 17, 29, 26, 7, 2, 6, 22, 17, 6, 7, 6, 19, 19, 14, 18, 21, 26, 16, 30, 5, 7, 21, 21, 7, 29, 21, 17, 4, 22, 17, 4, 19, 0, 19, 19, 17, 13, 27, 6, 29, 30, 5, 6, 14, 13, 12, 21, 9, 21, 7, 17, 21, 17, 13, 7, 12, 26, 19, 29, 17, 17, 21, 0, 17, 19, 17, 1, 6, 0, 2, 21, 19, 21, 2, 19, 21, 19, 25, 26, 17, 0, 5, 5, 22, 21, 19, 13, 22, 2, 31, 25, 17, 26, 21, 21, 17, 21, 27, 14, 24, 17, 17, 13, 21, 21, 21, 6, 17, 17, 21, 3, 13, 4, 10, 11, 22, 0, 6, 0, 22, 17, 19, 7, 7, 10, 31, 27, 13, 26, 13, 1, 17, 11, 9, 14, 19, 21, 0, 31, 6, 17, 17, 17, 30, 29, 26, 25, 7, 17, 17, 21, 7, 23, 15, 19, 26, 21, 31, 9, 13, 23, 17, 0, 0, 6, 0, 17, 19, 26, 13, 5, 17, 19, 26, 19, 13, 2, 29, 13, 13, 19, 17, 31, 14, 0, 1, 30, 17, 6, 25, 0, 13, 27, 19, 6, 19, 4, 13, 15, 14, 21, 30, 14, 14, 5, 25, 13, 26, 21, 25, 27, 13, 13, 13, 17, 24, 17, 7, 0, 13, 21, 17, 30, 17, 17, 26, 17, 0, 26, 21, 21, 21, 21, 6, 21, 19, 29, 0, 21, 19, 13, 1, 6, 19, 7, 0, 1, 17, 21, 7, 26, 0, 21, 13, 21, 7, 17, 6, 12, 21, 6, 21, 12, 0, 0, 19, 29, 12, 12, 22, 9, 19, 19, 7, 26, 19, 26, 5, 19, 1, 17, 12, 4, 19, 22, 17, 1, 7, 17, 25, 21, 12, 13, 13, 29, 22, 22, 6, 29, 19, 11, 17, 25, 12, 17, 7, 7, 1, 17, 0, 0, 7, 21, 17, 21, 14, 6, 17, 17, 0, 17, 17, 10, 17, 19, 26, 6, 4, 17, 21, 1, 0, 13, 17, 21, 17, 17, 6, 22, 22, 0, 2, 21, 7, 19, 22, 19, 29, 24, 3, 13, 13, 19, 19, 17, 17, 21, 13, 13, 6, 0, 27, 13, 7, 17, 22, 7, 17, 21, 13, 21, 19, 6, 30, 19, 21, 12, 1, 1, 12, 1, 1, 13, 13, 21, 7, 21, 13, 6, 13, 0, 21, 20, 19, 27, 30, 19, 0, 6, 13, 21, 14, 30, 0, 23, 21, 17, 7, 13, 22, 17, 17, 6, 30, 29, 7, 21, 17, 27, 0, 19, 17, 19, 27, 6, 17, 14, 0, 27, 21, 6, 17, 13, 15, 19, 21, 24, 21, 13, 19, 21, 25, 26, 14, 7, 4, 19, 17, 17, 0, 1, 0, 19, 27, 0, 12, 17, 1, 6, 21, 21, 0, 17, 21, 30, 7, 6, 7, 0, 17, 31, 29, 14, 31, 5, 21, 17, 7, 6, 6, 24, 2, 30, 0, 0, 0, 19, 14, 21, 6, 6, 13, 19, 13, 17, 7, 13, 26, 22, 7, 26, 23, 17, 19, 14, 22, 29, 19, 0, 21, 21, 13, 17, 26, 0, 17, 21, 19, 17, 28, 2, 21, 7, 32, 15, 0, 7, 13, 22, 31, 17, 17, 21, 0, 17, 17, 29, 13, 21, 27, 9, 0, 0, 17, 21, 27, 14, 13, 27, 13, 17, 6, 6, 0, 7, 14, 0, 7, 6, 19, 6, 27, 15, 7, 19, 6, 13, 17, 29, 19, 17, 0, 19, 19, 13, 0, 6, 21, 21, 29, 19, 6, 17, 17, 7, 19, 12, 30, 19, 25, 22, 21, 27, 17, 7, 27, 13, 6, 7, 13, 22, 1, 19, 0, 21, 6, 17, 15, 22, 0, 19, 6, 21, 21, 7, 14, 7, 11, 13, 13, 6, 12, 17, 21, 22, 6, 27, 15, 26, 21, 19, 24, 12, 17, 13, 26, 21, 17, 17, 31, 11, 3, 21, 21, 29, 19, 19, 7, 12, 19, 7, 28, 12, 27, 19, 0, 21, 17, 12, 4, 21, 7, 21, 21, 21, 14, 13, 0, 21, 13, 29, 12, 10, 21, 26, 17, 1, 0, 13, 20, 25, 24, 2, 21, 6, 17, 7, 30, 14, 12, 0, 0, 21, 6, 9, 17, 22, 25, 29, 7, 0, 19, 15, 6, 6, 30, 0, 19, 21, 17, 19, 2, 13, 13, 19, 27, 17, 19, 21, 6, 14, 19, 29, 6, 13, 22, 19, 6, 24, 17, 22, 6, 0, 13, 1, 17, 15, 21, 19, 19, 0, 6, 17, 17, 12, 25, 0, 13, 31, 0, 30, 17, 26, 13, 19, 25, 0, 0, 31, 0, 14, 0, 5, 19, 13, 29, 6, 26, 17, 6, 7, 27, 21, 17, 13, 13, 22, 29, 21, 26, 19, 17, 32, 17, 21, 17, 25, 19, 21, 17, 21, 26, 21, 12, 7, 6, 26, 26, 7, 7, 21, 0, 21, 17, 12, 6, 26, 14, 13, 6, 26, 21, 26, 28, 1, 21, 17, 21, 4, 17, 5, 13, 3, 22, 19, 21, 22, 23, 13, 26, 29, 13, 19, 13, 26, 32, 17, 17, 1, 21, 5, 17, 13, 22, 4, 26, 17, 12, 0, 29, 22, 17, 0, 21, 20, 25, 13, 26, 26, 1, 31, 21, 19, 26, 19, 6, 0, 13, 26, 6, 21, 12, 26, 21, 7, 27, 30, 7, 1, 17, 11, 13, 6, 17, 21, 21, 17, 1, 17, 26, 19, 6, 21, 11, 1, 6, 17, 21, 21, 17, 21, 21, 10, 17, 22, 21, 14, 19, 26, 22, 30, 30, 10, 21, 0, 0, 21, 12, 6, 28, 17, 29, 7, 19, 22, 22, 30, 29, 7, 7, 19, 21, 13, 25, 21, 10, 21, 22, 15, 17, 5, 5, 13, 17, 30, 22, 7, 0, 21, 21, 21, 29, 24, 13, 7, 17, 17, 7, 0, 29, 21, 14, 13, 24, 0, 6, 17, 13, 19, 21, 21, 0, 13, 17, 26, 7, 0, 6, 22, 21, 21, 30, 19, 6, 7, 26, 22, 8, 21, 17, 17, 26, 17, 13, 15, 19, 13, 6, 0, 4, 1, 19, 12, 13, 6, 1, 19, 13, 1, 4, 0, 13, 31, 2, 6, 13, 17, 13, 17, 0, 0, 21, 29, 26, 13, 19, 6, 17, 6, 21, 27, 22, 26, 26, 11, 21, 6, 21, 17, 7, 21, 0, 17, 17, 13, 21, 13, 17, 13, 17, 7, 19, 17, 22, 8, 13, 17, 0, 0, 6, 13, 21, 19, 0, 0, 0, 0, 21, 27, 13, 6, 19, 21, 19, 11, 22, 0, 17, 22, 22, 26, 0, 31, 23, 28, 7, 13, 21, 13, 13, 15, 19, 6, 3, 6, 6, 13, 0, 17, 12, 6, 22, 0, 22, 22, 26, 31, 0, 27, 27, 5, 26, 21, 17, 21, 26, 18, 21, 26, 19, 17, 26, 0, 21, 13, 19, 19, 17, 6, 19, 2, 17, 19, 27, 0, 22, 21, 1, 26, 21, 17, 27, 13, 1, 17, 13, 5, 0, 13, 1, 23, 21, 21, 26, 5, 25, 19, 6, 14, 19, 0, 12, 26, 25, 17, 22, 22, 0, 17, 7, 21, 13, 19, 13, 0, 0, 21, 1, 21, 21, 17, 0, 17, 0, 3, 14, 12, 22, 0, 19, 7, 6, 21, 6, 23, 21, 21, 19, 27, 26, 7, 22, 9, 14, 15, 17, 2, 13, 19, 0, 7, 30, 27, 22, 26, 22, 6, 17, 3, 29, 22, 7, 3, 19, 27, 26, 17, 17, 7, 12, 24, 6, 26, 29, 7, 21, 25, 26, 0, 26, 0, 13, 22, 21, 13, 6, 2, 19, 2, 21, 21, 9, 1, 22, 17, 22, 7, 21, 27, 17, 21, 6, 29, 4, 21, 9, 13, 7, 26, 19, 17, 6, 19, 0, 17, 26, 21, 22, 21, 17, 0, 27, 0, 2, 17, 13, 27, 6, 1, 7, 21, 6, 17, 6, 7, 10, 31, 7, 17, 6, 12, 19, 12, 21, 21, 5, 15, 0, 21, 19, 17, 7, 19, 21, 27, 22, 15, 21, 0, 21, 21, 13, 12, 1, 19, 17, 7, 26, 17, 11, 0, 0, 17, 21, 1, 17, 7, 17, 0, 1, 17, 22, 29, 21, 17, 1, 14, 17, 19, 17, 13, 21, 16, 13, 27, 5, 13, 15, 21, 29, 6, 21, 21, 30, 21, 15, 6, 17, 6, 3, 24, 30, 23, 17, 21, 19, 0, 0, 24, 0, 6, 14, 7, 21, 0, 17, 21, 27, 19, 13, 21, 0, 21, 6, 17, 21, 21, 6, 1, 7, 21, 0, 24, 27, 19, 14, 6, 17, 7, 14, 19, 19, 17, 6, 6, 12, 0, 6, 6, 1, 23, 21, 32, 21, 15, 21, 7, 19, 12, 21, 7, 17, 19, 17, 22, 19, 1, 19, 1, 7, 13, 17, 21, 0, 15, 0, 12, 6, 26, 12, 7, 21, 26, 7, 12, 0, 7, 30, 13, 7, 22, 2, 7, 17, 21, 12, 5, 21, 17, 6, 0, 14, 17, 17, 17, 17, 19, 13, 17, 21, 25, 22, 22, 7, 22, 6, 17, 26, 22, 19, 7, 22, 17, 14, 17, 26, 5, 0, 19, 6, 21, 29, 27, 0, 29, 13, 17, 13, 13, 6, 30, 26, 12, 29, 22, 28, 7, 21, 6, 1, 21, 21, 26, 17, 25, 1, 7, 0, 31, 19, 21, 5, 6, 19, 22, 19, 0, 17, 0, 7, 26, 0, 7, 15, 6, 17, 12, 26, 17, 6, 21, 19, 0, 0, 0, 3, 17, 21, 15, 21, 17, 13, 23, 0, 21, 17, 21, 17, 17, 17, 19, 15, 26, 22, 26, 22, 13, 17, 26, 13, 17, 6, 22, 22, 13, 26, 30, 13, 7, 29, 7, 17, 6, 17, 17, 12, 11, 27, 0, 13, 0, 13, 7, 14, 22, 0, 12, 0, 29, 29, 14, 21, 21, 0, 21, 30, 17, 26, 13, 24, 21, 0, 19, 26, 12, 29, 26, 1, 22, 0, 17, 25, 26, 0, 29, 30, 7, 16, 5, 21, 17, 17, 21, 0, 13, 30, 7, 17, 21, 14, 19, 7, 6, 17, 17, 7, 19, 6, 13, 27, 1, 6, 26, 26, 23, 19, 3, 17, 19, 1, 6, 17, 22, 27, 27, 26, 1, 19, 1, 5, 0, 22, 21, 21, 0, 13, 25, 0, 12, 21, 7, 14, 7, 25, 0, 25, 21, 21, 17, 17, 21, 17, 15, 13, 32, 21, 19, 4, 0, 17, 0, 29, 15, 29, 21, 26, 24, 27, 19, 5, 0, 23, 7, 6, 21, 6, 13, 22, 14, 6, 22, 27, 17, 17, 21, 29, 25, 32, 7, 17, 21, 24, 13, 14, 22, 21, 13, 0, 25, 21, 14, 11, 16, 19, 6, 6, 0, 0, 12, 26, 14, 29, 0, 21, 1, 13, 21, 6, 26, 19, 17, 17, 6, 22, 0, 29, 23, 27, 31, 3, 0, 17, 6, 7, 29, 21, 13, 14, 30, 0, 22, 6, 27, 0, 27, 6, 24, 6, 13, 17, 17, 6, 18, 26, 17, 29, 0, 10, 0, 12, 12, 7, 30, 0, 21, 1, 26, 6, 12, 19, 26, 21, 0, 12, 0, 21, 7, 13, 17, 5, 17, 29, 7, 21, 0, 19, 17, 1, 26, 7, 12, 21, 0, 17, 17, 6, 17, 19, 19, 19, 12, 22, 21, 23, 1, 5, 17, 21, 17, 17, 26, 21, 1, 17, 12, 0, 17, 0, 0, 17, 22, 6, 29, 7, 32, 22, 27, 19, 12, 21, 7, 0, 21, 11, 14, 15, 19, 21, 7, 17, 6, 17, 13, 19, 1, 5, 26, 13, 7, 0, 27, 0, 13, 6, 0, 13, 5, 21, 6, 7, 0, 0, 13, 15, 0, 13, 21, 17, 13, 26, 17, 6, 17, 2, 7, 6, 13, 6, 17, 7, 17, 23, 17, 0, 13, 19, 25, 14, 11, 6, 26, 13, 5, 10, 17, 31, 13, 6, 19, 26, 30, 7, 21, 21, 24, 21, 23, 23, 19, 1, 7, 26, 14, 17, 17, 21, 26, 17, 29, 7, 26, 21, 11, 17, 13, 19, 17, 17, 29, 26, 22, 7, 0, 13, 21, 12, 12, 29, 0, 21, 6, 21, 29, 0, 13, 14, 24, 4, 22, 21, 6, 30, 27, 13, 21, 24, 26, 26, 12, 7, 14, 17, 21, 0, 13, 29, 23, 7, 19, 13, 1, 7, 26, 31, 29, 0, 22, 1, 21, 1, 21, 13, 28, 13, 26, 0, 26, 7, 21, 6, 17, 17, 7, 15, 19, 0, 19, 0, 14, 7, 20, 12, 22, 22, 17, 13, 24, 23, 21, 17, 17, 7, 13, 22, 21, 21, 13, 7, 27, 0, 6, 30, 21, 7, 1, 7, 1, 6, 24, 17, 29, 21, 1, 25, 17, 19, 19, 15, 26, 27, 6, 17, 13, 17, 17, 21, 7, 12, 27, 19, 7, 26, 19, 29, 0, 6, 26, 0, 20, 0, 13, 21, 21, 14, 29, 22, 17, 26, 21, 21, 19, 29, 17, 19, 27, 7, 6, 21, 0, 19, 21, 22, 27, 27, 17, 6, 0, 13, 21, 0, 19, 22, 1, 26, 26, 21, 21, 21, 21, 14, 21, 17, 17, 19, 7, 19, 21, 21, 0, 26, 13, 0, 26, 12, 13, 22, 26, 21, 29, 15, 12, 15, 6, 30, 0, 0, 7, 21, 21, 29, 26, 27, 13, 2, 17, 17, 17, 19, 26, 21, 7, 12, 26, 29, 0, 7, 27, 6, 27, 0, 27, 13, 7, 29, 7, 0, 21, 7, 0, 13, 21, 7, 6, 6, 6, 21, 6, 0, 21, 1, 13, 15, 19, 27, 26, 18, 15, 11, 22, 13, 17, 19, 21, 21, 13, 26, 13, 6, 17, 6, 19, 13, 25, 19, 11, 1, 6, 22, 27, 30, 0, 17, 29, 21, 13, 15, 17, 0, 30, 21, 7, 17, 17, 13, 17, 25, 12, 26, 0, 1, 7, 21, 22, 19, 0, 21, 27, 7, 7, 16, 19, 13, 17, 26, 22, 13, 26, 17, 1, 21, 22, 21, 21, 15, 6, 6, 17, 21, 19, 25, 23, 0, 2, 26, 14, 0, 6, 30, 19, 21, 0, 27, 26, 0, 17, 6, 21, 14, 19, 6, 29, 21, 27, 6, 1, 17, 19, 21, 0, 21, 26, 13, 22, 0, 4, 14, 1, 27, 17, 26, 19, 15, 7, 11, 27, 26, 0, 17, 1, 0, 21, 17, 27, 13, 1, 26, 13, 0, 13, 19, 14, 25, 6, 21, 26, 17, 13, 13, 21, 17, 6, 6, 6, 7, 6, 19, 21, 19, 27, 1, 17, 26, 0, 29, 17, 21, 27, 15, 19, 7, 5, 5, 25, 0, 7, 26, 15, 23, 21, 0, 27, 0, 0, 4, 14, 22, 7, 21, 19, 17, 13, 22, 21, 14, 17, 26, 12, 17, 15, 6, 8, 30, 22, 7, 22, 7, 22, 2, 6, 6, 21, 6, 7, 21, 21, 0, 17, 22, 21, 19, 12, 6, 27, 17, 17, 21, 0, 26, 26, 13, 21, 3, 0, 18, 19, 0, 30, 21, 17, 7, 19, 1, 26, 17, 21, 0, 29, 1, 27, 26, 13, 19, 12, 17, 2, 27, 6, 13, 19, 19, 2, 17, 22, 11, 21, 5, 21, 26, 13, 26, 10, 17, 7, 14, 1, 14, 4, 14, 13, 27, 17, 0, 17, 13, 19, 6, 13, 21, 17, 17, 19, 17, 29, 17, 6, 0, 22, 21, 21, 19, 17, 13, 21, 19, 14, 7, 17, 26, 15, 18, 26, 27, 17, 13, 26, 22, 22, 19, 19, 30, 27, 19, 17, 22, 19, 17, 7, 0, 8, 27, 19, 5, 13, 19, 13, 21, 21, 14, 7, 11, 7, 6, 26, 22, 17, 5, 19, 7, 7, 22, 1, 17, 26, 21, 19, 2, 29, 29, 6, 21, 28, 6, 17, 17, 17, 8, 17, 0, 17, 7, 29, 6, 26, 27, 21, 22, 6, 3, 26, 17, 1, 17, 7, 22, 21, 0, 13, 0, 19, 0, 21, 0, 7, 21, 19, 1, 19, 19, 21, 13, 17, 26, 7, 29, 19, 0, 21, 6, 12, 1, 13, 0, 21, 17, 31, 13, 14, 2, 6, 14, 7, 27, 21, 6, 29, 27, 27, 22, 22, 13, 29, 22, 17, 29, 14, 27, 16, 25, 22, 30, 2, 13, 0, 14, 14, 13, 21, 22, 21, 7, 19, 17, 21, 21, 25, 19, 17, 19, 25, 21, 0, 32, 13, 1, 13, 24, 21, 0, 19, 0, 17, 17, 0, 26, 19, 26, 17, 17, 7, 6, 14, 21, 10, 19, 21, 0, 19, 26, 17, 0, 13, 13, 21, 17, 6, 14, 24, 32, 19, 12, 0, 17, 19, 7, 17, 17, 7, 0, 0, 17, 12, 26, 14, 21, 1, 20, 13, 1, 17, 0, 13, 21, 15, 26, 13, 13, 7, 0, 21, 7, 21, 17, 21, 12, 22, 28, 1, 21, 21, 15, 0, 0, 6, 19, 7, 19, 26, 17, 7, 17, 13, 17, 13, 6, 13, 13, 7, 0, 0, 21, 7, 26, 22, 5, 27, 0, 17, 11, 30, 1, 27, 17, 17, 7, 19, 12, 3, 21, 0, 7, 11, 28, 15, 26, 26, 4, 30, 19, 0, 13, 17, 29, 13, 1, 17, 7, 19, 26, 6, 30, 21, 19, 21, 17, 1, 21, 14, 19, 10, 5, 0, 0, 26, 26, 26, 22, 6, 22, 17, 22, 0, 5, 0, 6, 21, 21, 17, 7, 13, 6, 26, 13, 14, 2, 13, 21, 21, 21, 21, 26, 31, 19, 17, 0, 6, 17, 26, 17, 12, 0, 13, 13, 13, 17, 7, 0, 19, 12, 0, 17, 24, 17, 2, 21, 6, 0, 0, 11, 17, 19, 19, 21, 17, 0, 1, 1, 17, 17, 21, 5, 17, 7, 12, 13, 22, 7, 6, 14, 23, 21, 21, 17, 23, 21, 17, 26, 21, 14, 1, 14, 32, 13, 0, 19, 7, 31, 6, 1, 19, 13, 19, 13, 7, 5, 19, 12, 17, 21, 17, 17, 17, 26, 17, 0, 6, 21, 26, 13, 21, 2, 0, 0, 10, 10, 27, 6, 13, 19, 13, 17, 17, 14, 13, 26, 13, 13, 21, 26, 26, 2, 21, 21, 13, 26, 14, 4, 6, 12, 6, 2, 0, 21, 29, 0, 26, 6, 6, 7, 2, 7, 29, 13, 9, 24, 7, 17, 13, 21, 7, 13, 19, 0, 21, 0, 1, 6, 21, 6, 21, 25, 27, 7, 1, 0, 7, 14, 29, 14, 21, 0, 13, 5, 0, 17, 7, 17, 15, 17, 17, 21, 17, 19, 29, 24, 21, 17, 10, 1, 21, 19, 17, 6, 30, 6, 26, 13, 29, 17, 12, 29, 14, 26, 19, 19, 5, 13, 7, 21, 19, 27, 21, 26, 19, 7, 0, 1, 22, 2, 17, 28, 26, 21, 0, 17, 21, 13, 6, 19, 0, 24, 19, 6, 26, 20, 26, 21, 17, 17, 26, 22, 1, 13, 21, 21, 0, 18, 29, 17, 1, 27, 0, 17, 0, 27, 24, 25, 19, 21, 28, 22, 27, 17, 21, 15, 27, 17, 17, 6, 14, 13, 14, 6, 5, 25, 21, 7, 14, 21, 17, 19, 17, 23, 21, 6, 13, 22, 17, 1, 7, 15, 21, 27, 17, 29, 17, 0, 15, 26, 21, 21, 19, 26, 12, 13, 7, 29, 17, 16, 21, 21, 5, 6, 14, 6, 26, 17, 31, 21, 26, 21, 19, 12, 7, 17, 26, 13, 17, 0, 13, 0, 17, 21, 19, 17, 6, 26, 17, 26, 15, 21, 14, 17, 15, 19, 32, 0, 21, 0, 13, 3, 7, 19, 26, 12, 19, 12, 7, 17, 0, 21, 17, 19, 24, 17, 17, 20, 17, 21, 6, 14, 26, 25, 12, 19, 19, 21, 19, 21, 26, 7, 20, 6, 11, 1, 0, 19, 1, 21, 0, 6, 17, 17, 22, 17, 19, 22, 21, 3, 21, 14, 13, 19, 7, 21, 29, 27, 13, 6, 19, 7, 21, 18, 21, 13, 17, 17, 17, 13, 19, 7, 19, 19, 22, 19, 17, 0, 17, 21, 14, 6, 22, 30, 0, 14, 6, 6, 25, 22, 0, 0, 21, 13, 15, 30, 1, 17, 0, 29, 13, 13, 0, 22, 21, 15, 0, 17, 21, 30, 12, 21, 22, 0, 21, 17, 6, 7, 6, 13, 22, 26, 17, 17, 30, 11, 19, 2, 23, 6, 17, 27, 0, 21, 6, 17, 17, 22, 13, 19, 7, 14, 14, 22, 0, 17, 13, 0, 10, 13, 6, 17, 7, 0, 7, 13, 21, 21, 0, 17, 3, 21, 26, 21, 22, 0, 19, 19, 17, 19, 21, 6, 17, 29, 17, 6, 19, 7, 7, 22, 17, 27, 29, 4, 23, 21, 27, 17, 17, 17, 17, 26, 17, 0, 27, 7, 13, 6, 19, 21, 0, 27, 1, 15, 7, 7, 13, 6, 21, 22, 12, 13, 6, 21, 7, 1, 13, 14, 13, 19, 25, 26, 6, 21, 5, 7, 12, 5, 17, 5, 10, 21, 21, 17, 17, 21, 30, 7, 0, 19, 0, 0, 21, 17, 7, 26, 13, 1, 25, 21, 21, 17, 0, 13, 27, 21, 5, 7, 17, 17, 0, 17, 29, 21, 0, 1, 6, 10, 6, 0, 29, 7, 0, 17, 17, 7, 6, 19, 6, 8, 26, 31, 17, 21, 16, 17, 13, 19, 19, 0, 13, 28, 0, 17, 19, 21, 27, 17, 12, 22, 0, 13, 19, 32, 0, 0, 13, 13, 31, 16, 27, 21, 0, 21, 26, 25, 6, 0, 27, 14, 13, 21, 7, 7, 13, 6, 17, 19, 6, 21, 13, 26, 13, 0, 6, 12, 19, 29, 27, 25, 12, 13, 21, 19, 13, 19, 6, 21, 0, 0, 10, 13, 7, 30, 8, 7, 13, 17, 0, 6, 7, 25, 0, 24, 15, 22, 7, 21, 0, 16, 26, 1, 6, 13, 17, 6, 7, 14, 21, 21, 7, 6, 32, 6, 6, 26, 0, 27, 6, 26, 17, 28, 17, 6, 21, 21, 21, 13, 17, 0, 31, 19, 26, 7, 0, 17, 0, 29, 6, 13, 13, 21, 17, 6, 0, 21, 29, 21, 17, 26, 17, 17, 23, 13, 23, 10, 6, 21, 17, 27, 17, 21, 17, 17, 17, 16, 3, 13, 19, 14, 17, 25, 1, 19, 14, 6, 7, 17, 30, 1, 14, 19, 21, 15, 13, 6, 13, 10, 17, 5, 0, 10, 29, 21, 12, 0, 26, 26, 13, 19, 29, 17, 17, 26, 19, 17, 19, 26, 1, 19, 19, 14, 13, 17, 17, 22, 0, 0, 0, 22, 31, 0, 13, 0, 31, 17, 21, 19, 21, 22, 19, 26, 7, 13, 14, 13, 27, 21, 26, 19, 21, 6, 26, 0, 17, 17, 23, 0, 0, 13, 29, 17, 13, 21, 21, 13, 21, 14, 29, 17, 26, 0, 19, 17, 17, 6, 17, 17, 17, 7, 6, 22, 25, 7, 0, 14, 0, 0, 13, 1, 19, 13, 22, 14, 0, 21, 21, 21, 29, 26, 22, 25, 0, 0, 0, 6, 21, 7, 17, 19, 19, 13, 22, 18, 21, 19, 19, 19, 0, 17, 15, 22, 17, 27, 28, 21, 6, 13, 19, 17, 0, 13, 0, 7, 5, 21, 26, 17, 14, 26, 29, 17, 22, 17, 26, 24, 21, 13, 7, 0, 26, 21, 26, 12, 15, 13, 0, 12, 13, 25, 0, 17, 17, 14, 13, 21, 19, 21, 21, 13, 21, 30, 12, 21, 7, 6, 21, 0, 1, 7, 30, 13, 21, 19, 7, 6, 25, 17, 29, 14, 19, 7, 0, 26, 14, 17, 23, 15, 12, 21, 26, 26, 26, 29, 19, 21, 21, 1, 17, 13, 28, 0, 6, 17, 7, 29, 15, 17, 11, 2, 21, 0, 16, 6, 21, 13, 0, 14, 14, 17, 0, 21, 26, 0, 12, 19, 0, 25, 29, 19, 19, 32, 1, 21, 22, 17, 7, 6, 13, 0, 26, 21, 11, 26, 21, 21, 1, 22, 27, 21, 29, 21, 19, 26, 0, 7, 28, 6, 17, 14, 21, 13, 21, 17, 17, 26, 21, 19, 17, 21, 30, 17, 21, 19, 0, 3, 19, 17, 2, 25, 21, 22, 17, 19, 26, 26, 6, 22, 17, 22, 0, 22, 6, 26, 19, 17, 19, 19, 6, 24, 17, 24, 12, 7, 0, 0, 29, 21, 22, 13, 17, 31, 21, 3, 10, 21, 29, 13, 30, 32, 13, 18, 11, 0, 0, 26, 29, 29, 30, 21, 7, 26, 5, 17, 15, 21, 22, 21, 29, 29, 7, 21, 21, 22, 19, 21, 22, 23, 21, 6, 17, 19, 21, 17, 1, 23, 21, 27, 12, 0, 3, 21, 6, 22, 9, 17, 17, 6, 7, 26, 27, 14, 6, 21, 19, 31, 17, 6, 6, 26, 26, 31, 0, 5, 21, 0, 21, 15, 16, 14, 17, 26, 14, 15, 13, 0, 7, 13, 17, 0, 17, 0, 27, 1, 18, 13, 21, 19, 22, 22, 6, 21, 21, 21, 12, 13, 6, 17, 6, 0, 7, 21, 26, 1, 29, 19, 19, 30, 12, 19, 17, 6, 1, 21, 17, 17, 21, 17, 11, 19, 22, 0, 17, 27, 26, 13, 17, 21, 29, 19, 21, 7, 21, 21, 7, 17, 17, 1, 27, 7, 6, 29, 13, 29, 21, 19, 19, 22, 12, 25, 29, 0, 6, 19, 21, 7, 15, 0, 21, 0, 2, 6, 27, 29, 12, 14, 17, 0, 0, 16, 12, 26, 24, 15, 29, 7, 13, 22, 0, 12, 17, 7, 13, 17, 7, 29, 14, 21, 30, 6, 6, 26, 21, 1, 0, 17, 0, 7, 13, 25, 17, 13, 21, 29, 13, 0, 12, 7, 17, 27, 15, 19, 7, 26, 0, 15, 7, 21, 0, 0, 17, 21, 26, 11, 17, 22, 26, 17, 0, 17, 17, 23, 17, 6, 15, 19, 26, 11, 22, 30, 17, 21, 17, 12, 17, 21, 27, 3, 6, 14, 32, 29, 31, 19, 26, 6, 23, 19, 25, 0, 22, 1, 21, 32, 25, 14, 21, 7, 6, 12, 19, 17, 26, 2, 21, 19, 13, 30, 22, 17, 7, 18, 6, 31, 24, 17, 17, 7, 21, 17, 12, 15, 13, 21, 21, 17, 21, 1, 19, 27, 6, 13, 14, 14, 26, 19, 13, 13, 0, 21, 21, 0, 13, 17, 29, 7, 29, 0, 26, 2, 13, 21, 22, 24, 22, 13, 22, 17, 32, 21, 27, 26, 13, 2, 26, 13, 22, 0, 13, 30, 21, 21, 1, 0, 11, 19, 21, 13, 25, 21, 0, 21, 6, 6, 1, 17, 6, 21, 13, 16, 6, 21, 19, 1, 13, 25, 0, 0, 19, 17, 15, 0, 27, 17, 30, 0, 26, 17, 13, 0, 21, 26, 6, 15, 17, 19, 29, 26, 24, 6, 0, 7, 5, 5, 21, 0, 5, 25, 30, 21, 15, 13, 31, 6, 22, 0, 14, 30, 17, 13, 6, 6, 21, 19, 26, 27, 29, 13, 26, 19, 21, 17, 19, 12, 30, 13, 6, 19, 21, 7, 7, 0, 19, 21, 27, 30, 19, 13, 26, 3, 29, 14, 12, 21, 0, 6, 17, 24, 13, 19, 26, 7, 0, 2, 7, 21, 7, 0, 17, 7, 0, 19, 22, 7, 28, 22, 6, 7, 21, 7, 27, 1, 17, 18, 26, 26, 19, 13, 17, 26, 21, 15, 10, 21, 19, 21, 21, 25, 22, 17, 17, 19, 5, 17, 21, 21, 11, 17, 15, 17, 17, 17, 31, 3, 17, 21, 19, 21, 21, 1, 22, 26, 28, 21, 11, 13, 7, 31, 1, 27, 17, 27, 7, 6, 1, 17, 27, 4, 25, 21, 13, 5, 13, 7, 5, 19, 0, 0, 13, 22, 1, 26, 4, 26, 17, 2, 1, 19, 22, 17, 5, 7, 15, 20, 13, 13, 0, 2, 6, 0, 17, 11, 17, 0, 15, 17, 2, 25, 29, 13, 19, 13, 7, 5, 13, 17, 2, 15, 6, 19, 21, 21, 13, 17, 19, 13, 0, 26, 6, 6, 19, 17, 17, 17, 1, 17, 26, 17, 29, 14, 17, 27, 21, 1, 19, 17, 6, 28, 13, 17, 6, 17, 13, 19, 19, 29, 19, 31, 21, 7, 13, 19, 14, 6, 6, 21, 17, 7, 26, 28, 24, 29, 14, 17, 0, 27, 14, 0, 0, 0, 21, 25, 25, 12, 6, 26, 0, 0, 12, 7, 0, 7, 21, 22, 21, 0, 22, 26, 0, 26, 19, 26, 21, 7, 26, 21, 7, 0, 21, 14, 12, 13, 29, 17, 17, 7, 0, 26, 19, 7, 19, 22, 6, 13, 0, 22, 7, 6, 21, 17, 27, 17, 7, 13, 16, 27, 0, 1, 6, 17, 1, 17, 21, 12, 26, 1, 31, 21, 0, 13, 27, 17, 7, 17, 5, 0, 25, 21, 6, 1, 13, 22, 31, 13, 27, 15, 17, 27, 19, 7, 15, 21, 26, 14, 21, 22, 22, 17, 0, 21, 1, 1, 17, 6, 21, 4, 19, 7, 27, 29, 17, 19, 15, 1, 6, 17, 0, 21, 15, 19, 12, 21, 26, 0, 11, 21, 26, 21, 21, 12, 19, 17, 17, 30, 17, 22, 17, 14, 11, 0, 13, 29, 7, 21, 19, 26, 29, 22, 19, 17, 21, 0, 17, 0, 17, 22, 12, 30, 7, 6, 1, 14, 27, 17, 13, 13, 7, 22, 6, 26, 17, 21, 31, 13, 21, 26, 17, 19, 22, 22, 12, 21, 23, 2, 6, 6, 19, 13, 17, 0, 5, 13, 7, 7, 17, 17, 29, 26, 17, 11, 11, 22, 19, 21, 31, 13, 29, 13, 17, 17, 15, 26, 25, 26, 12, 5, 0, 19, 21, 17, 0, 22, 19, 0, 0, 0, 21, 14, 21, 19, 21, 17, 17, 21, 17, 21, 12, 21, 6, 22, 0, 22, 17, 7, 26, 21, 21, 17, 21, 19, 17, 2, 30, 27, 17, 6, 7, 5, 26, 21, 11, 2, 17, 17, 22, 17, 7, 1, 0, 0, 21, 18, 13, 19, 13, 22, 3, 17, 17, 19, 27, 17, 0, 12, 29, 13, 7, 11, 1, 5, 0, 6, 5, 15, 21, 13, 1, 17, 1, 6, 17, 17, 17, 19, 12, 13, 13, 2, 0, 2, 6, 27, 6, 2, 6, 23, 17, 13, 29, 19, 26, 0, 17, 7, 4, 22, 17, 26, 19, 21, 21, 6, 29, 19, 17, 21, 6, 1, 17, 0, 12, 27, 17, 19, 22, 26, 20, 17, 26, 21, 22, 6, 14, 6, 12, 21, 27, 30, 27, 8, 21, 17, 28, 23, 21, 26, 6, 6, 13, 26, 21, 19, 6, 0, 0, 0, 22, 6, 21, 24, 7, 26, 13, 17, 13, 7, 29, 22, 13, 29, 17, 13, 13, 19, 21, 19, 26, 17, 13, 21, 14, 17, 17, 5, 13, 14, 30, 26, 0, 25, 0, 6, 15, 15, 17, 0, 17, 17, 12, 1, 22, 19, 26, 7, 31, 22, 30, 12, 26, 13, 7, 17, 0, 8, 29, 29, 21, 1, 25, 6, 21, 27, 26, 0, 13, 0, 21, 12, 28, 21, 30, 25, 1, 0, 0, 22, 2, 7, 22, 21, 19, 6, 1, 29, 1, 19, 19, 0, 17, 21, 0, 25, 0, 14, 7, 19, 13, 6, 21, 22, 29, 17, 21, 19, 1, 17, 6, 6, 0, 26, 27, 17, 0, 21, 21, 17, 7, 1, 1, 17, 14, 29, 13, 17, 26, 7, 7, 17, 17, 21, 7, 26, 0, 19, 13, 6, 21, 17, 17, 17, 30, 27, 13, 31, 6, 1, 13, 19, 19, 17, 6, 29, 27, 14, 25, 17, 22, 7, 2, 6, 6, 19, 1, 17, 6, 17, 26, 0, 1, 0, 0, 19, 0, 5, 10, 19, 7, 19, 30, 2, 0, 22, 17, 11, 30, 17, 19, 21, 13, 1, 29, 25, 0, 0, 13, 17, 26, 13, 19, 6, 24, 13, 17, 26, 19, 6, 17, 13, 30, 12, 13, 7, 19, 22, 0, 21, 6, 13, 19, 31, 13, 0, 0, 2, 6, 27, 1, 26, 21, 17, 19, 12, 1, 13, 13, 29, 11, 17, 26, 13, 29, 27, 14, 21, 1, 13, 19, 29, 7, 32, 17, 6, 0, 13, 19, 0, 1, 30, 29, 21, 26, 13, 19, 9, 19, 24, 17, 13, 13, 19, 21, 6, 13, 0, 29, 26, 30, 24, 1, 24, 19, 1, 23, 24, 17, 21, 17, 7, 17, 4, 21, 0, 27, 12, 21, 17, 1, 21, 17, 17, 30, 13, 11, 30, 22, 21, 19, 17, 0, 21, 0, 6, 19, 20, 0, 17, 22, 21, 19, 17, 26, 6, 19, 17, 0, 13, 14, 13, 13, 6, 21, 29, 19, 19, 27, 19, 19, 0, 13, 13, 1, 25, 13, 17, 8, 29, 6, 21, 0, 15, 1, 7, 13, 21, 19, 23, 25, 23, 5, 6, 23, 13, 19, 3, 27, 21, 21, 17, 19, 17, 6, 32, 13, 6, 4, 13, 21, 0, 13, 17, 13, 0, 14, 0, 19, 17, 29, 27, 26, 7, 22, 1, 6, 21, 13, 22, 13, 21, 27, 17, 5, 26, 17, 13, 9, 17, 14, 15, 21, 0, 6, 0, 0, 21, 10, 21, 23, 21, 22, 13, 1, 13, 17, 12, 21, 17, 14, 1, 17, 14, 22, 32, 0, 15, 32, 0, 7, 13, 18, 22, 26, 1, 26, 12, 22, 0, 29, 26, 22, 17, 14, 19, 19, 27, 7, 29, 26, 0, 17, 7, 7, 25, 13, 19, 21, 13, 0, 0, 19, 22, 24, 7, 12, 21, 28, 30, 11, 22, 22, 26, 30, 29, 12, 4, 26, 1, 6, 21, 22, 17, 17, 31, 27, 19, 29, 21, 19, 19, 23, 6, 14, 17, 17, 5, 21, 13, 0, 12, 7, 8, 0, 27, 7, 7, 0, 21, 29, 6, 0, 13, 29, 7, 13, 21, 19, 6, 14, 19, 2, 7, 1, 19, 29, 19, 29, 0, 19, 13, 19, 21, 7, 0, 17, 17, 27, 13, 13, 16, 1, 6, 23, 0, 1, 17, 6, 6, 1, 21, 7, 22, 24, 7, 7, 5, 22, 21, 17, 14, 22, 25, 0, 21, 17, 0, 14, 30, 6, 1, 0, 0, 13, 21, 19, 13, 13, 17, 0, 21, 5, 0, 19, 21, 7, 17, 7, 17, 7, 27, 17, 21, 12, 21, 12, 0, 12, 19, 6, 21, 21, 26, 0, 21, 19, 17, 0, 21, 21, 25, 11, 0, 26, 17, 21, 6, 6, 9, 22, 14, 17, 1, 17, 13, 26, 14, 19, 21, 7, 26, 21, 7, 9, 25, 21, 2, 0, 22, 19, 21, 21, 26, 0, 21, 22, 13, 6, 7, 15, 12, 7, 7, 17, 17, 26, 29, 26, 17, 17, 22, 13, 21, 2, 0, 1, 26, 6, 0, 21, 26, 19, 27, 19, 22, 1, 12, 21, 13, 23, 21, 17, 7, 0, 17, 6, 12, 12, 21, 21, 0, 7, 1, 26, 21, 6, 17, 27, 32, 17, 0, 21, 26, 19, 6, 17, 29, 19, 1, 7, 13, 17, 19, 6, 7, 26, 18, 13, 7, 26, 18, 28, 17, 2, 1, 30, 13, 27, 13, 7, 13, 26, 17, 27, 7, 18, 6, 6, 13, 21, 17, 0, 17, 13, 9, 21, 24, 17, 2, 12, 1, 22, 13, 19, 25, 21, 17, 17, 25, 19, 26, 17, 21, 21, 19, 31, 17, 19, 7, 30, 22, 0, 21, 7, 2, 13, 7, 6, 19, 29, 5, 22, 21, 6, 2, 3, 21, 22, 25, 27, 21, 14, 13, 1, 14, 0, 21, 19, 17, 0, 26, 26, 26, 26, 17, 17, 21, 13, 17, 14, 25, 19, 19, 21, 17, 19, 17, 0, 7, 7, 2, 1, 15, 7, 13, 21, 7, 26, 26, 22, 2, 13, 9, 12, 2, 5, 17, 1, 13, 17, 21, 5, 17, 26, 7, 25, 19, 26, 0, 15, 26, 14, 15, 5, 7, 25, 15, 17, 9, 1, 12, 13, 5, 22, 12, 26, 19, 26, 21, 7, 0, 21, 19, 0, 31, 29, 0, 28, 6, 12, 22, 12, 21, 0, 19, 25, 6, 21, 30, 21, 21, 23, 0, 26, 1, 17, 19, 13, 22, 1, 7, 30, 0, 11, 1, 17, 0, 13, 7, 4, 6, 19, 26, 5, 17, 7, 21, 17, 7, 19, 19, 17, 26, 7, 11, 6, 21, 17, 1, 17, 19, 26, 17, 1, 31, 1, 31, 7, 30, 8, 0, 0, 21, 29, 17, 7, 1, 24, 17, 17, 0, 13, 6, 1, 7, 6, 21, 13, 17, 29, 7, 22, 6, 29, 1, 0, 17, 17, 30, 24, 13, 17, 22, 22, 22, 17, 30, 30, 14, 6, 0, 6, 13, 1, 13, 29, 21, 7, 15, 26, 6, 20, 17, 17, 22, 7, 17, 17, 6, 7, 21, 21, 22, 22, 0, 26, 0, 29, 6, 0, 10, 0, 0, 7, 22, 6, 19, 26, 30, 25, 13, 21, 7, 21, 7, 17, 19, 1, 1, 12, 19, 7, 19, 6, 17, 22, 7, 15, 10, 27, 6, 2, 7, 19, 0, 19, 21, 19, 23, 21, 19, 0, 17, 13, 0, 26, 17, 7, 21, 21, 17, 17, 0, 3, 21, 6, 21, 22, 21, 22, 22, 17, 13, 30, 17, 6, 17, 17, 2, 6, 14, 27, 32, 6, 25, 26, 30, 17, 22, 17, 25, 11, 22, 0, 26, 23, 22, 2, 7, 12, 22, 4, 21, 26, 13, 9, 21, 26, 7, 6, 12, 13, 21, 22, 22, 13, 21, 21, 28, 17, 15, 19, 0, 19, 27, 26, 21, 6, 32, 22, 0, 0, 21, 6, 30, 31, 21, 22, 7, 0, 19, 6, 17, 19, 13, 15, 6, 26, 22, 0, 17, 13, 21, 0, 21, 17, 12, 14, 26, 9, 17, 17, 24, 1, 13, 7, 26, 30, 19, 0, 26, 22, 17, 13, 7, 17, 21, 26, 27, 13, 0, 19, 19, 6, 26, 13, 13, 17, 7, 19, 0, 4, 22, 0, 0, 6, 15, 30, 12, 13, 3, 21, 22, 19, 25, 6, 11, 27, 17, 15, 17, 17, 17, 17, 21, 1, 5, 17, 17, 6, 21, 0, 17, 22, 6, 0, 26, 6, 17, 21, 6, 17, 21, 1, 12, 17, 14, 5, 26, 28, 7, 0, 21, 17, 21, 19, 1, 0, 17, 26, 26, 7, 0, 19, 17, 21, 17, 0, 1, 19, 26, 19, 21, 26, 5, 21, 12, 7, 6, 27, 19, 17, 4, 22, 4, 7, 17, 12, 6, 21, 19, 0, 6, 0, 7, 22, 17, 26, 21, 17, 6, 27, 17, 14, 19, 0, 19, 21, 21, 22, 0, 17, 0, 16, 7, 1, 17, 0, 0, 31, 19, 7, 6, 5, 22, 17, 12, 21, 0, 26, 13, 17, 13, 30, 7, 6, 17, 1, 6, 21, 13, 17, 3, 22, 22, 23, 31, 12, 19, 24, 26, 0, 0, 7, 17, 26, 13, 19, 19, 21, 21, 17, 7, 12, 21, 27, 31, 17, 19, 17, 28, 12, 17, 19, 17, 21, 22, 29, 0, 7, 26, 13, 13, 17, 0, 21, 17, 13, 31, 25, 6, 13, 30, 11, 21, 0, 8, 20, 19, 13, 0, 6, 21, 15, 1, 17, 13, 26, 23, 0, 26, 0, 13, 17, 25, 24, 20, 22, 0, 17, 7, 19, 2, 26, 25, 0, 13, 19, 17, 7, 19, 1, 19, 7, 19, 13, 27, 17, 21, 22, 0, 26, 30, 26, 11, 25, 14, 21, 10, 22, 29, 13, 1, 19, 22, 13, 21, 21, 7, 0, 0, 22, 17, 5, 17, 1, 0, 6, 21, 17, 26, 30, 21, 27, 13, 29, 0, 0, 0, 6, 8, 10, 21, 23, 15, 0, 27, 12, 14, 6, 17, 0, 6, 17, 15, 31, 26, 13, 21, 6, 26, 13, 26, 19, 1, 1, 14, 31, 19, 12, 17, 2, 17, 21, 13, 19, 0, 19, 0, 22, 0, 26, 19, 13, 22, 1, 21, 22, 26, 30, 32, 21, 0, 15, 17, 21, 21, 21, 17, 17, 21, 26, 13, 17, 0, 21, 21, 1, 7, 28, 6, 13, 6, 6, 13, 22, 0, 19, 17, 7, 6, 12, 27, 17, 7, 17, 25, 21, 8, 2, 6, 17, 17, 26, 21, 30, 22, 17, 13, 31, 12, 6, 17, 12, 17, 19, 0, 6, 17, 0, 7, 14, 19, 1, 0, 17, 22, 10, 24, 0, 0, 13, 29, 1, 26, 19, 29, 17, 0, 12, 18, 22, 7, 22, 17, 17, 6, 21, 17, 1, 5, 30, 13, 6, 13, 13, 21, 19, 29, 21, 17, 6, 13, 6, 0, 7, 1, 19, 24, 17, 0, 26, 3, 6, 6, 26, 17, 0, 21, 29, 21, 13, 17, 0, 26, 26, 6, 6, 13, 6, 13, 21, 13, 20, 19, 13, 19, 25, 21, 29, 12, 2, 3, 0, 19, 21, 25, 4, 26, 30, 0, 0, 25, 7, 6, 7, 0, 3, 0, 17, 17, 27, 21, 17, 21, 6, 21, 22, 6, 14, 13, 17, 19, 19, 22, 6, 13, 1, 26, 7, 1, 22, 21, 21, 5, 27, 0, 21, 26, 17, 14, 6, 17, 22, 22, 17, 21, 21, 26, 0, 6, 17, 2, 17, 14, 28, 26, 23, 17, 29, 5, 19, 23, 1, 26, 24, 22, 19, 21, 17, 30, 22, 7, 13, 1, 13, 21, 11, 13, 17, 0, 0, 19, 0, 2, 22, 13, 0, 19, 19, 28, 0, 0, 19, 7, 21, 2, 24, 13, 26, 5, 30, 19, 14, 1, 27, 22, 17, 6, 0, 13, 13, 0, 1, 15, 21, 5, 26, 21, 0, 0, 21, 0, 17, 25, 32, 7, 17, 30, 11, 19, 30, 17, 20, 13, 7, 1, 14, 0, 19, 17, 17, 7, 6, 2, 29, 6, 13, 19, 21, 17, 12, 21, 24, 14, 26, 17, 17, 17, 13, 0, 21, 17, 21, 13, 19, 6, 21, 30, 17, 26, 21, 0, 19, 10, 14, 21, 26, 12, 21, 0, 14, 21, 21, 12, 21, 17, 3, 17, 17, 17, 0, 26, 6, 19, 13, 29, 27, 7, 26, 29, 0, 25, 26, 21, 19, 26, 0, 1, 0, 12, 13, 1, 7, 1, 1, 32, 19, 13, 21, 13, 21, 27, 19, 0, 21, 19, 26, 6, 17, 7, 0, 19, 27, 13, 17, 32, 21, 6, 17, 13, 17, 6, 11, 13, 0, 27, 26, 19, 27, 13, 7, 31, 0, 0, 19, 11, 30, 17, 25, 21, 5, 14, 17, 21, 26, 13, 11, 12, 17, 22, 7, 21, 13, 1]\n",
      "[[0. 0. 0. ... 0. 0. 0.]\n",
      " [0. 0. 0. ... 0. 0. 0.]\n",
      " [0. 0. 0. ... 0. 0. 0.]\n",
      " ...\n",
      " [0. 0. 0. ... 0. 0. 0.]\n",
      " [0. 0. 0. ... 0. 0. 0.]\n",
      " [0. 1. 0. ... 0. 0. 0.]]\n"
     ]
    }
   ],
   "source": [
    "#输出结果的格式转化\n",
    "y_train_c = to_categorical(y_train,features)\n",
    "print(y_train)\n",
    "print(y_train_c)"
   ]
  },
  {
   "cell_type": "code",
   "execution_count": 12,
   "id": "cb8d0d97",
   "metadata": {},
   "outputs": [
    {
     "name": "stdout",
     "output_type": "stream",
     "text": [
      "(10044, 33)\n"
     ]
    }
   ],
   "source": [
    "print(y_train_c.shape)"
   ]
  },
  {
   "cell_type": "code",
   "execution_count": 13,
   "id": "29d13da0",
   "metadata": {},
   "outputs": [
    {
     "name": "stdout",
     "output_type": "stream",
     "text": [
      "Model: \"sequential\"\n",
      "_________________________________________________________________\n",
      "Layer (type)                 Output Shape              Param #   \n",
      "=================================================================\n",
      "lstm (LSTM)                  (None, 30)                7680      \n",
      "_________________________________________________________________\n",
      "dense (Dense)                (None, 33)                1023      \n",
      "=================================================================\n",
      "Total params: 8,703\n",
      "Trainable params: 8,703\n",
      "Non-trainable params: 0\n",
      "_________________________________________________________________\n"
     ]
    }
   ],
   "source": [
    "#建立LSTM模型\n",
    "from keras.models import Sequential\n",
    "from keras.layers import Dense, LSTM\n",
    "\n",
    "model = Sequential()\n",
    "#LSTM层\n",
    "model.add(LSTM(units=30, input_shape=(X_train.shape[1],X_train.shape[2]),activation='relu'))\n",
    "#输出层\n",
    "model.add(Dense(units=features,activation='softmax'))\n",
    "model.summary()"
   ]
  },
  {
   "cell_type": "code",
   "execution_count": 14,
   "id": "b1eac547",
   "metadata": {},
   "outputs": [],
   "source": [
    "#核心参数配置\n",
    "model.compile(optimizer='adam',loss='categorical_crossentropy',metrics=['accuracy'])"
   ]
  },
  {
   "cell_type": "code",
   "execution_count": 15,
   "id": "5d7cb77b",
   "metadata": {
    "scrolled": true
   },
   "outputs": [
    {
     "name": "stdout",
     "output_type": "stream",
     "text": [
      "Epoch 1/50\n",
      "11/11 [==============================] - 19s 53ms/step - loss: 3.4749 - accuracy: 0.0746\n",
      "Epoch 2/50\n",
      "11/11 [==============================] - 0s 43ms/step - loss: 3.4193 - accuracy: 0.1277\n",
      "Epoch 3/50\n",
      "11/11 [==============================] - 0s 44ms/step - loss: 3.2753 - accuracy: 0.1309\n",
      "Epoch 4/50\n",
      "11/11 [==============================] - 0s 43ms/step - loss: 3.0727 - accuracy: 0.1420\n",
      "Epoch 5/50\n",
      "11/11 [==============================] - 0s 42ms/step - loss: 2.9698 - accuracy: 0.1705\n",
      "Epoch 6/50\n",
      "11/11 [==============================] - 0s 43ms/step - loss: 2.9236 - accuracy: 0.1798\n",
      "Epoch 7/50\n",
      "11/11 [==============================] - 0s 42ms/step - loss: 2.9064 - accuracy: 0.1596\n",
      "Epoch 8/50\n",
      "11/11 [==============================] - 0s 42ms/step - loss: 2.8769 - accuracy: 0.1937\n",
      "Epoch 9/50\n",
      "11/11 [==============================] - 0s 40ms/step - loss: 2.8552 - accuracy: 0.1830\n",
      "Epoch 10/50\n",
      "11/11 [==============================] - 0s 40ms/step - loss: 2.8468 - accuracy: 0.1824\n",
      "Epoch 11/50\n",
      "11/11 [==============================] - 0s 39ms/step - loss: 2.8096 - accuracy: 0.2012\n",
      "Epoch 12/50\n",
      "11/11 [==============================] - 0s 40ms/step - loss: 2.7945 - accuracy: 0.2080\n",
      "Epoch 13/50\n",
      "11/11 [==============================] - 0s 41ms/step - loss: 2.7453 - accuracy: 0.2325\n",
      "Epoch 14/50\n",
      "11/11 [==============================] - 0s 43ms/step - loss: 2.7165 - accuracy: 0.2303\n",
      "Epoch 15/50\n",
      "11/11 [==============================] - 0s 41ms/step - loss: 2.6707 - accuracy: 0.2405\n",
      "Epoch 16/50\n",
      "11/11 [==============================] - 0s 44ms/step - loss: 2.6219 - accuracy: 0.2605\n",
      "Epoch 17/50\n",
      "11/11 [==============================] - 0s 41ms/step - loss: 2.5764 - accuracy: 0.2596\n",
      "Epoch 18/50\n",
      "11/11 [==============================] - 0s 41ms/step - loss: 2.4851 - accuracy: 0.2955\n",
      "Epoch 19/50\n",
      "11/11 [==============================] - 0s 41ms/step - loss: 2.3757 - accuracy: 0.3234\n",
      "Epoch 20/50\n",
      "11/11 [==============================] - 0s 43ms/step - loss: 2.3459 - accuracy: 0.3372\n",
      "Epoch 21/50\n",
      "11/11 [==============================] - 0s 40ms/step - loss: 2.1866 - accuracy: 0.3897\n",
      "Epoch 22/50\n",
      "11/11 [==============================] - 0s 37ms/step - loss: 2.1039 - accuracy: 0.4137\n",
      "Epoch 23/50\n",
      "11/11 [==============================] - 0s 37ms/step - loss: 2.0141 - accuracy: 0.4380\n",
      "Epoch 24/50\n",
      "11/11 [==============================] - 0s 37ms/step - loss: 1.9458 - accuracy: 0.4478\n",
      "Epoch 25/50\n",
      "11/11 [==============================] - 0s 36ms/step - loss: 1.8620 - accuracy: 0.4616\n",
      "Epoch 26/50\n",
      "11/11 [==============================] - 0s 37ms/step - loss: 1.8659 - accuracy: 0.4682\n",
      "Epoch 27/50\n",
      "11/11 [==============================] - 0s 37ms/step - loss: 1.7365 - accuracy: 0.4873\n",
      "Epoch 28/50\n",
      "11/11 [==============================] - 0s 36ms/step - loss: 1.7035 - accuracy: 0.5196\n",
      "Epoch 29/50\n",
      "11/11 [==============================] - 0s 36ms/step - loss: 1.6511 - accuracy: 0.5153\n",
      "Epoch 30/50\n",
      "11/11 [==============================] - 0s 38ms/step - loss: 1.8882 - accuracy: 0.4631\n",
      "Epoch 31/50\n",
      "11/11 [==============================] - 0s 36ms/step - loss: 1.7124 - accuracy: 0.4928\n",
      "Epoch 32/50\n",
      "11/11 [==============================] - 0s 36ms/step - loss: 1.5522 - accuracy: 0.5461\n",
      "Epoch 33/50\n",
      "11/11 [==============================] - 0s 35ms/step - loss: 1.4782 - accuracy: 0.5494\n",
      "Epoch 34/50\n",
      "11/11 [==============================] - 0s 36ms/step - loss: 1.3751 - accuracy: 0.5974\n",
      "Epoch 35/50\n",
      "11/11 [==============================] - 0s 37ms/step - loss: 1.3331 - accuracy: 0.6050\n",
      "Epoch 36/50\n",
      "11/11 [==============================] - 0s 35ms/step - loss: 1.2605 - accuracy: 0.6280\n",
      "Epoch 37/50\n",
      "11/11 [==============================] - 0s 35ms/step - loss: 1.2533 - accuracy: 0.6354\n",
      "Epoch 38/50\n",
      "11/11 [==============================] - 0s 36ms/step - loss: 1.2340 - accuracy: 0.6301\n",
      "Epoch 39/50\n",
      "11/11 [==============================] - 0s 42ms/step - loss: 1.1837 - accuracy: 0.6517\n",
      "Epoch 40/50\n",
      "11/11 [==============================] - 0s 35ms/step - loss: 1.1840 - accuracy: 0.6474\n",
      "Epoch 41/50\n",
      "11/11 [==============================] - 0s 34ms/step - loss: 1.1168 - accuracy: 0.6765\n",
      "Epoch 42/50\n",
      "11/11 [==============================] - 0s 40ms/step - loss: 1.1447 - accuracy: 0.6494\n",
      "Epoch 43/50\n",
      "11/11 [==============================] - 0s 35ms/step - loss: 1.0968 - accuracy: 0.6641\n",
      "Epoch 44/50\n",
      "11/11 [==============================] - 0s 35ms/step - loss: 0.9655 - accuracy: 0.7240\n",
      "Epoch 45/50\n",
      "11/11 [==============================] - 0s 33ms/step - loss: 0.9873 - accuracy: 0.7002\n",
      "Epoch 46/50\n",
      "11/11 [==============================] - ETA: 0s - loss: 0.9590 - accuracy: 0.71 - 0s 36ms/step - loss: 0.9516 - accuracy: 0.7152\n",
      "Epoch 47/50\n",
      "11/11 [==============================] - 0s 37ms/step - loss: 0.9475 - accuracy: 0.7141\n",
      "Epoch 48/50\n",
      "11/11 [==============================] - 0s 37ms/step - loss: 0.9209 - accuracy: 0.7202\n",
      "Epoch 49/50\n",
      "11/11 [==============================] - 0s 37ms/step - loss: 0.9536 - accuracy: 0.7131\n",
      "Epoch 50/50\n",
      "11/11 [==============================] - 0s 39ms/step - loss: 0.9189 - accuracy: 0.7197\n"
     ]
    },
    {
     "data": {
      "text/plain": [
       "<keras.callbacks.History at 0x234120f98b0>"
      ]
     },
     "execution_count": 15,
     "metadata": {},
     "output_type": "execute_result"
    }
   ],
   "source": [
    "#模型训练\n",
    "model.fit(X_train,y_train_c,batch_size=1000,epochs=50)"
   ]
  },
  {
   "cell_type": "code",
   "execution_count": 16,
   "id": "c2367704",
   "metadata": {},
   "outputs": [
    {
     "name": "stderr",
     "output_type": "stream",
     "text": [
      "C:\\Users\\zheng\\AppData\\Roaming\\Python\\Python38\\site-packages\\keras\\engine\\sequential.py:450: UserWarning: `model.predict_classes()` is deprecated and will be removed after 2021-01-01. Please use instead:* `np.argmax(model.predict(x), axis=-1)`,   if your model does multi-class classification   (e.g. if it uses a `softmax` last-layer activation).* `(model.predict(x) > 0.5).astype(\"int32\")`,   if your model does binary classification   (e.g. if it uses a `sigmoid` last-layer activation).\n",
      "  warnings.warn('`model.predict_classes()` is deprecated and '\n"
     ]
    },
    {
     "name": "stdout",
     "output_type": "stream",
     "text": [
      "[21 21 17 ... 21 13  1]\n"
     ]
    }
   ],
   "source": [
    "#训练数据的预测\n",
    "y_train_predict = model.predict_classes(X_train)\n",
    "print(y_train_predict)"
   ]
  },
  {
   "cell_type": "code",
   "execution_count": 17,
   "id": "afb49b17",
   "metadata": {},
   "outputs": [
    {
     "name": "stdout",
     "output_type": "stream",
     "text": [
      "['e', 'e', ' ', ' ', 'i', ' ', 'i', 'g', 'c', ' ', 'a', 't', 'a', ' ', 'e', ' ', 'n', 'c', 'o', 'a', 'g', 's', 'l', 't', 'n', 'A', ' ', 'n', 't', 'i', 'a', ' ', 'l', 'g', 'b', 's', 't', 'a', 'c', 'o', 'a', 'i', 's', ' ', 'a', 'n', 'o', 'u', 'h', ' ', ' ', ' ', 'i', 'a', ',', ' ', 'n', 'n', 'e', 'm', 'i', 'i', 'f', 'l', 'o', 's', 's', 'o', 'a', ' ', ' ', 'e', 's', 'n', 'f', 'i', ' ', 'g', ' ', 'i', 'i', 'o', 'o', 'e', ' ', 'i', 'u', 'g', 'h', 'n', 't', 'e', 'i', 'd', 'i', ' ', ' ', 'a', ' ', 'a', 'i', 'i', 'I', 'l', 'c', 'l', 't', 's', 'n', 'i', 'c', 'n', 'c', 'v', ' ', 'a', 'c', 's', 'a', 'v', ' ', 'c', 't', 'a', 'n', ' ', 'h', 'h', 'u', 'a', 's', ' ', 'e', 'a', 'n', ' ', 'e', ' ', 't', 'd', 'e', 'c', 'n', '(', 'f', ' ', 'u', 'd', 'a', 'm', 't', 'u', ' ', 'n', 's', 'c', ' ', ' ', 's', 'd', 's', 't', 'n', 'c', 'a', 'I', 'h', 'e', 'e', 'a', 'n', ' ', 'i', 'n', 'n', ' ', 'u', 'm', 'o', 's', 's', ' ', ' ', 'a', 'm', 'c', ' ', 's', 'i', 'm', 'n', 't', 'i', ' ', ' ', ' ', 'a', ' ', 't', ' ', 'e', 's', 'e', 'c', 'n', 't', 'a', 'n', 'a', 'e', 'm', ' ', 'n', 'n', 'a', 'a', ' ', 'a', ' ', 'n', 'o', 'i', 't', 'a', 'c', 'i', 'c', 'm', ' ', 'o', 'a', 'y', ' ', 'a', 'b', 'n', 'i', ' ', 'a', ' ', 'n', 'e', 'i', ' ', 'h', 'e', ' ', 'o', 'h', ' ', ' ', 'a', 'n', 'e', 'f', 'h', ' ', 'v', 'i', 'e', ' ', 'i', 'a', '.', 'f', 'n', 'c', 'e', ' ', 'm', '.', 'a', 'l', 'h', ',', 's', 'i', 'm', 'n', 'n', 'o', ' ', ' ', 'e', 's', 'n', 'd', 't', 'e', ' ', 'h', 'n', 'd', 'i', 'n', 't', 'h', 't', 'c', 'a', 'e', 'l', 'n', 'i', 'i', 'a', 's', 'c', 'e', 's', 'n', ' ', 't', 'n', 'h', 'i', 'u', 't', 'c', 'a', 'n', ' ', 'a', 'n', 'e', 'i', 'u', 'd', 's', 'c', 'a', 'i', 'e', ' ', 'u', 'b', 'e', 't', ' ', ' ', 'A', 'g', ' ', 's', 'g', 'h', 's', 'i', ' ', 'i', ' ', 'g', 'h', 'i', 'a', 'e', 'h', ' ', 'a', 'u', 'c', ' ', 'a', ' ', ' ', 'e', 'c', 'a', 'n', 'a', 'l', 'e', 'a', 'h', 'a', 'a', 't', 'a', 'e', ' ', 'g', 'n', 'i', 'a', 'h', 'n', 'l', 'e', 'g', 'n', ' ', 'y', 'd', ' ', 'a', 'e', 'd', 'n', 'c', 'n', 'a', ' ', 'a', 'c', 'a', ' ', 'h', 'i', 'e', 'I', 's', 'n', 't', 'm', ' ', 'I', 'n', 'a', 'm', ' ', 's', 'i', 'n', 'h', ' ', 'c', 'o', ' ', 'a', 'a', 'a', ' ', 'e', ' ', 'I', 'i', 'l', 'a', ' ', 'a', ' ', 'o', 'a', 'd', ' ', 'n', 'o', 'a', 's', 'i', 'd', 'i', 'n', 'a', 'i', 'n', 'u', 'e', 'd', 'n', 'u', 's', 'u', 'e', 'i', ' ', ' ', '.', 'c', 's', 't', 'o', 'n', ' ', 'l', 'e', 'l', 'i', 'h', 'g', ' ', 'i', 't', 'd', ' ', 'g', 'e', 'a', 'I', 'i', 'f', 'e', 'a', ' ', 'i', 'a', '(', 'i', 'o', 's', 'a', 'e', ' ', 'a', 'm', ' ', 't', 'g', 'g', 'o', 't', 's', 's', 'c', 'i', 'a', ' ', 'e', 'i', ' ', 't', 'a', 'n', 'A', 'I', 'e', ' ', 'a', 'a', 'i', 'a', 'e', 'm', 'e', 'u', 'e', 'h', 'b', 'c', 'f', ' ', 'n', ' ', 'a', 's', 'c', 'i', 'h', 'h', 'm', 'm', 'a', ' ', 'l', 'v', 'e', 'm', 'o', 'o', 'u', 'e', ' ', 'n', ' ', 'y', 'o', 'i', ' ', 'o', 'm', 'v', 's', 'g', ' ', 'n', 'n', ' ', 'a', 'i', 'l', 'e', 'v', 'i', 'e', 'n', 'A', ' ', 'e', 'd', 'e', 't', ' ', 'n', 'n', 'l', 'c', 'i', 'i', 'h', 'i', 'i', 'h', 't', 'n', ' ', 'n', 'c', 'u', 'f', 'h', 't', 'n', 's', ' ', 'a', 'a', 'h', 'u', 'n', 'g', 'n', 'l', 'm', ' ', 'h', ' ', 'd', 'i', 'b', 'i', ' ', 'i', 'a', 'y', 'n', 'n', ' ', 's', 'e', 'f', 'n', ' ', 'c', 'i', 'e', 'c', 's', 'h', 't', 'u', 'l', 'c', 'e', 'a', 'h', 'g', 'a', 'a', 'n', 's', ' ', 'a', ' ', 's', 'n', 'a', 'n', 'c', 't', 'a', 't', 'n', 'n', ' ', 'a', 'u', 'c', 't', 'n', 'g', 'n', 'n', 'y', ' ', 'l', '(', 's', ' ', 'h', 'I', 'm', 'e', 's', 'e', 'i', ' ', 'f', ' ', 't', ' ', 'a', 'i', 't', 'a', 's', 'o', 'n', 'n', 'a', 'g', 'i', 'g', 'a', 'a', 'a', 'e', 'd', 's', 'm', 'v', 'e', 'i', 'c', 'u', 'm', 't', 'a', 'a', 'a', 'h', 'a', 'a', 'a', 'a', 'd', 'e', 'n', 'l', 'g', 'a', 'f', 's', 'c', ' ', 'I', 'h', 'f', 'a', ' ', 'n', 'a', 'n', ' ', 's', 'a', 'm', 'i', 'a', 's', 's', 'y', 'h', ',', 'y', 'n', 'e', 's', 'i', 'm', 'h', 'g', ' ', 'a', ' ', 'f', ' ', 'r', ' ', ' ', 'n', 's', 'n', 'a', 'a', 'a', 'a', 't', 'e', 'g', ' ', 's', 'a', ' ', 'e', 'i', 'n', 'a', 'a', 'n', 'i', 'n', 'o', 'n', 'i', 's', 'i', 'i', 'u', 'i', 'n', ' ', 'c', 'g', 'g', 'm', 'o', 'n', ' ', ' ', 't', 'a', ' ', 'l', 'c', 'g', 't', ' ', 'c', 'n', ' ', 'i', 'h', ' ', 'y', 'e', 'c', 't', 'e', 'o', 'f', ' ', 't', 'l', 'a', 'e', ' ', 'r', ' ', 'h', 't', 'c', 'c', 'h', 'a', 'a', 'i', 'i', 'e', 'a', ' ', 'c', 'a', ' ', 'o', 'u', 'n', 's', 'c', 'i', 'g', 'n', 'o', 'g', 'n', 'e', 'a', 'a', 'c', 's', 'c', 'a', 'a', 'o', 'n', 'n', 'd', 'g', ' ', 'i', 'i', 's', 'b', 'g', 'n', 'e', ' ', 'u', ' ', 'i', 's', 'a', 'o', 'n', 'n', 'a', 's', ' ', 't', 'n', 'a', 'a', 'i', 'a', 'i', 'I', 'h', 'd', 'a', 's', ' ', 'i', 'm', 'h', 'g', 'c', 'I', 't', 's', 't', 'e', ' ', ' ', 's', ' ', ' ', 'g', 'i', 'h', 'f', 'o', 'e', ' ', 'u', 'm', 'i', ' ', ' ', 'c', 'g', 'h', ' ', 'v', 'g', 'i', 'a', 'e', 't', 'o', ' ', 'i', 'e', 'a', 's', 'n', 'A', ' ', 'n', 'n', 'h', 't', 'o', ' ', 'b', ' ', 't', 'e', 'h', 'f', 'r', 'n', ' ', 'e', 'g', 't', 'e', 'e', 'i', 'g', 'y', ' ', 'i', 'n', 'i', 'o', ' ', 't', 'c', 'a', 's', 'e', 'o', 'g', 'y', 'h', 'i', 'e', ' ', ' ', 'i', 'm', 'i', 'm', 'c', ' ', 'a', ' ', ' ', 'i', 'i', 'a', 'a', 'h', 'h', 'f', 'h', 'a', 'h', ' ', 'A', 'i', 'i', 'e', 'c', 'g', 'g', 'e', 'n', 'g', ' ', 't', 'a', 'l', 'a', 'c', 'e', 'a', ' ', 'a', 'e', 'c', 'e', 'e', ' ', 'm', 'n', 's', 'n', 's', ' ', ' ', 'a', 'b', 'm', 'a', 'I', 'f', 'a', 'a', 'n', ' ', 'n', 'a', 't', 'a', 'o', 's', 'c', ' ', 'e', 'n', 'e', 'c', 'u', 'g', ' ', 'a', 'a', 'h', 'u', 'i', 't', 'a', 'c', 'c', ' ', 'm', 'i', 'a', 'g', 'n', '.', 'a', 'e', 'i', 't', 'e', 'e', 'm', 'e', ' ', ' ', 'a', 'a', ' ', 'c', 'A', 't', 'l', 'a', ' ', ' ', 'I', 's', 'n', 'a', 'y', 'a', 't', 'e', 'n', 'd', 'y', ' ', 'i', 'g', ' ', 's', 'i', 'n', ' ', ' ', 'i', 'a', 'y', 'a', 'a', 'n', 'l', 'n', 't', 'm', 'l', 'o', ' ', 'a', 'n', 'i', 'e', 'a', 'a', 'n', ' ', ' ', ' ', 'a', 'a', 'u', 'a', 'd', 'e', 't', 'h', ' ', 's', 'g', 's', 't', ' ', 'a', 'a', 's', 'c', 'd', 'n', ' ', 'a', 'a', 'c', ' ', 's', 'i', 'f', 'a', 'h', 'e', 'r', 'd', 'a', 'f', 's', 'f', ' ', 'd', 'm', '(', 'f', 's', 'l', 'm', 'n', ' ', 't', 'd', 'i', 'l', 'a', 'i', 's', 'i', 'e', 's', ' ', ' ', 'a', 'e', 'i', 'h', 'e', ' ', ' ', ' ', ' ', ' ', 'e', ' ', ' ', 'v', 'e', 'e', 'i', 'a', ' ', 's', 'a', 'n', ' ', 'n', 'a', 'n', ' ', ' ', 'm', 'a', 'e', 'o', 'a', '.', 'o', 't', 'r', 'b', 'n', 'u', 't', 'i', 'a', 'e', 'a', 'n', 'v', 'i', ' ', 'f', 'c', 'c', ' ', 'A', 'h', ' ', ' ', 'g', 'a', 'e', ' ', 'l', 'a', ' ', 'n', ' ', 'h', 'a', 'l', 't', 'i', ' ', 'c', 'h', 's', 's', ' ', 'a', 'e', 'i', 'e', ' ', 't', 'I', 'u', 'h', ' ', 'e', 'd', ' ', ' ', 'h', 'c', 't', ' ', 'g', 'a', 'n', 'c', ' ', ' ', 'h', 'e', 'c', 'e', 'b', ' ', 'e', 'e', ' ', 'o', ' ', 'c', 'r', 'r', 't', 'g', 's', 'a', 'n', 's', 'e', 'o', 'n', 'y', 's', 'o', 'o', 'e', 't', ' ', 'a', 't', 'o', 'd', 'i', 'a', ' ', 'c', 'c', 'a', 'n', 't', 'o', 'm', ' ', 'c', ' ', 'n', 'v', ' ', 'l', 'l', ' ', 'n', 'c', 'a', 'f', 'e', 'c', 'g', 'y', 'h', 'd', 'i', 'd', 'a', ' ', 'm', ' ', 'a', 'm', 'n', 'a', 'a', 'c', 't', 'i', 'h', 'a', 'h', 'n', 's', 's', 'm', 'g', 'l', ' ', 'i', 'v', 'e', 'h', 'c', 'h', 'h', ' ', 'l', 'r', 'm', 's', 'g', 'a', 'a', 'a', 'e', 'c', 'a', 't', ' ', 'n', 'A', 'g', ' ', 'c', 'a', 'd', 'c', 'n', 'g', 'h', 'c', 's', ')', 'i', 'a', ' ', 's', 's', 'l', ' ', 'd', ' ', 'i', 'g', ' ', ' ', 'n', 'a', 'e', 'c', 'e', 'l', ' ', 'a', 'i', 'c', 'a', ' ', 'a', 's', 'e', 'a', 't', ')', ' ', 'i', 'n', 'I', 'h', 'a', ' ', 's', 'f', ' ', 'n', 'g', 'e', 'I', 't', 'e', 's', 'i', 'e', 'f', 'o', 'c', 'a', 'i', 's', ' ', 'i', 'a', 'a', ' ', 'g', 'h', 'e', 'g', 'n', 'a', 'c', 'c', 'g', ' ', ' ', 'I', ' ', 'h', ' ', 'h', 'g', 'h', ' ', 'n', 'i', 'l', 'n', ' ', ' ', 'l', 'd', 'n', 's', 'c', 'a', 's', 'i', 's', 'a', 'e', ' ', 'e', 's', 'i', 't', 'n', 'e', 'g', 'g', 'i', 'n', ',', ' ', 'l', 's', 'h', 't', 'h', ' ', 'a', 'o', 'n', 'n', 'n', 'e', ' ', 't', 'i', 'i', 'e', ' ', 'e', 'n', 'e', 'i', 'i', 'a', 'a', ' ', 'c', ' ', 'g', 'e', 'e', 'a', 'n', 'c', 's', 'c', 'a', 'n', 'n', ' ', 's', ' ', 'a', 'l', ',', 'a', 'v', 'h', 'g', ' ', 'c', 'v', ' ', 'o', 'n', 'm', 'e', 't', 'i', 'f', 'h', 't', 'd', 'l', 'c', ' ', 'n', 'a', ' ', 'u', 'n', 'e', 'i', 'i', ' ', ' ', ' ', 'g', ' ', 'u', ' ', 'o', ' ', 'a', 'e', 'i', 'i', 'l', 'g', 's', 'a', ' ', 'v', ' ', 'd', 'c', 'a', 'o', 'a', 's', '(', 'm', 'v', 'c', 'g', 'e', ' ', 'a', 'a', 'c', 't', 'c', 'h', 'a', ' ', 'a', 's', ' ', 'f', 's', 't', 'u', 'g', 'a', ' ', 't', 'i', 'a', ' ', 'n', 'd', 'n', 'o', 'o', 'i', 'v', 'y', 'l', 'n', 'f', 'e', 'a', 'b', 'n', 'c', 'o', 'c', 'c', ' ', 'n', 'r', ' ', 'a', ' ', 'f', 's', 's', ' ', 'l', 'd', 'i', ')', 'i', 'i', 'a', 'c', 'o', 's', 's', 'b', 's', 'e', 'A', 'a', 't', 't', 'h', 'c', 's', 'f', 'e', 'u', 't', 'o', 'e', 'u', 'i', 'a', 't', 'n', 'a', 'c', 'f', 'a', 'a', 'i', ' ', 'd', 'e', ' ', 'u', ' ', 'a', 'e', 'e', 'g', 'h', 'a', 'd', 'u', 'a', 't', 'e', ' ', ' ', 'e', 'n', 'e', 'l', 'a', 'i', 't', 'i', 's', 'e', ')', ')', 'A', 'e', 'a', 'i', 'e', 'a', 'n', 'e', ' ', 't', 'e', 'h', 'a', 's', 't', ' ', ' ', 'i', 'e', 's', ' ', 'h', 'n', 'o', 'a', 'i', 'm', 'h', 'f', 't', 'v', 'y', ' ', 's', 'a', 'e', 'e', 'e', 'c', 'a', 's', '.', 'a', 'a', 'e', 's', 'u', ' ', 'u', 'c', ',', 'l', 'l', 'n', ' ', 'o', 'e', 'I', 'i', ' ', ' ', ' ', ' ', 'i', 'o', ' ', ' ', 'a', 'd', 't', ' ', 'd', 'n', 'i', 'a', 'a', 'y', 'n', 'e', 'l', 's', 's', 's', 'u', 'i', 't', 'f', 'c', ' ', 'u', ' ', ',', 'a', 'n', 'g', 'g', 'm', 'c', ' ', 'a', ' ', ' ', 'd', 'a', 'a', 'e', 'g', 'a', 'a', 'c', ' ', 'e', 't', 'd', 'e', 'a', 'a', 'c', ' ', 'a', ' ', 'a', 'n', ' ', 'a', ')', 'e', 'e', 'i', 't', ' ', 'h', ' ', ' ', 'i', 'h', ' ', 'e', 'n', 'n', 'a', 'd', 'n', ' ', 'u', 'i', ' ', 'a', 'i', 'i', 's', 'e', 't', 'n', ' ', ' ', ' ', ' ', ' ', 'n', 'e', ' ', 'i', 'r', 'n', 'a', 's', 'n', 'g', 'a', ' ', 'a', 's', 't', 'r', ' ', 'n', 'f', ' ', 'h', 'r', 's', 'y', ',', 'a', 'n', 'a', 'i', 'a', 'i', ' ', ' ', ' ', 'c', 'u', 's', ' ', ' ', 'A', 'a', 'a', 'i', 'a', ' ', 'c', 'i', 'i', ' ', ' ', 't', ' ', 'c', 'i', 'i', ' ', 'c', ' ', 't', 'i', 'i', ' ', ' ', 'g', 'n', 'a', ' ', ' ', 'd', 'g', ' ', 'c', 'a', 'e', 'c', ' ', 'b', ' ', 'i', ' ', 'a', 's', 'e', 'n', 'n', 'c', 'e', 'a', 'm', ' ', 'c', 'i', 'a', 'n', 's', ' ', ' ', 't', 'e', 'b', ' ', 'v', 'i', 'A', 'a', 's', 'e', 'a', ' ', 'o', 'e', 'e', ' ', 'a', 's', 'm', 's', ' ', 'g', ' ', 'a', 's', 'g', 'd', 'm', 't', ' ', ' ', 'a', 'a', 'e', 'i', 'u', ' ', 's', 'i', 'v', ' ', ' ', 'a', 'a', 'f', 'e', 'a', 'a', ' ', 'a', ' ', 'm', 's', 'f', ',', 'h', ')', 't', 'h', 'h', 'y', 'e', 'g', 's', 'e', 't', 'u', 'e', 'a', 'e', ' ', 'f', ' ', 'e', ' ', ' ', 'a', ' ', 'l', 'h', 'm', 'u', ' ', ' ', 'a', 'a', 'd', 'd', 'f', ' ', 'e', ' ', 'd', 'l', ' ', 'i', 's', 'c', 's', 'n', 'i', 't', 'e', 'e', 't', ' ', 'a', 'n', 'a', 'n', 'i', ' ', 'e', ' ', 'o', 'o', 'l', 'e', ' ', 'a', 'a', 'n', ' ', 'm', ' ', 't', 'c', 'g', 'c', ')', 'a', 'i', 's', 'e', 'd', 's', 'A', 'l', 'n', ' ', 'g', 'h', 'a', 'a', 'a', 'A', 'o', 'n', 'h', 'e', ' ', 'n', 'n', ' ', 'a', 's', 'c', 'e', 't', 't', 'h', ' ', 'i', 'a', 'a', 't', 'n', 'i', 'e', 'm', ' ', 'a', 'i', 'a', 'd', ' ', 'g', 'c', 'n', 'e', 'l', ' ', ' ', 'a', 'm', 'e', 'o', 'e', ' ', 'a', 'i', 'e', 't', 'e', 't', 'c', ' ', ' ', 't', 'n', 't', 'l', 'i', 'e', ' ', ' ', 'c', 'l', 'e', 'e', 'a', 's', ' ', 'n', 'i', 's', 't', ' ', 'c', 'u', 'c', 'n', 't', 'd', 'b', 'h', 'a', ' ', 't', 'y', 'c', 'e', 'y', 't', 'a', 'i', 'c', 'i', 'a', 'e', 'g', 'd', 'a', 'e', 'i', 'c', 'c', 'h', 'n', 'a', 'n', 'a', 'u', 'o', ' ', 'v', 'f', 's', 'e', 'l', 'n', 's', 'n', ' ', 'h', 'i', ' ', 'u', 'i', 'a', 'g', 't', 'n', ' ', 'a', 's', 'f', 'n', 'a', ' ', 'i', 'a', ' ', 'i', 'u', 'e', 'l', 't', 'i', ' ', 'm', 'n', 'i', ' ', 's', 'b', 'A', 'i', 'i', 'h', 'a', 'a', 'a', ' ', 'm', 'i', 'c', 'l', 'c', 'a', 'u', 'i', ' ', 'e', ' ', 'm', 'e', 'i', 'g', ' ', 'a', ' ', 'u', 'g', 'a', 's', 'i', 'i', 'e', 'e', 'e', 's', 'a', 'i', 'v', ',', 'n', 'n', 'u', 's', ',', 's', 'a', ' ', 'a', ' ', 'h', ' ', 'l', 'e', 'o', 'e', 'a', ' ', 'i', 's', 'a', 'a', 'e', 'o', 's', 'h', 'e', 'a', 'a', ' ', 'a', 'i', 'e', ' ', 'i', 'c', 'n', ' ', ' ', ' ', 'a', 'e', 'g', 'h', 'c', 'e', 'a', 't', 'o', 't', ' ', 'b', ' ', 'h', 'a', 'n', 'a', 'r', ' ', 'm', ' ', ' ', 'o', ' ', 'e', 'c', ' ', ' ', 't', 'a', 'u', 'a', ' ', 'i', 'e', 'l', 's', ' ', 'e', 'm', 'n', 'I', 's', 's', ',', 'n', 'i', 'e', 'a', ' ', 's', 'c', 'l', 'a', 'g', 't', ' ', 'g', 's', 'h', 'a', 't', 'n', 'i', 'g', ' ', 'i', 'e', ' ', 'm', 'i', 'A', 'a', 'i', 'e', ' ', 'a', 'n', 'n', 'a', 'a', 'a', 'n', 'l', 'h', 'e', ' ', ' ', '.', ' ', 'v', 'a', 'o', 'u', 'a', 't', 'n', 'n', 'i', 'o', 'f', ' ', ' ', 'a', ' ', 'a', 'i', 'g', 'e', 't', 'c', 'g', 'i', 'g', 'i', 'n', 'e', 'a', 't', 'g', 'd', ' ', 'c', 'h', 't', 'a', 'n', 'e', 'c', 's', 'e', 's', 'a', 't', 't', ' ', 'y', 'o', 'i', 'h', 'n', 'u', 'i', 'u', 'a', 'h', 'g', 'h', ' ', 'a', 'i', 'h', ' ', 'a', 't', 'c', 'n', 's', 'h', 'a', 'e', 'n', 'c', 's', 'i', 'd', 's', 'a', ' ', 'e', 'y', 'i', 'i', 'c', 'y', 'i', 'c', 'c', 'a', 'i', ' ', ' ', 'y', 's', 'm', 't', 't', 'u', ' ', ' ', 'e', 'd', 'c', 'a', 'n', 'i', 'e', 'n', ' ', 'h', 'e', 'i', ' ', ' ', ' ', 'm', 'a', 't', 'm', 'i', ' ', 's', 'h', 'i', ' ', 'a', 'h', ' ', 'e', 'o', 'i', 'a', 'm', 'o', 'r', 'e', 'n', 'd', 'c', 'e', 'n', 'd', 's', ' ', 'a', 'v', ' ', 'n', ' ', 'e', ' ', ' ', 'I', 'e', 't', 'a', 's', 'a', ')', 'a', ' ', 's', 'e', 'u', 'n', ' ', 'c', 'c', 'a', 'y', 'l', 'o', 'i', ' ', 'e', 'i', 'a', 'a', 'n', 'e', 'h', 'c', 'a', 'i', 'h', 'h', ' ', 'e', 'g', 'e', 'n', 'i', 'a', ')', 'n', 'a', ' ', 'g', 'f', 'e', 's', 't', ' ', 'c', ' ', 'l', ' ', ' ', 'g', ' ', 'e', 'u', 'n', 'm', 'a', 'e', 's', 'g', ' ', 'a', ' ', 'I', 'c', 'i', 'e', 'i', 'n', 'n', 'i', 'm', 'i', 'g', 'i', 'a', 'g', 'i', 'a', 'e', 'a', 'a', ' ', 's', ',', ' ', 'i', ' ', 'n', 'i', ' ', 'e', 'o', 'n', ' ', 's', 'u', ' ', 'i', 't', 'h', 'a', 'a', ' ', 'c', ' ', ' ', 'a', 'c', ' ', 'o', 'a', 'a', ' ', 'v', '(', ' ', 'e', 'i', 'e', ' ', 'a', 'h', 'a', 'a', 'n', 'c', 'a', 'i', ' ', 'a', 'h', 'o', 'l', 'a', 's', ' ', 'r', ' ', 'a', 'v', 'i', ' ', 'e', 'y', 'c', 'e', 'n', ' ', ' ', ' ', 'a', 'e', ' ', 'i', 'e', ' ', ' ', 'c', 'a', 'a', 'm', 'I', 'i', 'n', 'a', 'i', ' ', 'n', ' ', 'i', ' ', 'i', 'e', 'a', 'n', 't', 'n', 'i', ' ', ' ', 'u', 'm', 'o', 'f', 'i', 'a', 'a', 'g', 'a', ' ', 'i', 'c', 'v', 'e', 'n', 'h', 't', 't', 'l', 'e', 'n', 's', 'i', 'n', 'I', ' ', 'i', 'f', 'c', ' ', 'a', 'c', ' ', 'a', 's', 'd', 'a', 'y', ' ', ' ', ' ', 'g', 'e', ' ', 'a', 'n', ',', ' ', 'f', 'v', 'I', 'n', ',', 'a', 'o', 'e', 'f', 'u', 'i', 'n', 'n', 'm', 'o', 'e', ' ', ' ', 'a', 's', ' ', 's', 's', 'a', 'o', 'a', 'm', 'm', ' ', ' ', 'a', 'i', 'a', 'e', 'h', 'i', 'a', ' ', 'n', 'l', 'n', 'l', 'm', 'e', 'i', ' ', ' ', 'u', 'a', 'g', 'g', 's', 'y', 'e', 'n', 'u', 's', 'n', ' ', 'h', 'h', ' ', ' ', '(', 'a', 'e', 'l', 'h', 'a', ' ', 'a', 'h', 'n', 'h', 'o', 't', 'c', 'a', ' ', 'c', ' ', ' ', 'i', ' ', 't', 'b', 'a', 'n', 'n', 'i', 'a', 'i', 'i', 'e', 'n', 'e', 't', 'c', ' ', 's', 's', 'i', 'd', 'c', 'd', 't', 'i', ' ', 'a', 'n', 'c', ' ', 'e', 'v', 'a', 's', 'i', 'i', 'i', 'm', 's', 'o', 'h', 'n', 'c', 's', 't', 'y', 'a', 'a', 'a', 'e', 'i', 'a', 'a', 'i', 'o', 'i', 't', 'c', ' ', 's', 'f', ' ', 's', 'm', 'c', 'e', 'm', 'l', 'l', 'n', 'y', ' ', 'n', 'n', 'g', 'a', 'i', 't', 'r', 'd', 'i', 'l', ' ', ' ', 'i', 'a', 'c', 'u', 'v', 'I', ' ', 'c', 'e', 'i', ' ', 'c', 'n', 'u', 'e', 'm', 'a', 'a', ' ', ' ', 'i', 'e', ' ', 'e', 'n', 'e', ' ', 'h', 'e', 's', 'n', 'h', 'a', ' ', 'a', ' ', 'a', ' ', 't', 'g', ')', 'e', 'l', 'o', 'i', 'a', 's', 'a', 'i', ' ', 'h', 'e', ' ', 'a', 'a', ' ', 'a', 't', 'i', 'c', 't', ' ', 'n', 'm', 'a', 'h', 'y', 'b', 'c', 'g', 'n', 'i', 'a', '(', 'a', 't', ' ', 'e', ' ', 'n', ' ', 'o', 'a', ' ', 'h', ' ', ' ', 'e', 'i', ' ', 't', ' ', 't', 'a', 'i', 'v', 'e', 'c', 'e', 'v', 't', 'i', 't', 'a', 'a', ' ', 'i', 'r', 'r', 'a', 'e', 'h', 'n', 'c', 'v', 'b', 'o', ' ', 'l', 'e', 'e', ' ', 'o', 'm', 'o', ' ', 'A', ' ', 'n', 'i', 'e', 'e', 'a', ' ', ' ', 'e', 'a', 'g', 's', ' ', 'f', 'c', 'i', 'h', 'i', 'c', 'A', 't', 's', 'n', '.', 'i', 'm', 'n', 'c', 'n', 's', ' ', 'a', '(', 'g', 'g', 'e', 'i', 'i', 'a', ' ', ' ', ' ', 'y', 'h', 'n', 'a', 's', ' ', ' ', 'i', ' ', 'A', 'u', 's', 'n', 'e', 'b', '(', 'n', 'A', ' ', 'i', 'i', 'h', 'i', ' ', 't', 'a', 'n', 'r', ' ', 'e', 'l', 'h', 'n', 'v', 'h', 'n', 'n', 't', ' ', 'i', 'g', 'i', 's', ' ', ' ', 'a', 'f', 'i', 'n', 'm', 'c', 'c', 't', 's', 'g', 'u', 'o', 'e', ' ', 'g', 'g', 'r', 'i', 'n', 'c', 'n', 'f', 'm', 'n', 'n', 'n', ' ', ',', ' ', 's', 'i', 'n', 'e', ' ', 'y', ' ', ' ', 'l', ' ', 'a', 'n', 'e', 'e', 'e', 'e', 'a', 'e', 'd', 'h', ' ', 't', 't', 'n', 'd', 'a', 'a', 's', 'i', 't', ' ', 'e', ' ', 'l', 'i', 'e', 'n', 'i', ' ', ' ', 'a', 'o', 'e', 'a', 'o', 'a', 'i', 'i', 's', 'h', 'o', 'o', 'c', '(', 'c', 't', 't', 'n', 't', 'l', 'b', 'd', 'd', ' ', 'e', 'a', 't', 'a', ' ', 's', 's', ' ', 'i', 'e', 'o', 'n', 'n', 'h', 'c', 'c', 'a', 'h', 'y', 'f', ' ', 'i', 'i', ' ', 't', 's', 'd', ' ', 'i', 'i', 't', 't', ' ', 'e', 'g', 'a', ' ', ' ', 'i', ' ', ' ', ' ', ' ', ' ', 'a', 'a', 'a', ' ', 'e', 'a', 'i', 'n', ' ', 'e', ' ', ' ', 'a', 'c', 'c', 'i', 'v', 'e', ' ', 't', 'c', 'g', 'h', ' ', 'a', 'n', 'n', 'c', 't', ' ', ' ', 'e', 'g', 'n', ' ', ' ', 'o', 'n', ' ', ' ', 'a', 'n', ' ', 'e', 'n', 'e', ' ', 'a', 'y', 'c', 'e', 'o', 't', 's', 'a', 'd', 'd', 'n', 'n', 'a', 's', 'i', 'n', 'a', 'n', 'm', 'e', 'o', 'c', 'm', 'y', ' ', 'i', 'a', 'n', 'a', 'g', 'y', 'i', 'A', 'a', ' ', 's', 'n', 'c', ' ', ' ', 't', 'y', 'm', 's', 'e', ' ', 'm', 'i', 't', ' ', 't', 'm', 'a', 'A', 'g', ' ', 'm', 'a', 'a', ' ', 'g', 'u', 't', 'e', ' ', 'e', 'g', 't', 'e', 'o', 'n', 'o', 's', 'a', 't', ' ', ' ', ' ', 'd', 'i', 'a', 'a', 'i', 'e', ' ', 'd', 'a', 'e', 'e', 'i', ' ', 'n', 'y', 's', 'a', 's', 'a', ' ', 'i', 'h', 'g', 'b', 'r', 'e', ' ', 's', 'a', 'a', ',', 'v', ' ', 'i', 'm', 'i', 'c', 'o', 'h', 'a', 'a', 'n', 't', 'n', ' ', 't', 'n', 'n', 'c', 'n', 'l', 'a', ' ', 'g', 'g', 'a', 'h', 's', 'i', 'e', 'e', 'n', 'A', 'c', 'i', ' ', 'e', 'a', ' ', 's', 'n', 'e', 'a', 'I', 'u', 'i', 'f', 'n', 'c', 'b', ' ', ' ', 'e', 'i', ' ', ' ', 'h', 'n', 'e', 'm', '(', 'i', 'i', ' ', 'h', 'm', 'g', 'n', 'm', 'n', ' ', 't', 'h', 'i', 't', 'g', ' ', 's', 'a', 't', 'a', 'o', 'u', 's', 't', 'a', 'g', ' ', 'h', 's', ' ', 'i', 'd', 'g', 'n', 'i', 'a', 'e', 'i', 'h', 'a', 'a', ' ', ' ', 't', 'd', 'o', 'y', 'y', 'o', 'c', 'e', 'a', ' ', 's', 'm', 'n', 'a', ' ', 'n', 'c', 'g', 't', 'a', 'h', 'a', ' ', 'u', 'c', 'i', 't', 'a', 'e', 'e', 's', 'g', 's', 'f', 'n', 'v', 'a', 'o', ' ', 'e', 'c', 'a', 'o', 'u', 'e', 'e', 't', ' ', 'o', ' ', 'n', 'a', 'e', ' ', ' ', 'i', 'f', 'a', 'e', 'e', 'h', 'c', 't', 't', 'a', 'a', ' ', 's', 'a', 'm', 'a', ' ', 'e', ' ', 'o', 'a', 'e', 's', 'e', 'e', ' ', 'g', 'n', 'i', 'e', 'n', 'h', 'a', ' ', 'a', 'l', ' ', 's', 'm', 'n', 'o', 'f', ',', 'v', 'i', 'a', ' ', 's', 'i', 'g', 'i', 'i', 'a', 'c', 'a', '(', ' ', 'c', 'f', 'h', 's', 'i', 't', 'u', 'a', 'a', 'y', 's', 't', 'e', ' ', 't', 'v', 'n', 'v', 'c', 'm', ' ', 't', 'e', 'a', 'o', 'd', 'h', 'h', 'n', 'c', 'a', 'a', ',', ' ', 'a', 'a', 'i', 'n', 's', ' ', 'u', 'e', 'a', 'c', 'i', 'a', ' ', ' ', 'o', 'f', 'i', 'n', 'b', 'i', 'g', ' ', 's', 'n', 'g', 'f', 's', 'i', 'b', 'i', 'g', 'i', 'b', 'c', 'n', 'h', 'a', 'c', ' ', 'a', ' ', 'm', 'i', ' ', 'n', 'n', 'c', 'h', 'e', 'l', 'a', ' ', 'I', ' ', 'o', ' ', 'a', 't', 'a', ' ', 'e', 'e', 'a', 'o', 's', 'a', 'a', 'e', 's', 's', 'a', 'i', 'e', ' ', 'a', 'a', 's', 'g', 'n', ' ', 'a', 'e', 's', 'c', 'd', 'c', ' ', 'e', 's', ' ', 'r', 'n', ' ', 'a', 't', 'e', 'a', 'A', 'n', 'y', 'h', 'n', 'd', 'n', 'a', 'I', ' ', ' ', 'd', 'h', 'a', ' ', 'n', 'c', 's', 'l', ' ', 'e', 'i', 'h', 'a', ' ', 's', 'e', 'o', 'i', 'n', 's', 'c', 'd', 'b', 'e', 't', 'c', 'c', 'a', 'i', 'n', 'a', 'a', 'e', 'a', 'e', 'e', 's', 'o', 'i', 't', 's', ' ', 'a', 'n', 'a', ' ', 'e', 'e', 'A', 's', ' ', 'l', 't', 'a', 'i', 'a', 'd', 'a', ' ', 'e', 'e', ' ', 'e', 'e', '.', ' ', 'c', 'h', 'g', 'a', 'l', 'c', 'g', 'i', '.', 'i', 'a', 'i', 'e', 'i', 'a', 'c', ' ', 'h', 's', 't', 'a', 'c', 'y', 'h', 's', 't', ' ', 'n', 'n', 'i', 'e', ' ', 'e', 'c', 'u', ' ', 'a', 'a', 'g', ' ', ' ', 'c', 's', 'i', 'a', 'e', 'e', 'h', ' ', 'n', 'f', ' ', ' ', 'n', 'i', 'h', 'e', 'g', 'n', ',', 'a', 'a', ' ', 'n', 'd', 'h', 'e', 'i', 'n', ' ', 'y', 'a', 'a', 'a', 'c', 'a', 'c', 'y', ' ', 'a', 's', 'l', 'c', 'i', 'a', ' ', ' ', 'a', ' ', 'n', 'u', 's', 'n', 'a', 'i', 'a', 'd', 'e', 'o', 'n', 'a', 'd', 't', 'n', 'd', 'a', 'i', 'n', 'b', 'v', 'a', 'n', ' ', 'n', ' ', 'i', 'i', 'e', 'h', 's', 'n', 't', ' ', ' ', 'a', 'e', 'a', 'c', 'l', 'a', 'f', 'i', 'a', 'o', ' ', 's', 'i', 'i', ' ', ' ', 'n', 'n', 'n', ' ', 'n', ' ', 't', 'a', ' ', 'c', 'i', 'n', ' ', 'i', 'i', 'a', 'n', 'e', 'a', 'i', 'i', 'i', 'i', 'e', 'o', 'n', 'a', 'a', 'a', 'h', 'a', 'a', 'i', ' ', 'c', 'c', 'l', 'i', 'i', 'A', 's', 's', 'g', 'i', 'n', 'n', 'u', 't', 'a', ' ', 'a', 'a', 'n', 'i', ' ', 'o', 'a', 'c', 'i', 'c', 'c', 'c', 'b', 'i', 'm', 'o', 'r', 'y', 'a', ' ', 'e', 'l', ')', 'i', 'a', 't', ' ', 'a', 'i', 'c', 'n', 'h', 'a', ' ', 'a', 's', 'v', ' ', 't', 'a', 'a', 'c', 'e', 'd', 'l', 'e', ' ', 'm', 'n', 'a', ' ', 'n', 'a', 'i', 'v', 'd', 'A', 'e', 'e', 'l', 'r', 'f', 'a', 'a', 'g', 't', 'i', 'o', 'l', 'f', ' ', 'c', 'c', 'i', ' ', 'f', 'c', 'n', 'a', 'n', 'i', 'i', 'e', 't', 'o', ' ', ' ', ' ', ' ', ' ', ' ', 'g', 'o', 'c', 'u', 't', 'n', 'a', 'e', 'a', 'A', 'i', 'i', 'a', 'm', 'a', 't', 'c', '(', 'g', 'u', ' ', 'v', 'n', 't', 'i', 's', ' ', 'a', 'c', 's', 'c', 'a', ' ', 'a', 'h', 'c', 's', 'a', ' ', 'a', 's', ' ', ' ', 's', 'i', ' ', 'a', 'a', 'h', 'f', 'e', 'f', 'c', 'i', 'l', 'i', 'n', 'a', 'i', 'n', 'h', 'n', 'e', 'v', 'e', 'n', '(', 'd', 'c', ' ', 'a', ' ', 'e', 'm', ' ', 'e', 'a', 'h', 'a', 'e', '(', 'n', 's', 'l', 'e', ' ', 'a', 'y', 'i', ' ', 'a', 'e', 'c', 'e', ' ', 'i', 'm', 'i', 'v', ' ', 'n', 'm', 'a', 's', 's', 'e', 'n', ' ', 'a', ' ', '.', 'b', 's', ' ', 'a', 'o', 't', 'a', 'i', 'e', 'b', 'u', 'i', 'e', 't', ' ', 's', 't', 'e', 'm', 'c', 'u', 'e', 'i', 'e', 'e', 'n', 'i', 'g', 't', ' ', 's', 'l', 'A', 'a', ' ', 'i', ' ', 'e', 'd', ' ', 's', ' ', 'i', 'd', ' ', 'c', 'h', 'e', ' ', 'd', 'g', ' ', 't', 'A', 'g', 'h', 'o', 'n', 'a', 'a', 'n', 'u', 'e', 'h', 'a', 'e', 'e', 'y', 'a', 'u', 'a', ' ', 'a', ' ', ',', ' ', 'A', ' ', 'e', 'g', 'i', 'i', ',', 'u', 'a', 'g', 's', 'e', 'i', ' ', 'i', 'm', 's', 'n', 'e', 'i', 'e', 'c', ' ', 'e', 'c', 'a', 't', 's', 'e', 'i', ',', 'm', 't', 'g', 'a', ' ', ' ', 'g', 't', 't', ' ', ' ', 'a', 'o', 'i', 'a', 'a', 'd', 'A', 'e', 'I', 'e', 'u', 'e', 's', 'c', 'a', 'e', 's', ' ', 'a', ' ', 'c', ' ', 'd', 's', 'd', 's', 'n', ' ', 'e', 'i', 'u', 'i', 'i', 'a', 'l', 'i', 's', 'a', 'c', 's', 'o', 'i', 's', 'i', 'n', 't', 'c', 'v', 's', ' ', 'a', 'o', 'r', 'a', ' ', 'a', 'i', 'g', ' ', ' ', ' ', ' ', 'c', 'n', ' ', 'e', 'o', 'c', 'c', 'a', 'c', 'a', ' ', 'l', 'c', 't', ' ', 'c', ' ', 'g', ' ', 'e', 'r', 'i', 'y', 'a', 'e', 'h', 'm', 'i', 'm', 'n', ' ', 'v', 'n', 't', ' ', 'l', 'o', 'm', 'a', 's', 's', 'e', 'a', 'd', 'e', 'e', 'n', ' ', 'o', 'd', 'f', 'i', 'b', ' ', 'h', 'u', 'a', 'a', 'c', 'y', 'i', ' ', 'i', 't', 'c', 'i', 'a', 'u', 'a', ' ', 'o', 'n', ' ', 'n', 'e', 'd', 'i', ' ', 'i', ' ', ' ', 'o', 'u', 'h', ' ', 'n', 'a', 'a', 'e', ' ', 'i', ' ', ' ', ' ', 'c', 'u', 'n', 'c', 'a', 'c', 'n', ' ', 's', 'n', ' ', 'a', 'c', 'c', 'n', 'l', ' ', 'n', 'n', 'h', ' ', ' ', 'a', ' ', ' ', 'a', 'a', 'm', 'i', 'n', 'a', 'n', ' ', 'g', 'c', 'i', 'a', 'i', 'h', 'h', 'g', 'e', 'e', 'm', 'i', 'i', ' ', 'l', 'n', ',', 'e', 'i', 't', 'l', 'a', 'h', 'a', 't', 'c', 'i', ' ', 'f', 'y', 'i', 'm', 'g', 'n', 'o', 'a', 'e', ' ', ' ', 'e', 'i', 'n', 'y', ' ', ' ', 'e', 'g', 'c', 'n', 'a', ' ', ' ', 't', 'e', 'a', 'n', 'm', 'g', 'a', 'l', 'a', 'A', 't', ' ', ' ', 'a', 'd', 'a', ' ', 'c', 'a', 'm', 'a', 'd', ' ', 's', 'b', 'i', 'a', 'e', 'e', 'i', 'n', 'f', 'a', 'i', 'i', 's', 'o', 's', 'f', 'i', 'o', 'e', 'e', ' ', ' ', 'e', ' ', 'u', 'n', 'I', ' ', 'a', 'a', 'i', ' ', 'a', 'h', 'u', 'h', 'h', 'y', ',', 'm', 'a', 'b', 'u', 'A', 's', 'a', 'h', 'a', 'n', 'a', 'g', 'a', 'c', 'a', ' ', ' ', 'h', 'h', 'f', 'I', 't', ' ', 'i', ',', 'n', 'g', 'c', 'c', 'n', 'a', 'a', 'o', 'g', 'a', 'o', 'a', ' ', 'a', 'i', 'i', 'i', 's', 'g', 'h', 'i', 'e', 'd', 'n', 'e', 'a', 'l', 's', ' ', ' ', 'a', 'c', 'i', 'h', 'a', 'm', 'i', 'a', 'i', ' ', 'a', 'n', 'h', 'e', 'n', 'g', 'i', 'i', 'c', 'a', 'm', 'i', 'm', 'a', ',', 'a', 'n', ' ', ' ', 'a', ')', 'a', ' ', 'h', 'i', '.', 'a', 'e', 'o', 's', 'y', 's', 'e', 'd', 'l', 'a', 'o', 't', 'n', 'e', 'i', 'o', 'i', 'e', 's', 'n', ' ', 'r', ' ', 'h', 'a', 'e', 'i', 't', ' ', 'd', 'l', 's', 'i', 'h', 'i', ' ', ' ', 'a', ' ', 'a', 't', 's', 'a', 'c', 'a', 'A', 's', 'r', ' ', 'e', ' ', ' ', 'c', 'n', 'd', ' ', 'a', 'a', ' ', 'i', 'a', ' ', 'c', 'h', 'h', 's', 'I', 'c', 'a', 'd', 'a', 'e', 's', 'i', 'e', 'a', 'g', 'u', 'y', 'e', 'n', ' ', 'a', ' ', 'n', 'c', 'd', 'a', 'l', 'n', 's', 'i', 'a', 'i', 'n', 'a', 'i', 'n', 'r', 'e', 'a', 's', 's', 'i', 'n', 'i', 'i', 'n', 'i', ' ', 'n', 'a', ' ', 'h', ' ', 'n', 's', 'a', 'n', 'c', ' ', 't', ' ', 'A', ' ', 'i', 'n', 'a', 'i', 'g', 'a', 'a', 'a', 'g', 'b', ' ', ' ', 'b', 'n', 'a', 's', 'y', 'y', 's', 'e', 'o', ',', 't', 'a', 'A', 't', 'd', 's', 'l', 'g', ' ', ' ', 'e', 'c', ' ', 'h', ' ', 'l', 'e', 'f', ' ', 'n', 's', ' ', ' ', 'h', 'l', 'c', 'n', 'a', 'n', 'e', 'o', 'o', 'h', 'i', 'e', 'a', 'e', 'h', 'i', 'n', 'g', ',', 'a', 'c', 'e', 'a', 'g', 'a', 'g', 't', ' ', 'l', 'l', 'o', 's', 'g', ' ', 'e', 'a', 'n', 'h', 'a', ' ', 't', 'n', 'd', 'a', 'l', 'b', 'h', 'i', 'c', 'd', 'e', 'd', 'h', 'n', 'c', 'n', 'l', 'a', 'n', 's', 'e', 'n', ' ', ' ', ' ', 'i', 'h', 'i', 't', 'i', 'g', 't', 'o', 'o', 'a', 'c', ' ', 'n', ' ', 'a', 'e', ' ', ' ', ' ', 'n', 'c', 'a', 'e', 'n', 's', 'm', 's', 'c', 'y', 'a', 's', 'd', 's', 'd', 't', ' ', ' ', 'h', 'e', 'd', 'f', ' ', 't', 't', 'i', 's', 'a', 'a', ' ', 'n', ' ', ' ', 'e', 's', 'a', 'm', 't', 'f', 'c', 'a', 'h', ' ', 'a', 'a', 'i', 'o', 'a', 'n', 'n', 'i', 'g', 'h', 'c', ' ', 'c', 'e', 'e', ' ', 'h', ' ', 'c', 'm', 's', 'a', 'n', 's', 'c', 'e', 'c', 'm', 'a', ' ', 'c', 'i', 'n', 'e', 'i', 'a', 'c', 'a', 'l', 'a', 'e', 'e', 'e', 'e', 'g', 'e', ' ', ' ', 't', 's', 't', 'e', 'h', 'u', 'a', 'n', 's', 'y', 'a', 'n', 'c', 'l', 'e', 'h', 'u', 'a', 'u', 'a', 'i', 'i', 'i', ' ', 'e', 'a', 'h', 'l', 'o', 'n', 'v', ' ', ' ', ' ', 'a', 'y', 'a', ' ', 'o', 'a', 'h', 'i', 's', 'm', 'h', 'm', 'i', 'm', 'n', 's', 'h', ' ', 'm', 'a', ' ', 'i', 'g', 'e', 'n', 't', 'a', 'n', 'e', 'a', 'i', 'e', 'd', 'n', 'u', 'g', 'm', 'a', ')', 'u', 'a', 'c', 'g', ' ', 'e', 'e', 'e', 'n', 'l', 'n', 'a', ' ', 'a', 'e', 'g', 'i', 'h', 'a', 'd', 'n', 'c', 'm', 'y', 'i', ' ', 'm', 'e', 'n', 'u', ' ', 'i', 'i', 'n', 't', ' ', ' ', 'n', ' ', 'f', 'o', 'n', 'i', 'd', 'f', 'e', 'c', 't', 'm', 'e', 'o', 'a', ' ', 'o', 't', 'n', ' ', 'y', 'c', 'g', 'c', ' ', 'd', 'a', 'c', 'h', 'e', 'u', 'a', 'a', ' ', 'e', 't', 'o', 'a', 'i', 'v', 's', 'g', 'i', 'a', 'y', 's', 'c', 'a', 'm', 'l', 'i', ' ', 'a', 'e', 'g', 'd', 'a', 'h', 'e', 'm', 'a', 'g', ' ', 'c', 'e', 'a', 'e', 'a', 'n', 'c', 'i', 's', 'g', 'g', 'm', ' ', 'a', 'd', 'i', 'f', 'f', 'a', 'n', 'i', ' ', 'd', 'i', 'c', ' ', 'o', 'n', 'd', 'e', 'v', 'i', 'n', 'a', 'g', 'o', 'a', 'e', 'l', ' ', 'n', 'n', 'i', ' ', 'a', 'a', 'a', 's', 'a', 'a', 'e', 't', 'm', 'd', ' ', 'l', ' ', 'h', ' ', 'a', 'm', 'u', ' ', 't', 'r', 'a', 'i', 'i', 't', 'c', 'u', 'A', 'e', 'i', 'm', 'u', 'i', 'a', 'g', 'a', 's', 'e', 'c', ' ', 'n', 'c', 'e', 'g', ' ', 'c', 'i', ' ', 'u', 'a', 'i', ' ', 'c', 's', 'c', 's', 'c', 'v', 'a', 'a', 'e', 'a', 's', 'e', 'e', 'i', ' ', 'c', 'e', 's', 'o', 'a', 'm', ' ', ' ', 'i', 'u', 'c', 'l', 'g', 'h', 'a', 'i', ')', 't', 'i', 'i', 'e', ' ', 'n', 't', 'd', 'l', ' ', 'e', 'i', 'h', 'g', 'm', 'a', 'n', 't', 'e', ' ', 'v', 'm', 'a', 'n', 't', 't', 'v', ' ', 'a', 'a', 'e', 'u', 'e', 'a', 'n', 'a', '.', ' ', ' ', 'g', 'd', 'g', 'a', 'g', 'n', 'a', ' ', 'a', ' ', 'n', ' ', 'a', 'n', ' ', ' ', ' ', ' ', ' ', 'h', ' ', 'a', 'i', 'c', 'a', 'a', 't', ' ', 'n', 'a', 't', 'g', 's', ' ', 'a', 'u', ')', 'l', 'm', ' ', 'n', 's', 'c', 'a', ' ', 's', 'y', 'm', 'y', ' ', 'c', 'c', 'A', ' ', 'i', 'i', 'm', 't', 'b', 'n', 't', 'n', 'e', 'a', 'g', 's', 'a', 't', 'a', 's', 'c', 'A', 'b', 't', 's', 's', 'c', 'd', ' ', 'l', 'e', 'h', 'v', 'h', 'h', 'c', 'e', 's', 'a', ' ', ' ', ' ', 'i', ' ', 'i', ' ', 's', 'h', 'a', 'a', 'a', 'e', 'a', 'a', 'a', 'e', ' ', 'd', ' ', 's', 'c', 'e', 'm', 'n', 'i', 't', 'a', 'e', 'i', 'f', 'a', 'd', 'a', 'a', 'a', 'e', 'n', ' ', 'n', 's', 'm', 'c', 'i', 'a', 'a', 'o', 'd', 'n', 'i', 'e', ' ', 'i', 'n', 'g', 'v', 'n', 'g', 'a', 'm', 'e', 'a', 'h', 'm', 'm', 'c', 'c', 'n', 'h', 'c', ' ', 'h', 'g', 'm', 'o', 'i', 'c', 'y', 'v', 'n', 'i', 'o', 'g', 'n', 'e', 'c', 'e', 's', 'a', ' ', 'e', 'e', 'f', 'y', ' ', 't', 'f', 'h', 'i', 'I', 'n', 'd', 'n', ',', 'e', 'i', 'c', 'i', ' ', ' ', ' ', 's', 't', 'n', ' ', ' ', 's', 'a', 'g', 'a', ' ', 'c', 'e', 'i', 't', 'l', ' ', 'i', 'n', 'n', 'e', 'A', 'a', 'g', ' ', 'I', 't', 'e', 'i', ' ', 't', 's', ' ', ' ', ' ', 'i', ' ', ' ', 'e', 'l', 'g', 't', 't', 'o', 'n', 'd', ' ', 'u', 'n', 'c', 'u', 'l', 'n', 'n', 's', 'i', 'e', 's', 'a', ' ', 'o', 'e', 'c', 'c', 'd', 'e', ' ', 'u', 'u', 'i', 'a', 't', 's', 't', 'l', ' ', 's', ' ', 'n', ' ', 'n', 'a', 'v', 'n', 's', 'i', 'i', 'e', 'f', 'l', 'c', 'u', 'm', 'i', ' ', 'a', ' ', 'd', 'm', ' ', ' ', ' ', 't', 'o', ' ', 'e', ' ', 's', 'a', 'c', 'u', 'l', 'l', 's', 'i', 't', 'i', 'n', ' ', 'h', 'n', 'd', ' ', 't', 's', 'l', 'c', 'y', 'e', 't', 'e', ' ', 't', 'e', 'o', 't', '.', 'r', 'i', 'i', 'l', 'l', 'a', 'c', 'a', 'c', ' ', 'c', 'i', 'r', 'i', 'a', 'e', 'e', ' ', 'n', 'n', 'a', 'l', 'n', 'g', 'n', 'n', 'e', 'e', 'e', 'a', 's', 'b', 'c', ' ', ' ', 'a', ' ', 's', ' ', 'a', 'i', 'v', 'g', 'n', ' ', 't', 'i', 'g', 'o', 'i', ' ', ' ', ' ', 'v', 'e', 'a', 'i', 'a', 'a', ' ', 't', 'a', 'o', ' ', 'i', 'd', 'd', ' ', ' ', 'i', 'b', ' ', 's', 'a', 'n', 'c', 's', 'a', 'g', 'a', 'e', 'e', ' ', 'A', 'e', ' ', 'c', 't', 'g', 'd', 'g', 'I', 'n', 'i', 'c', ' ', 'i', 'a', 'g', 't', 'n', 's', 'n', 's', 'b', 'e', 'o', ' ', 'e', ' ', ' ', ' ', 'l', ' ', 'm', 'a', 'a', 'y', 'n', 'h', 'n', ' ', 'i', ' ', '.', 'm', 'c', 'n', 't', 'n', ' ', ' ', 'g', 'n', 'l', 'n', 'n', 'e', 'l', 'l', 'v', 'o', 'e', 'n', 's', 'g', 'a', 'a', 'o', 'a', 'n', 'i', 'a', 'h', 'i', 'a', 'a', 'n', 's', 'n', 'f', 'h', 'n', '(', ' ', 's', ' ', 'n', 'a', 's', 'g', 't', 'a', 'n', 'i', 'd', 'h', 'e', 'a', 'e', 'a', 'o', 't', 'd', 'i', 's', 'g', 'h', 'g', 'e', 'i', 'n', 'r', 'i', ' ', 's', ' ', 'u', ' ', ' ', 'i', ' ', 't', 'h', ' ', 'c', ' ', ' ', 'a', 't', 'c', ' ', 'a', 'y', 'a', 'a', 'n', 'h', ' ', 'o', 'h', 'o', 'l', 'c', 'a', 'b', 'n', ' ', 'e', 'c', 'a', 'e', 'l', 't', 't', ' ', 'a', 'c', 'v', ' ', 'c', 'a', 'e', 'i', ' ', 'h', 'n', 'a', 'a', 'i', ' ', 'c', 'n', 'a', 'o', 'l', 'a', ' ', ' ', 'a', 'a', 'd', 'n', 'n', 'e', 'i', ')', 'h', ' ', 'd', 'a', ' ', ' ', 'i', 'a', ',', 'f', 't', 'c', 's', 'c', 'a', ' ', 'a', 'u', 'a', ' ', ' ', 'a', 'o', 'g', 'g', 'a', 'u', 'a', 'a', 's', 'g', 'o', ' ', 't', ' ', 'A', ' ', 'a', 'n', 'a', ' ', 'd', 's', 'u', 'e', 'a', ' ', 'h', ' ', 'i', 'i', 's', 'e', 'e', 'c', 'l', 'o', 'n', 's', 'h', ' ', 'o', 'n', 'h', 'r', 'a', 'g', 'c', 'a', ' ', 'b', 'h', 'l', 'e', 't', 'a', 's', ' ', 'n', 'n', ' ', 'i', 'g', ' ', ' ', 'e', 't', ' ', ' ', 's', ' ', 'y', 'i', 't', 'o', ' ', 'i', 't', 'I', 'i', 'e', 'i', 'n', ' ', 't', 't', 'n', 'i', 's', 'e', 's', ' ', 'i', 'e', 'A', 't', ',', ' ', ' ', 'o', ' ', 'e', 'a', 'g', 'a', 'f', 'o', 't', 'a', 'e', 'y', 'e', 'n', 's', 'o', 'a', 'a', 'd', 'i', 't', 'd', 'n', 'i', 'a', ' ', ' ', 'a', ' ', 't', 'c', ' ', 'a', 'e', 'o', 'n', 't', 's', 'e', 'h', 'm', 'v', 'a', 's', 's', 'e', ')', 'e', 'n', ' ', ' ', ' ', 'n', 'a', ' ', 'a', 's', 'c', 't', ' ', 'm', ' ', 'e', 'g', 'a', 'c', ' ', 'i', 'g', 'a', 'a', 'f', 'c', 'i', 'a', 'i', 'g', 'u', 'y', 'd', ' ', 'm', 'h', 'n', 'n', 'a', 'c', 'e', 'u', 'i', ' ', 'e', 'y', 'o', 'h', 'c', ' ', 'i', ' ', 'h', 's', 'a', 'n', 'a', 'c', ' ', ' ', 'y', 'f', 't', 'n', 'a', 'a', ' ', 'm', 'i', 'e', 'a', ' ', ' ', 'c', 'n', 'c', 's', 'g', 'g', 'a', 's', ' ', 'n', 'i', ' ', 'n', 'a', ' ', 's', 'm', 'a', 'n', 'e', 'e', 'u', ' ', ' ', 'i', 'l', 'e', 'c', 'i', 's', 's', ' ', 'a', 'e', 'a', ' ', 'h', ' ', 'a', 'a', 's', 's', 'c', ' ', 'm', 'h', 's', 'a', 'e', 'o', ' ', ' ', ' ', ' ', 'l', ' ', 'i', 'a', 's', 'v', 'c', 'c', ' ', 'i', 'a', 'a', 'i', 's', 's', 'n', 'a', 'e', 'a', 'a', 'n', 'a', 'h', ' ', 'd', 'n', 'g', 'n', ' ', 'o', 'n', 'a', 'a', 'u', 's', 'o', 'r', ' ', 'r', '.', 'e', 'e', ' ', ' ', 'a', 'g', 'n', 'm', 't', 'i', 'u', 'i', ' ', 's', 'l', 'n', 'd', 'o', 'e', 'e', ' ', 'i', 'n', 'm', 'e', 'r', ' ', ' ', ' ', 'i', ' ', 'h', 't', 'i', 'd', 't', '.', ' ', 'i', 'h', 's', 'i', ' ', ' ', 't', 'n', 'a', 'a', 'i', 'l', 'i', ' ', 'e', 'o', ' ', 'n', 't', 's', 'i', 'n', 's', 'i', ' ', 't', 'h', 'm', ' ', 'a', 'c', 'i', 'n', 'a', 'I', 'i', 'i', 'n', 'n', 'b', 'o', 'm', 'a', 'i', 'e', 'l', 'a', 'a', 'a', 'm', 'g', 'n', 'i', 's', 'a', 'n', 'a', ' ', 't', 'a', 'e', 'n', 'e', 'n', 'i', 'c', 'o', ' ', 'h', 'm', 'i', 'a', 'n', 'h', 'a', 'n', 't', 'c', 'e', 'i', 'i', ' ', 'n', 's', 'y', 'i', 's', 'n', ' ', 'i', 'a', ' ', 'f', 'i', ',', 'i', 'c', 's', 'e', 'i', 'o', 'y', 'd', 'a', 'n', ' ', 'n', 's', 'g', 'i', 'e', 't', 'a', 'I', 'a', 'a', 's', 'a', 'm', 'a', 'l', ' ', 'c', ' ', 'a', 'e', 'e', 'e', 'g', ' ', 'm', 'b', 'c', 'c', 't', ' ', ' ', 'i', 'h', 'a', 'n', 'n', 'e', ' ', 'a', 'i', 'e', 'h', 'e', ' ', 'l', ' ', ' ', 'A', 'g', 'A', '.', 'a', 'e', ' ', 'o', ' ', ' ', ' ', ' ', ' ', 'o', ' ', 'n', 'a', 'g', ' ', 'o', 'd', 'e', 'g', 'h', 's', ' ', 'i', 'd', 'g', 'a', 'e', 'u', 'n', 'a', 'n', ' ', ' ', 'b', 'i', ' ', 'h', 'e', 'a', 'i', 'l', 'y', 'n', 'h', 'h', ' ', ' ', 'l', 't', ' ', 's', 'c', 's', 'a', 'd', 'g', 'n', ' ', ' ', 'c', 'i', 'i', 'i', 'c', 'b', 'i', 'n', 'i', 'i', ' ', 'e', 'a', 'e', 'c', 't', 'a', 's', 'n', 'g', 'n', 'a', 'c', 'a', ' ', 'e', 'a', 's', 'i', ' ', ' ', 'A', 'i', ' ', 'n', 'h', ' ', 'n', 'e', 'e', 'n', 'i', 'g', 'h', ' ', 'l', 'i', 'y', ' ', ' ', 'a', ' ', ' ', ' ', 's', 'a', 'c', 'i', 't', 'i', 'g', 'i', 'i', 'n', 'd', 'y', 'n', 'c', 'g', 'i', 'e', 'e', 'e', 'h', 'l', 'c', 'i', 'i', 'i', 'i', 'a', 'e', 's', ' ', 't', 't', 'n', 'c', ')', 'e', 'c', 't', 'a', 'i', ' ', 'u', 'c', ' ', 'm', 'c', 't', 'a', 'n', 't', ' ', 'i', 'n', 'i', 'a', 'b', 'e', 'l', ' ', 'o', 'c', 'h', ' ', 'c', ' ', 'c', ' ', 'e', 'n', 's', 'a', 'e', 'e', 'l', 'o', 'u', 'n', 'i', 'a', 'n', 'f', 'a', ' ', ' ', 'o', 'n', 'e', 'c', 'e', 'e', 'n', 'a', ' ', 'i', 'e', 's', 'a', 'a', 'i', 'd', 's', 'g', 'n', 'o', 'd', 't', 'a', 'o', ' ', 'h', 'g', 'c', 's', 'i', 'n', 'g', ' ', 'a', 'u', 'o', 'e', 'y', 'l', 'a', 'm', 't', 'h', 'h', 'd', ' ', 'n', 's', 'i', 'a', ' ', 'n', 'h', 'u', ' ', 'a', 'v', 'e', 'i', 'o', 'a', 'h', 'n', 'i', 'o', 'g', ' ', 'i', 'e', 'l', 'i', 'o', 'd', 'i', 'f', 'h', 't', 'c', 'I', 'g', 'e', 'c', ' ', 's', 'a', 'n', 'i', 'n', 'e', 'a', 'a', 't', 'e', 's', 'a', 'm', 'e', 'h', 'e', 'c', 'l', 'i', 's', 's', 'a', ' ', 'g', 'e', 'n', 'h', ' ', ' ', 'l', 'c', 't', 'A', 'e', 'y', ' ', 'i', 't', 'i', 'a', 'h', ' ', 'v', 'f', 'e', 'c', ' ', 'a', 'c', 'a', 'a', 'c', ' ', 'a', 'm', 'a', 'a', 'l', ' ', ' ', 't', 'c', 'h', ',', ' ', ',', 'o', 's', 'i', 'i', 'h', 'e', 'c', 'v', ' ', 'i', 'h', 'a', '.', 'e', 'h', 'n', 'i', 'I', 'n', ')', 'a', 'i', 'i', 'a', 'm', 'm', 'y', 'e', 's', 'l', 'r', ' ', 'i', 'e', 'c', 'a', 'm', 'h', 's', 'e', 'e', 'c', 'e', 'e', 'c', 'A', 'e', 'a', ' ', 'h', 'e', ' ', 's', 'A', 'e', 'm', 'a', 'i', ' ', 'e', 'a', 'a', '(', 'A', ' ', 'a', 'f', 'a', 'o', 'g', 'a', 'e', 's', 'b', ' ', 'a', 'a', 's', 'l', 'i', 'i', 'u', 'a', ' ', 'o', 'u', 'o', 'g', ' ', 'l', 'g', 'u', 'v', 's', 's', 'n', ' ', 'i', ' ', 'i', 'm', 'd', ')', 'n', 'e', 't', 'c', 'c', 'a', 'i', 'h', ' ', 'o', 'n', 'a', ' ', 'a', 's', 't', 'e', 'l', 't', 'h', 'h', 't', ' ', 'o', 't', ' ', 'a', 'g', 'e', ' ', ' ', 'h', ' ', 'f', 's', 'c', 'i', ' ', 'm', 'l', 'n', ' ', 'e', 'h', 't', 'i', ' ', 'h', 'e', 's', ' ', ' ', 'g', 'm', 's', 'a', 'm', 'n', 'h', 'a', 't', 't', 'a', 'o', 'f', 'h', 'i', 'c', 't', 'e', 's', 'u', 'i', 'a', 'i', 'v', 'c', 'm', 'h', 'i', 'g', ' ', 'a', 'a', 'o', 'e', 'n', ',', 'u', 'h', 's', 'g', 'a', 's', 'o', ' ', 't', 'n', ' ', 't', 'h', 'g', 'e', 'y', 'a', 't', 'a', 'e', 'd', 'i', ' ', 'i', 's', 'n', 'f', ' ', 'n', ' ', 'h', 'v', 'i', 'o', 't', ' ', 'm', 'u', 'a', 's', 'l', 'm', 'u', 's', 'e', 'i', 'i', ' ', 'e', 'l', 'a', ' ', 'c', 'a', ' ', 'i', ' ', ' ', 'A', ' ', 'a', 'u', 't', 'l', 'a', 'c', 'g', ' ', 'e', ' ', 'o', ' ', 'e', 'm', ' ', 'a', 'g', 'I', 'h', 'b', 't', 'l', 'a', 'a', 'e', 'o', 'i', 'c', 't', 'h', 'I', 'a', 'g', 'e', 'f', 'a', 'o', 's', ' ', 'l', 'v', 'e', 't', 'n', 'y', 'c', ' ', 't', ')', 't', 'b', ',', ' ', ' ', ' ', 'i', ' ', 'o', 'u', 'n', ' ', 'e', ' ', 'e', 'a', 'a', 'a', 'a', 'n', 'g', 'g', 'y', 't', 'n', 'n', 'i', 'e', 'n', 'i', 'n', ' ', 'h', 's', 'h', 'i', 'l', 'n', 'g', 'e', 'c', ',', 'c', 'n', 'c', ' ', 'I', 'c', 'm', 'n', 'n', 'n', 'n', 'n', 'c', 'i', 'g', 'y', 'e', 'e', 'd', 'i', 'a', ' ', 'e', 'n', 'o', 'e', 'i', 'e', 'a', 'a', 'a', ' ', 'n', 'e', 'n', 'o', 'a', 'e', 't', 'd', 'n', 'f', 'i', 'i', 't', ' ', 'u', 'i', 'o', ' ', 'y', 'a', 'a', ' ', 'g', 'i', 'e', 'n', 'a', 'u', ' ', 't', 'h', 'e', ',', 'a', 'i', 's', 'b', 'r', ' ', 'i', 'u', 'i', 'g', 'e', 'u', 'n', 'i', 'a', 'c', 'i', 'g', 'y', 'A', 'n', 'a', 'a', 'e', 't', 'l', 'o', 'h', 'n', 'a', ' ', 'e', ' ', 'g', 'a', 'y', 'n', 'a', 'c', 'n', 'f', 's', 'i', ' ', 'i', 'm', 'y', 't', 'n', 'a', 'a', 'h', 'g', 'o', 'h', 'i', 'a', ' ', ',', 'n', 'c', 'l', 's', 'i', 'n', 's', 'e', 's', 'i', 'A', 's', 'i', 't', 'c', 's', 's', 'a', 'a', ' ', 'e', 's', 'm', 'a', ' ', ')', 'e', 'n', 'd', 'n', ' ', 'l', 'e', 'u', '.', 'a', 'a', 'e', 'h', 'f', 'c', ' ', ' ', 't', 'u', ' ', ' ', 'e', 'a', ' ', 'u', ' ', ' ', ' ', 'b', 'a', ' ', 'o', 't', 'e', 'e', 't', 'c', 'l', 'c', 'e', 'a', 'n', 't', 'b', 'd', 'a', ' ', 'm', 't', 'a', 's', ' ', 'o', 'a', 'f', 'o', 'n', 'r', 'n', 's', 'r', 'c', 'm', 'i', 'n', 'a', 'd', 's', 's', 's', ' ', 'v', 'd', ' ', 'c', ' ', 'u', 's', 'u', 'o', 'n', 'n', 'a', 'v', 'a', 'i', ' ', 'f', 'A', 'i', 'u', ' ', 'v', 'f', 'm', 'n', 'c', 'n', ' ', 'r', 'n', ' ', 'n', 'u', 'a', 'h', 'e', 'e', 'n', ' ', 'c', 'n', 'i', 'c', 'a', 'h', 't', ' ', ' ', ' ', 'd', ' ', 'l', ' ', 'h', 'g', ' ', 'm', 'h', 'a', 't', ' ', 'a', 's', 'g', ' ', 'c', ' ', 'n', 't', 'a', 'h', 'c', 'b', 'e', 's', 'n', ' ', 'g', 'h', 'a', 'e', ' ', 'a', 'c', 'c', ',', 'h', 'o', ' ', 'i', 'o', 'g', 'i', 'a', 'u', 'e', 'f', 'a', 'o', 'a', 'n', 'i', 'a', 'o', 's', 'i', 's', 'e', 'c', 'a', ' ', 'c', 'c', 'i', 'l', 't', 'c', 'e', 't', 'l', 'e', 's', 'i', 'e', 'g', 'e', 'n', 'h', ' ', ' ', 't', 'i', 'y', 's', 't', ' ', 'c', 'a', 'n', 'i', 'c', 's', 'a', 'e', ' ', 'm', ' ', ' ', 'n', 'o', 'm', 'i', 'd', 'a', ' ', 'd', ' ', 'a', 'o', 'l', 'g', 'i', 'e', 'i', 'n', 'm', ' ', 's', ' ', 'b', 'u', 'f', 'i', 'h', 'd', 'n', 'c', 'b', 'n', 'm', 'u', ' ', 'm', ' ', 'f', 'u', 'e', 'c', 'g', 'e', 'c', 'c', ' ', 'i', 'e', 'd', 'd', ' ', 'a', 'e', 's', 't', 's', 'm', 'h', ' ', 'c', 'u', 'd', 'a', ' ', 'a', 'e', 'u', 'a', 'o', 'e', 'n', 'a', 'a', 'e', 'l', 'e', 'c', 'o', 't', ' ', ' ', 'y', ' ', 'a', ' ', 'g', 'a', 'a', 'n', 'h', ' ', 'e', 't', 'n', 'h', 'c', 't', ' ', 'e', 'i', ' ', 'i', ' ', 'c', 'o', 'y', 's', 'a', 'd', 'g', 'm', ' ', 'n', 'n', 's', 'c', 'c', 'a', ' ', 'e', 'i', 'n', 'e', 'c', ' ', 't', 'c', 'c', 'a', 't', 'A', 'v', 'a', 'a', 'c', 'n', ' ', ' ', 'u', 'n', 's', 's', ' ', ' ', 'h', 'e', ' ', 'a', 'a', 'c', 't', 'o', 'b', 'n', 'm', 'n', 'A', ' ', 'u', 'a', 'f', 'l', 'a', 'r', 'i', 'y', 'i', ' ', 's', 'c', 'a', 'i', 'i', 'i', 'e', 'g', ' ', 't', 'e', 'A', ' ', 'e', ' ', 'h', 'a', 'e', 'a', 'a', 'i', 'c', ' ', 's', 'l', 'c', 'e', ' ', 'e', 't', ' ', 'v', 'y', 'm', ' ', 'a', 's', 'b', 'a', 'i', 'a', 'n', ' ', ' ', 'c', ' ', 's', 'd', 'i', 'i', 'h', ')', 'n', 't', 'n', 'c', ' ', ' ', ' ', 'a', 'm', 'A', 'i', 'o', 'h', 'n', 'n', 'a', 'd', 'r', 'i', 'a', 'r', 'u', 'e', 'n', 'd', ' ', 'd', 'a', ' ', ' ', ' ', 't', 'o', 'n', 'n', 'n', 'i', 'v', 'a', 'm', 'a', 'v', 'a', 'A', ' ', 'n', 'h', 't', 'l', ' ', ' ', 'n', 's', 'c', ' ', 'c', 'g', 'n', 'h', 'a', 'h', 't', ' ', 'e', 'a', 't', ' ', 'i', 'e', 'm', ' ', 't', 'c', 'l', 'o', ' ', 'l', ' ', 'a', 'a', 'g', 'a', 'o', 'c', 'a', 'g', 'a', 'i', 'e', ' ', 'c', 'A', 'e', 'a', 'a', 'a', 'n', 'l', 'c', 'a', 'a', 'i', 'a', ' ', 'c', 'a', 'e', ',', 's', 'n', 'n', ' ', 'n', 'a', 'h', 'c', 'n', 'h', ' ', 'n', 'n', 's', 'e', 't', 's', 'A', 'n', 'e', 'g', ' ', ' ', 'r', 'n', 'g', 'y', 'a', 'i', 'o', 'i', 'a', 'i', 'u', ' ', 'i', ' ', ' ', 'e', 'd', 'c', 's', 'a', 's', 'b', 'c', 'y', 'o', 'l', 'n', ' ', ' ', 'a', 'i', 'h', 'h', 'e', 'd', 'f', 'c', 'e', 'm', 'l', 'i', 'n', 'i', 'e', 'a', 's', 'e', 'y', 'i', 'd', 'a', 'a', 'a', 'v', 's', 'c', 'e', 't', 'a', 'a', 'h', 'd', 's', ' ', 'i', ' ', 'e', 'a', 'f', 'i', 'g', ' ', 't', 'n', 'a', 'e', 'a', 'h', ' ', 't', 'c', 'a', ' ', 'a', 'a', 'i', 'y', 'm', ' ', ' ', 'e', 'e', ' ', 's', 'g', 't', ' ', 'o', 'h', 'n', ' ', 's', 's', 's', ' ', ' ', 'a', 's', 'a', 'i', 'e', 'n', 'a', 'i', ' ', ' ', ' ', 'g', 'm', 'v', 'b', 'a', 'd', 'n', 't', 'e', ' ', 'a', 'h', 'm', 'g', 'f', ' ', 'c', 's', 'v', 'a', 'a', 't', 't', ' ', 'a', ' ', 'l', 'a', 's', 'i', 'm', 'd', 'i', 'r', ' ', 't', ' ', 'a', 'y', 'v', 'i', 'c', ' ', 'a', 'i', ' ', 's', 'e', 'n', 'd', 'h', 'a', 'i', 'i', 'n', ' ', 'l', 'n', 'g', 'a', ' ', 'n', ' ', 'e', 'a', 'n', ' ', 'n', 'g', 'o', 'n', 'f', 't', 'c', 'i', 'n', 'a', 'n', 't', 'b', 'n', 'i', 'i', 'v', ' ', 'm', 'd', 'l', 'a', ' ', 't', 'o', 'd', 'n', 'n', 'h', 'a', ' ', 's', 'n', 'm', 'm', 'g', 'e', 'd', 'n', ' ', 'h', 's', 'I', ' ', 'n', 'i', 'n', 'e', 'i', 'd', 'y', 'h', 'e', 'l', 'n', 't', '(', 'g', ',', ' ', 'g', 'n', 't', 'e', 'a', 'n', 'i', 'h', 'l', 'y', ',', 'd', ',', 't', 'd', 'A', ',', ' ', 'e', ' ', 's', ' ', 's', 'e', 'i', 'a', 'o', 'e', ' ', 'd', 'e', ' ', ' ', 'y', 'n', 'a', 'y', 'c', 'e', 't', ' ', 'i', 'e', 'i', 't', 'g', 'o', 'i', ' ', 'c', 'e', 't', ' ', 'e', 'a', 's', ' ', 'i', 'n', 'g', 'n', 'n', 'a', 'o', 'h', 't', 'c', 'm', 'd', 'y', 'i', 'n', 'n', 'd', 'a', 'n', ' ', 'i', 'h', ' ', 'o', 'i', 'i', 'd', 's', 'n', 'a', 's', 'A', 'i', 'a', 'a', 'a', 'A', 'g', 't', 'a', 'a', 'e', 'i', ' ', ' ', ' ', 'a', 'I', 'n', ' ', 's', 'n', 'e', 'i', 'n', ' ', 'n', 'i', 'g', 'i', 't', ' ', 'h', 'm', 'l', 's', 'c', 'd', 'a', 'e', 'n', 'a', 'n', 'h', 'm', ' ', 'b', 'a', ' ', 'n', '(', ' ', 'g', 'u', 'e', 'i', 't', 'a', 'i', 'n', ' ', 'e', 'a', 'e', 'c', 'n', 'd', 'n', ' ', 'a', 'e', ' ', 'g', 'd', ' ', 'g', 'c', 'I', 'i', 'i', 'I', 'i', 's', 'n', ')', 'c', 'e', 'd', 's', 'a', 'c', ' ', 'h', 'c', 'c', 'A', 'g', 't', 't', 'm', ' ', 'h', 's', 'i', ' ', 's', 't', 'o', 'n', 't', 'e', 'n', 'i', 'a', 'e', 'c', ' ', 's', 'i', 'e', 'c', 'i', 'f', 'c', 'c', 's', 'y', 'h', 'e', 's', 's', 'd', 'a', 'e', 'c', ' ', ' ', 'i', 'a', 't', 'h', 'c', 'c', 't', 'A', 'c', 'g', ' ', ' ', 'r', 'i', 'n', 's', 'a', 'a', 'i', 'i', 'm', 's', 's', 'i', 'e', 'h', 'a', 'i', 'n', 'h', 't', 'n', 'e', 'g', 'a', 'g', 'c', 'v', ' ', 'd', 't', 'm', 't', 'm', 'i', 'c', 'n', 't', 'a', 'f', 'i', ' ', ' ', 'm', 'n', 'n', 'o', 'd', 't', 'a', 'i', 'd', ' ', 'a', 't', 'd', 'i', 't', 'c', ' ', 't', 't', 'r', 'a', 'e', ' ', 'g', 'c', 'f', 'a', 'e', ' ', 'i', 'g', 'g', 'a', 'a', 'i', 'i', 'n', 'e', ' ', 'n', 'n', ' ', 'i', 'e', 'u', ' ', 'a', 'e', 's', ' ', 't', ' ', 't', 'm', ' ', 'e', 'o', ' ', 'e', 'i', 'o', 'c', 'a', 'h', 'e', 's', 'i', 'i', 'g', ' ', 'i', 'e', 'e', 'o', 'f', 'i', 'a', ' ', 'e', 'a', 'a', '(', 'c', 'o', ' ', 'd', ' ', 'n', 'l', 'o', 'd', 'a', 's', 's', 'h', 's', '(', 'f', 'e', 'v', 'i', 'a', 'g', 'o', 'e', 'c', 'i', 'e', 'c', 'n', 'a', 's', 'u', 'a', 's', 'a', ' ', ' ', 'l', 'h', 'l', ' ', ' ', 'c', 'v', 'e', 'v', 'i', 'a', 's', ' ', 'a', 't', 'n', 't', 'o', 'a', 'c', 'd', 'o', 'e', 'n', 'A', 'e', ' ', 't', 'i', ' ', 'a', 'o', 'a', 'e', 'e', 'i', 'n', 'd', 'y', 'i', 't', ' ', 'm', 'I', ' ', 'i', 'e', 'l', 't', 'a', ' ', 'h', 't', 'd', 's', 'n', ' ', ' ', 'a', 's', 'l', ')', 'n', 't', 'l', ')', 'c', ' ', 'n', 'd', 'y', 'n', 'a', 'n', 's', 'n', 'a', ' ', 'm', 's', ')', 'a', 'a', 'n', 'e', ' ', 'i', ' ', 'n', '(', 'a', ',', ' ', 'v', 'o', 'g', 'c', 'g', 'a', 'a', 'e', ' ', ' ', 'f', 'd', 's', ' ', 'i', 'h', 't', 'b', ' ', 's', ' ', 'y', 'a', 'i', 'e', ' ', 'v', 'n', ' ', 'a', 'h', 'h', 'u', 'a', 'h', 'a', 'v', 'a', 'h', 'c', 'f', 'a', 'e', 'g', 'n', 'd', 'g', 'i', 'e', 'a', ' ', 'i', 'y', 'a', 'a', 'a', ' ', ' ', 'e', 'n', ' ', 'g', 'f', 't', 'c', 'e', ' ', 't', ' ', 'i', 'f', 'f', 'v', 'd', 'u', 'n', 'n', 'e', 's', 'l', 'a', 'c', 'v', 'g', '(', 'o', 'v', 'r', ' ', 'd', 'n', ' ', 'e', 'a', ' ', 'a', 't', 'a', 't', 'a', 'i', 'u', 'a', 'g', 'u', 'a', 't', 'i', 'i', ' ', '(', 'd', 'o', 'n', 'a', 'c', 'a', 'n', 't', 'l', 'i', 's', ' ', 'h', 't', 'i', 'b', 'h', 'i', 'c', 't', 'o', 'c', 'o', 'e', 'i', 'h', 'f', 'a', 'a', 'y', 'a', 'e', 'A', ' ', 'l', 'd', ' ', ' ', 'n', 'c', 't', 's', 'i', 'i', 'f', 's', ' ', 'i', 'n', 't', 'a', 'a', 't', 'l', 'a', ' ', 's', 'e', ' ', ' ', 't', 't', ' ', 'y', 't', 'a', 'a', 'e', ' ', 'd', ' ', ' ', 'c', ' ', 'd', 'b', 'd', 'b', 's', 'y', 'i', 'i', 'i', 'e', 'h', ' ', 's', 'd', ',', ' ', ' ', 'i', 'g', 'a', 'd', 's', ' ', 'e', 'n', ' ', 'h', ' ', 'c', 'a', 'h', 'd', 'i', ' ', ' ', 'y', ',', 'n', 'A', 'c', 'c', 'c', ' ', 'i', 'y', 'g', 'a', 'i', 'a', 'n', 'd', 'n', 'h', 'e', 'f', 'u', 'l', 'a', 'o', ' ', ' ', 'c', 'f', ' ', ' ', 'a', 's', 'e', 'a', 'c', 'c', 'i', 'n', 'i', 'h', 'a', ' ', '.', 'i', 'i', 's', 'c', 'a', 't', 'y', 'y', 'f', 'n', 'h', 's', 'o', 'n', ' ', 'a', 'd', 'd', 'o', 't', 's', 'h', 'a', ' ', 'c', 's', 'u', '.', 'm', 'a', 'v', 's', 't', 'i', 'c', 'e', 's', 'A', 'e', 'a', 'i', ' ', 'n', 'i', 'a', ' ', 's', 'n', 'e', ' ', ' ', 'i', ' ', 'e', 'a', 'e', 'a', 'i', 'c', 'c', ' ', 'n', 'y', ' ', 'a', ' ', ' ', 'v', 'a', 'g', 'm', 'I', 'a', 'i', 's', 'y', ' ', 'c', ' ', 'a', 'a', 'c', 'i', 'a', 'A', 'c', 'v', 's', 'o', 'c', 'a', 'h', 's', 'n', '(', 'e', 's', 's', 'a', 'o', 'n', 'e', 'c', 'c', 'n', 'e', 'e', 'c', ' ', 'u', 's', 'i', 'c', 'o', 'n', 'e', 'a', 'I', 'a', 'i', 'm', 'c', 'a', 'g', 'b', 'e', 'c', 's', 'i', 'g', 'a', ' ', 't', 'n', 'u', ' ', 'l', 'c', 'i', ' ', 'n', 'e', 'u', 'e', ' ', 'o', 'g', 'n', '(', ' ', ' ', ',', 'd', 'n', 't', 'l', 'y', 'h', 'i', 'l', 'c', ' ', 'n', 's', ' ', 'e', 'l', 'a', 'n', 'i', 't', 't', 'a', 'l', 'n', 'n', ' ', 's', 't', 'i', 's', 'c', 'i', 'i', 'a', 'u', 'y', 'o', 'n', ' ', 'e', 'c', 't', 'a', 'a', 'a', 'a', ' ', 'u', ' ', ' ', ' ', ' ', 'i', 'g', 'u', ' ', ' ', 'a', 'e', 'i', ' ', 'c', 'a', 'i', 'n', 'a', ' ', ' ', 'a', ' ', 'e', 't', 'o', ' ', 'g', 'b', 'l', 'c', 'a', ' ', 'e', ' ', 'h', 't', 'd', ' ', ' ', 'l', 'l', 'n', 'i', 'c', ' ', 'e', ' ', 'i', 'd', 't', 'e', 'd', 'e', 'c', 'r', 'n', 'o', 't', 'a', 'm', 't', ' ', 's', 'c', 's', 's', ' ', 'i', 'a', 'e', 't', 'i', 'a', 's', 'a', 'a', ' ', 'y', 'e', ' ', 'n', 'm', ' ', 'g', 'a', 'a', 't', 'e', 'e', 'c', 'i', ' ', 'i', 'o', 's', 'd', ' ', 'i', 'i', 'b', 't', 's', 'a', 'a', 'c', ' ', 'o', 'e', 'i', 'l', 'n', ' ', 'n', 'y', 't', 'a', ' ', 'd', 'h', 'e', 'n', ' ', 'a', 'c', 'a', 'a', 'b', 'o', 't', ' ', 'a', 'u', 'i', 's', ' ', 'l', 'n', 't', ' ', 'e', 'i', ' ', ' ', 'a', 'e', 'm', 'b', ' ', 't', ' ', 's', 'a', ' ', ' ', ' ', 'h', 'a', 'h', 'i', ' ', 'l', 'n', 'n', ' ', 'i', 'i', ' ', 'n', 'b', 'f', 'a', 'n', 'y', 'a', 'e', 'm', 'i', 'o', 'y', 'n', 'i', 'h', 'e', 'u', 'g', ' ', 'n', 'c', 'A', 'i', 'a', 'i', 'n', ' ', 'f', ',', 'o', 'c', 'i', ' ', 's', 't', 'v', 'a', 'f', 'i', 'g', 't', ' ', 's', 't', 'd', 'g', ' ', 't', 'n', 'm', ' ', 'e', 'c', 'i', 'l', ' ', 'l', 'a', 'f', 'g', 'a', '.', 'c', 'h', 'n', 'd', ' ', 'c', 'n', 'e', 'e', 's', 'a', 'i', 'c', ' ', 'a', ' ', 'd', 'i', 'a', 'e', ' ', 'l', 'y', 'e', 'o', 'n', 'h', 'i', 'i', 'i', 'c', 'i', '.', ' ', 'A', 'u', 'i', 'm', 'o', 'g', ' ', ' ', 'i', 'a', ' ', 'i', 'b', 'l', 'n', 'e', 't', 'c', 'n', 'a', 't', 'd', 'd', 'g', 'b', 'a', 'o', ' ', 'n', ' ', 'e', 'n', 'a', 'i', 'd', 'i', 'c', 'i', 'a', 't', 'n', 'c', 'd', 'e', 'a', 'n', 'y', 'I', 'c', 'a', 'u', ' ', 'e', 'e', 'i', ' ', ' ', 'e', 'l', 'n', ' ', 'i', 'i', 'h', 'g', 's', 's', 'a', 'n', 'a', 'a', 'n', 'a', 'u', 't', ' ', 'a', 'a', 'o', 'm', ' ', 's', ' ', 'a', 'e', 'i', 'v', 'a', ' ', ' ', 'n', 'e', 'y', 'c', ' ', 'n', 'b', 'o', 'a', ' ', 'o', ' ', ' ', 'i', 'a', ' ', 'i', 't', 'g', 'a', 'd', 'm', ' ', 'c', ' ', ',', 'a', 'i', 'n', 'h', 's', 'e', 't', 'h', ' ', 'i', 'o', ')', 'c', 's', 'c', ' ', ' ', 't', 'h', ' ', 'd', 'u', ' ', 'n', 'a', 'n', 'n', 'e', 'e', 'h', 'e', ' ', 'a', 'n', 'a', 's', 's', 'd', 'a', ' ', ' ', 'i', 'y', 'a', 'a', 'a', 'l', ' ', 'i', 'e', 'h', 'a', 'n', ' ', 'i', 'l', 'a', 'a', 'a', 'n', 'a', 'n', 'e', 'g', 'o', 'a', 'n', ' ', 'i', 'e', 'h', 'o', 'v', ' ', ' ', 'a', 'e', 'f', 'a', 'l', ' ', 'i', 'i', 'f', 's', 'a', 's', 'i', ' ', 'm', ' ', ' ', 'm', 'e', ' ', 'a', ' ', 'e', 'c', 'a', 'g', 'n', ' ', 's', 't', 'a', 'h', 'n', 'd', 'l', 'f', 'd', 'c', 'e', 'e', 'u', 'm', 's', 'e', 'a', ' ', 'g', ' ', ' ', 'c', 'a', ' ', 'i', 'e', 'l', 'i', 'a', ' ', 'n', ' ', 'g', 'c', 'l', 'A', ' ', 'h', 'r', ' ', 'A', 'd', 'l', ',', 'a', ' ', 'e', ' ', 'i', 'a', ' ', 'n', 'd', 'v', 'e', 'f', 'n', ' ', ' ', 'i', 't', 'i', 'v', 'a', 'n', 'i', 't', 'e', 's', 'i', 'i', 'c', ' ', 'e', 'v', ',', 'n', 'y', 'a', 'y', 'c', 'g', 's', 'm', 'c', ' ', 'h', 'i', 'n', 'n', 'i', 'd', 'i', 'i', 'b', 'l', 'a', 'i', 'i', 'a', 'i', ' ', 'f', 'I', 's', ' ', 'y', 'f', ' ', 'g', ' ', 'o', 'n', 'n', 's', 'g', 'i', 't', ' ', ' ', ' ', 'a', 'v', 'h', 'a', 'n', 't', 'e', ' ', 'o', 't', ',', 'g', 'e', ' ', ' ', ' ', 'n', 'i', 'a', ' ', 'e', 'n', 'a', 'a', 't', 'y', ' ', 'l', 't', 'i', 'a', ' ', 'g', 'h', 'c', 'a', 'e', 'i', 'g', 'e', 'h', 'o', 'a', ' ', 'a', ' ', ' ', ' ', 'a', 'c', 'a', ' ', 'n', 'h', 'm', 's', 'a', 'h', 'i', 'f', 'l', 'e', 't', 'y', 'i', 'a', 'i', 'o', 'n', 'd', ' ', 'd', 'g', 'I', 't', 'n', 'e', 'n', 'c', 'a', 'c', 'i', 'e', 't', 'l', 'a', ' ', 's', 'a', 't', 'm', 'n', ' ', 'I', 'e', 'a', ' ', 'n', ' ', 'a', 'a', 'n', 'i', 'm', 's', 't', 'o', 'n', 's', 'b', 'i', 'i', 'a', 'f', ' ', ' ', 'f', 'e', 'r', 'g', ' ', 'e', 'l', 'n', 'a', 'o', ' ', 'a', 's', 'e', 'n', 'd']\n"
     ]
    }
   ],
   "source": [
    "#预测结果转化到字符\n",
    "y_train_predict_char = [int_to_char[i] for i in y_train_predict]\n",
    "print(y_train_predict_char)"
   ]
  },
  {
   "cell_type": "code",
   "execution_count": 18,
   "id": "41722579",
   "metadata": {},
   "outputs": [
    {
     "name": "stdout",
     "output_type": "stream",
     "text": [
      "0.7013142174432497\n"
     ]
    }
   ],
   "source": [
    "#准确率\n",
    "from sklearn.metrics import accuracy_score\n",
    "accuracy_train = accuracy_score(y_train,y_train_predict)\n",
    "print(accuracy_train)"
   ]
  },
  {
   "cell_type": "code",
   "execution_count": 19,
   "id": "f6958cc3",
   "metadata": {
    "scrolled": true
   },
   "outputs": [
    {
     "name": "stdout",
     "output_type": "stream",
     "text": [
      "['a', 'u', 'a', 'g', 'n', 'n', 'l', 'i', ' ', 'e', 'c', 'v', 'm', 'g', 'o', 'u', ' ', 'c', 'i', ' ', 'n', 'a', 'i', 't', 'e', 'm', 'g', 'a', 'A', 'u', ' ', 's', 'u', 'a', 'a', 'c', 't', ' ', 'm', 'e', 'i', 'a', 'c', 'm', ' ', 'l', 'm', 'f', 's', 'l', 's', 'n', 'n', 'n', ' ', 'i', 'e', 'e', ' ', 'h', 'm', ' ', 'e', 'd', 'r', ' ', 'n', 'l', 'c', ' ', 'v', 'r', ' ', 'i', 'o', 'u', 'c', 'e', 'e', 'l', 'i', ' ', 'e', ' ', 'c', 'A', 'g', ' ', 'n', 'o', 'i', 'i', 'i', 'h', 'a', 'a', 'c', ' ', 'n', 'e', 'n', 'i', 'u', 'm', 'I', 'a', 'd', 'c', ' ', ' ', 't', 's', 'b', ' ', 's', 's', 'e', 'g', ' ', 'e', ' ', 'e', 'a', 'n', 'f', 't', 'b', 'o', 'i', 'i', 'l', 'g', ' ', 'm', 'n', 'c', 'e', 's', ' ', 't', 'g', 'd', ' ', 'v', 'v', 't', 'g', 'i', ' ', 'h', 'g', ' ', 'm', 'h', 'a', 'e', ' ', 'a', 'i', ' ', ' ', ' ', ' ', 'a', 'e', 'g', 'i', 'm', 'd', 'i', 'e', 'i', 'i', ' ', 'i', 'a', 'a', 'o', ' ', 'o', 'u', 'a', ' ', 'o', 'c', ' ', 'f', 'e', ' ', 't', 'f', 'e', 'c', ' ', 'g', 'a', 'h', 'n', ' ', 'g', ' ', 'g', 'h', 'i', ' ', 'a', ' ', ' ', ' ', 'l', 'o', 'i', 'e', 'n', 't', 'f', 's', 'd', 'g', ' ', 's', 'a', 'o', 'e', 'y', 'i', 'c', 'i', 'n', 'a', 'c', 'n', ' ', ' ', 'a', 'i', 'e', 'a', 'e', 'c', 'a', ' ', '.', 'c', 'h', ' ', ' ', 'a', ' ', 'n', 'm', 'r', 'a', 'm', ' ', 'd', 'c', 'v', 'm', 'g', 'u', 'd', 'm', 'e', ' ', 'i', 'a', 'i', 'n', 'a', 'e', 'n', ' ', 'a', 'i', 'i', ' ', ' ', ' ', 's', ' ', 'l', 'd', 'n', 's', 'a', 'e', 'e', 'g', 'g', 'i', 'i', 't', 'f', 'i', 'a', 'a', 'm', 'a', 'h', 'a', 'e', 'c', 'c', 'n', ' ', 'd', 'e', 'e', 't', 'c', 'd', 'o', 'r', ' ', 't', 'h', 't', 'a', 'c', 'a', 'i', ' ', 'i', 'n', 'n', 'n', ' ', 'n', ' ', 'a', 'a', 'a', 'e', ' ', 'a', 'r', 'r', 't', 's', 'g', 'g', 't', ',', 'e', ' ', 's', 'n', ' ', 'v', 's', ' ', 'c', 'm', 'l', 'a', 'i', 't', 'e', 'f', 'a', 'g', 's', 'c', ' ', ' ', 'e', 'e', 'A', 'i', 'A', 's', 'n', ' ', 's', 'e', 'm', ' ', ' ', 'g', ' ', ' ', 'n', 'i', 'l', 'e', 'y', 'I', 'n', 'a', 'a', 'g', ' ', 'l', 'a', 'a', 's', 's', 'l', 'i', 'd', 'a', 'n', 'h', 'l', 'i', 'e', ' ', 'e', 'g', 'y', 'a', 'd', 'a', 's', 'i', 'h', 'n', 'c', 'l', 'g', 'i', 'y', ' ', 'u', 'e', 'a', 'u', 'h', 'i', 'h', 'b', 'e', 'd', ',', 'l', ' ', 'e', ' ', 'l', 't', 'e', ' ', 'n', 'i', 'a', 's', 'c', 'd', 'i', 'e', 'i', 'e', 'c', ' ', ' ', ' ', 'c', 'n', ' ', 'i', 'i', 'a', 'n', 's', 'e', 'n', 'c', 'c', 'a', ' ', 'n', 'g', ' ', 'i', ' ', 'b', 'e', 'u', 's', 'a', 'y', ' ', 'c', 'l', 'a', 'c', 'a', 'a', 'n', ' ', 'a', 'v', 'g', 'e', 's', 'e', 's', 's', 'f', 'b', 'c', 'v', 'l', 'y', 'i', 'n', 'v', 'a', 'l', 'o', ' ', 'e', 'n', 'i', 'm', 'g', 'h', ' ', 't', 'c', 'l', ' ', 'y', 'm', 'a', ' ', 'n', 'g', '.', 'i', 'm', 'c', 's', 'n', 's', ' ', 'c', 's', 'g', ' ', 'a', ' ', 'e', 'i', '.', 'a', 'c', 's', 's', 'e', 'h', ' ', 'e', 'h', 'n', 'h', 'a', ' ', 's', 'a', 'l', 'o', 'l', 'n', ' ', 't', 'm', ' ', 't', 'u', 's', 'a', 'i', 'c', 'i', 'n', 's', 'd', 'i', 'a', 'n', 't', 'c', 's', 'l', 't', 'n', 'i', 'o', 'i', 'v', 'v', 'I', 'g', ' ', 'o', 'i', 's', 'e', 'n', 'n', 'A', 'e', 'a', ' ', 'a', '(', 'm', 'd', ' ', '(', 'h', 'o', 'n', 't', ' ', ' ', 'a', 'i', ' ', 'm', 'a', 't', 'i', 'h', ' ', 's', 'g', 'n', 'u', 'o', 'n', 'a', ' ', 'o', 'a', ' ', 'v', 'a', ' ', ' ', 'l', 'I', 'm', ' ', 'b', 'c', 'n', 's', 'a', 'g', ' ', 'n', 'n', 'i', 'a', 'o', 'i', 'g', 'i', 't', 'a', 'y', 'o', 'u', 'n', 't', 'g', 'e', 'A', 'c', ' ', ' ', 'e', 'd', ' ', 'c', 'y', 'i', 'g', 'u', ' ', 'd', 'i', 'e', ' ', ' ', 'i', ' ', 'c', 'n', 'a', 'u', 'm', 'n', 'a', 'i', 'e', ' ', 'e', 'l', ' ', 'd', 'i', 's', 'n', 'e', 'e', 't', 'a', 'a', 'n', 'o', 'o', 'g', ' ', 'i', ' ', ' ', 's', 's', 'o', 'i', 'h', 'd', 'A', '.', 'l', 'o', ' ', 'o', ' ', 'i', 'b', 'h', 'o', ' ', 'u', 'e', 'i', ' ', 'c', 'n', ' ', 'n', 'n', 'i', 'f', 'e', 'e', 'a', ' ', 'o', 'a', 's', 'i', 'a', 'i', 'c', 'a', 'a', 'a', 'n', 'n', 'c', 'h', 'b', 's', 'i', ' ', ' ', ' ', 't', 'e', 'a', 'a', 'n', 'h', 'e', ' ', 'n', 'a', 'a', 'a', 'o', 'e', ',', 'n', 'i', 'm', 'a', 'n', 'd', 'o', 'm', 'c', 'n', 'a', ' ', 'i', 's', 'm', 'i', 't', 's', 'a', 'l', 'o', 'n', ' ', 'u', 'u', 'i', 'a', 'h', ' ', 'g', 'n', 'u', 'n', 's', ' ', 'a', 'u', ' ', 's', 't', 'm', 'h', 'a', 's', 'g', 'u', 'i', ' ', 'h', 'g', 'h', 's', 't', 'c', 'a', 'l', ' ', 'i', 'e', ' ', ' ', 'f', 'a', 'a', 'e', 'd', 's', 'i', 'l', 'u', 's', 's', 'n', ' ', 't', 's', 't', ' ', 'a', 'n', 'd', 'a', 'a', 'm', '.', 'I', 'm', 'a', 'l', ' ', 'i', ' ', 't', 'i', 'g', 's', 'a', 'm', 'a', 'a', 'n', 'h', 's', 'i', 'i', 's', ' ', 'd', 'b', 'n', 'h', 'a', 'm', 'a', 's', 's', 't', ' ', 'a', 't', ' ', ' ', ' ', 'a', 's', 'a', 's', 'a', 'i', ' ', 'c', 'a', 'n', 'a', ' ', ' ', 'g', 'e', 'a', 'u', 'a', 'n', 'i', 'a', 'e', 't', 't', 'i', 'e', 'A', 'i', 'c', 'g', 'e', 't', ' ', 's', 't', 'v', 'h', 'n', 'e', 'g', 'v', 'v', 'c', ' ', 'i', ' ', 't', 'i', 't', ' ', ' ', 'i', 's', 'e', 'e', 'e', 'o', 'i', 'i', 'o', ' ', 'u', ' ', 'c', 'o', ' ', 'i', 'd', 'i', 's', 'i', 'a', 's', 'a', 'i', 'i', ' ', 'i', ' ', 'l', 'n', 'a', 'g', ' ', 'y', 'e', 'a', 'h', 'A', 'e', ' ', 'A', 'i', 'g', 's', 'i', 'v', 'n', 'y', 'o', 'a', 'a', ' ', 't', 'b', 'e', ' ', 'n', 'g', 'u', 'n', 'a', ' ', 's', 'i', 'v', ' ', 'g', 'f', 'i', 't', ' ', 'e', 't', 'g', ' ', 't', 'e', ' ', 'a', ' ', 'e', ' ', ' ', 'a', ' ', 'u', 'u', '.', ' ', ' ', ' ', 'g', 'i', 'a', 'd', 'n', 'a', 'e', 'l', 'o', ' ', ' ', ' ', 't', 'i', 'a', 'n', 'A', 'n', 's', 'a', 'd', 'u', 'i', ' ', 'n', ' ', 'n', 't', 'c', 'g', 'n', ' ', 'l', ' ', 'g', ' ', 'm', 'i', 'a', 'o', ' ', 'y', 'i', 'i', ',', ' ', 'a', 'n', 'f', 'l', 'a', 'e', 'c', 'e', 'l', 's', 'n', ' ', ' ', 'a', 'l', 'e', 'a']\n"
     ]
    },
    {
     "name": "stderr",
     "output_type": "stream",
     "text": [
      "C:\\Users\\zheng\\AppData\\Roaming\\Python\\Python38\\site-packages\\keras\\engine\\sequential.py:450: UserWarning: `model.predict_classes()` is deprecated and will be removed after 2021-01-01. Please use instead:* `np.argmax(model.predict(x), axis=-1)`,   if your model does multi-class classification   (e.g. if it uses a `softmax` last-layer activation).* `(model.predict(x) > 0.5).astype(\"int32\")`,   if your model does binary classification   (e.g. if it uses a `sigmoid` last-layer activation).\n",
      "  warnings.warn('`model.predict_classes()` is deprecated and '\n"
     ]
    }
   ],
   "source": [
    "#测试数据的预测\n",
    "y_test_predict = model.predict_classes(X_test)\n",
    "y_test_predict_char = [int_to_char[i] for i in y_test_predict]\n",
    "print(y_test_predict_char)"
   ]
  },
  {
   "cell_type": "code",
   "execution_count": 20,
   "id": "ee22bfa6",
   "metadata": {},
   "outputs": [
    {
     "name": "stdout",
     "output_type": "stream",
     "text": [
      "0.681899641577061\n"
     ]
    }
   ],
   "source": [
    "accuracy_test = accuracy_score(y_test,y_test_predict)\n",
    "print(accuracy_test)"
   ]
  },
  {
   "cell_type": "code",
   "execution_count": 21,
   "id": "a744718b",
   "metadata": {},
   "outputs": [
    {
     "name": "stdout",
     "output_type": "stream",
     "text": [
      "(79, 30, 33) 79\n"
     ]
    }
   ],
   "source": [
    "#新字符串的预测\n",
    "new_letters = 'Artificial intelligence (AI), sometimes called machine intelligence, is intelligence demonstrated by machines'\n",
    "X_new,y_new = data_preprocessing(new_letters,time_step,features,char_to_int)\n",
    "print(X_new.shape,len(y_new))"
   ]
  },
  {
   "cell_type": "code",
   "execution_count": 22,
   "id": "15c9abc7",
   "metadata": {
    "scrolled": true
   },
   "outputs": [
    {
     "name": "stdout",
     "output_type": "stream",
     "text": [
      "[19  6 12  6  7  7 27 21  7 17  6  6  6 26  0  1 17 27  6 22 29  0 13 21\n",
      " 17  0 13 19 21  6 26  0 14 21 13 22 21 17 17  0  6 17  0 13 19 21 26 26\n",
      "  0 14 21 13 22 21 17  1 21 27 12 13  7 17 15  6 21 21  1 17 31 30 17 27\n",
      "  6 22 29  0 13 22  7]\n"
     ]
    },
    {
     "name": "stderr",
     "output_type": "stream",
     "text": [
      "C:\\Users\\zheng\\AppData\\Roaming\\Python\\Python38\\site-packages\\keras\\engine\\sequential.py:450: UserWarning: `model.predict_classes()` is deprecated and will be removed after 2021-01-01. Please use instead:* `np.argmax(model.predict(x), axis=-1)`,   if your model does multi-class classification   (e.g. if it uses a `softmax` last-layer activation).* `(model.predict(x) > 0.5).astype(\"int32\")`,   if your model does binary classification   (e.g. if it uses a `sigmoid` last-layer activation).\n",
      "  warnings.warn('`model.predict_classes()` is deprecated and '\n"
     ]
    }
   ],
   "source": [
    "y_new_predict = model.predict_classes(X_new)\n",
    "print(y_new_predict)"
   ]
  },
  {
   "cell_type": "code",
   "execution_count": 23,
   "id": "39477ce8",
   "metadata": {},
   "outputs": [
    {
     "name": "stdout",
     "output_type": "stream",
     "text": [
      "['t', 'a', 'o', 'a', 's', 's', 'm', 'e', 's', ' ', 'a', 'a', 'a', 'l', 'i', 'd', ' ', 'm', 'a', 'c', 'h', 'i', 'n', 'e', ' ', 'i', 'n', 't', 'e', 'a', 'l', 'i', 'g', 'e', 'n', 'c', 'e', ' ', ' ', 'i', 'a', ' ', 'i', 'n', 't', 'e', 'l', 'l', 'i', 'g', 'e', 'n', 'c', 'e', ' ', 'd', 'e', 'm', 'o', 'n', 's', ' ', 'u', 'a', 'e', 'e', 'd', ' ', 'b', 'y', ' ', 'm', 'a', 'c', 'h', 'i', 'n', 'c', 's']\n"
     ]
    }
   ],
   "source": [
    "y_new_predict_char = [int_to_char[i] for i in y_new_predict]\n",
    "print(y_new_predict_char)"
   ]
  },
  {
   "cell_type": "code",
   "execution_count": 24,
   "id": "e01266c3",
   "metadata": {
    "scrolled": true
   },
   "outputs": [
    {
     "name": "stdout",
     "output_type": "stream",
     "text": [
      "Artificial intelligence (AI),  --predict new letter is>>> t\n",
      "rtificial intelligence (AI), s --predict new letter is>>> a\n",
      "tificial intelligence (AI), so --predict new letter is>>> o\n",
      "ificial intelligence (AI), som --predict new letter is>>> a\n",
      "ficial intelligence (AI), some --predict new letter is>>> s\n",
      "icial intelligence (AI), somet --predict new letter is>>> s\n",
      "cial intelligence (AI), someti --predict new letter is>>> m\n",
      "ial intelligence (AI), sometim --predict new letter is>>> e\n",
      "al intelligence (AI), sometime --predict new letter is>>> s\n",
      "l intelligence (AI), sometimes --predict new letter is>>>  \n",
      " intelligence (AI), sometimes  --predict new letter is>>> a\n",
      "intelligence (AI), sometimes c --predict new letter is>>> a\n",
      "ntelligence (AI), sometimes ca --predict new letter is>>> a\n",
      "telligence (AI), sometimes cal --predict new letter is>>> l\n",
      "elligence (AI), sometimes call --predict new letter is>>> i\n",
      "lligence (AI), sometimes calle --predict new letter is>>> d\n",
      "ligence (AI), sometimes called --predict new letter is>>>  \n",
      "igence (AI), sometimes called  --predict new letter is>>> m\n",
      "gence (AI), sometimes called m --predict new letter is>>> a\n",
      "ence (AI), sometimes called ma --predict new letter is>>> c\n",
      "nce (AI), sometimes called mac --predict new letter is>>> h\n",
      "ce (AI), sometimes called mach --predict new letter is>>> i\n",
      "e (AI), sometimes called machi --predict new letter is>>> n\n",
      " (AI), sometimes called machin --predict new letter is>>> e\n",
      "(AI), sometimes called machine --predict new letter is>>>  \n",
      "AI), sometimes called machine  --predict new letter is>>> i\n",
      "I), sometimes called machine i --predict new letter is>>> n\n",
      "), sometimes called machine in --predict new letter is>>> t\n",
      ", sometimes called machine int --predict new letter is>>> e\n",
      " sometimes called machine inte --predict new letter is>>> a\n",
      "sometimes called machine intel --predict new letter is>>> l\n",
      "ometimes called machine intell --predict new letter is>>> i\n",
      "metimes called machine intelli --predict new letter is>>> g\n",
      "etimes called machine intellig --predict new letter is>>> e\n",
      "times called machine intellige --predict new letter is>>> n\n",
      "imes called machine intelligen --predict new letter is>>> c\n",
      "mes called machine intelligenc --predict new letter is>>> e\n",
      "es called machine intelligence --predict new letter is>>>  \n",
      "s called machine intelligence, --predict new letter is>>>  \n",
      " called machine intelligence,  --predict new letter is>>> i\n",
      "called machine intelligence, i --predict new letter is>>> a\n",
      "alled machine intelligence, is --predict new letter is>>>  \n",
      "lled machine intelligence, is  --predict new letter is>>> i\n",
      "led machine intelligence, is i --predict new letter is>>> n\n",
      "ed machine intelligence, is in --predict new letter is>>> t\n",
      "d machine intelligence, is int --predict new letter is>>> e\n",
      " machine intelligence, is inte --predict new letter is>>> l\n",
      "machine intelligence, is intel --predict new letter is>>> l\n",
      "achine intelligence, is intell --predict new letter is>>> i\n"
     ]
    }
   ],
   "source": [
    "for i in range(0,X_new.shape[0]-30):\n",
    "    print(new_letters[i:i+30],'--predict new letter is>>>',y_new_predict_char[i])"
   ]
  },
  {
   "cell_type": "code",
   "execution_count": null,
   "id": "fc516e21",
   "metadata": {},
   "outputs": [],
   "source": []
  },
  {
   "cell_type": "code",
   "execution_count": null,
   "id": "32975bae",
   "metadata": {},
   "outputs": [],
   "source": []
  },
  {
   "cell_type": "code",
   "execution_count": null,
   "id": "736d4899",
   "metadata": {},
   "outputs": [],
   "source": []
  },
  {
   "cell_type": "code",
   "execution_count": null,
   "id": "d1dd3731",
   "metadata": {},
   "outputs": [],
   "source": []
  },
  {
   "cell_type": "code",
   "execution_count": null,
   "id": "305229b0",
   "metadata": {},
   "outputs": [],
   "source": []
  },
  {
   "cell_type": "code",
   "execution_count": null,
   "id": "83f38320",
   "metadata": {},
   "outputs": [],
   "source": []
  },
  {
   "cell_type": "code",
   "execution_count": null,
   "id": "00525d92",
   "metadata": {},
   "outputs": [],
   "source": []
  },
  {
   "cell_type": "code",
   "execution_count": null,
   "id": "384c0045",
   "metadata": {},
   "outputs": [],
   "source": []
  },
  {
   "cell_type": "code",
   "execution_count": null,
   "id": "3db40cb2",
   "metadata": {},
   "outputs": [],
   "source": []
  },
  {
   "cell_type": "code",
   "execution_count": null,
   "id": "e2ed6862",
   "metadata": {},
   "outputs": [],
   "source": []
  }
 ],
 "metadata": {
  "kernelspec": {
   "display_name": "Python 3",
   "language": "python",
   "name": "python3"
  },
  "language_info": {
   "codemirror_mode": {
    "name": "ipython",
    "version": 3
   },
   "file_extension": ".py",
   "mimetype": "text/x-python",
   "name": "python",
   "nbconvert_exporter": "python",
   "pygments_lexer": "ipython3",
   "version": "3.8.10"
  }
 },
 "nbformat": 4,
 "nbformat_minor": 5
}
